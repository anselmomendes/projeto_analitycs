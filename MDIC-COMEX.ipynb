{
 "cells": [
  {
   "cell_type": "code",
   "execution_count": 12,
   "metadata": {},
   "outputs": [],
   "source": [
    "import requests\n",
    "from bs4 import BeautifulSoup\n",
    "\n",
    "comexstat = 'http://comexstat.mdic.gov.br/pt/municipio/60448'\n",
    "\n",
    "res = requests.get(comexstat)\n",
    "html_page = res.text"
   ]
  },
  {
   "cell_type": "code",
   "execution_count": 13,
   "metadata": {},
   "outputs": [],
   "source": [
    "soup = BeautifulSoup(html_page, 'html.parser')"
   ]
  },
  {
   "cell_type": "code",
   "execution_count": 4,
   "metadata": {},
   "outputs": [],
   "source": [
    "comexstat = 'http://comexstat.mdic.gov.br/pt/municipio/60448'"
   ]
  },
  {
   "cell_type": "code",
   "execution_count": 6,
   "metadata": {},
   "outputs": [
    {
     "ename": "AttributeError",
     "evalue": "'NoneType' object has no attribute 'text'",
     "output_type": "error",
     "traceback": [
      "\u001b[1;31m---------------------------------------------------------------------------\u001b[0m",
      "\u001b[1;31mAttributeError\u001b[0m                            Traceback (most recent call last)",
      "\u001b[1;32mc:\\Users\\Anselmo Oliveira\\Documents\\Documents\\Scripts Web Scrept\\MDIC-COMEX.ipynb Cell 4'\u001b[0m in \u001b[0;36m<cell line: 7>\u001b[1;34m()\u001b[0m\n\u001b[0;32m      <a href='vscode-notebook-cell:/c%3A/Users/Anselmo%20Oliveira/Documents/Documents/Scripts%20Web%20Scrept/MDIC-COMEX.ipynb#ch0000004?line=7'>8</a>\u001b[0m soup \u001b[39m=\u001b[39m BeautifulSoup(html)\n\u001b[0;32m      <a href='vscode-notebook-cell:/c%3A/Users/Anselmo%20Oliveira/Documents/Documents/Scripts%20Web%20Scrept/MDIC-COMEX.ipynb#ch0000004?line=8'>9</a>\u001b[0m body \u001b[39m=\u001b[39m soup\u001b[39m.\u001b[39mfind(text\u001b[39m=\u001b[39m\u001b[39m\"\u001b[39m\u001b[39mWorld population\u001b[39m\u001b[39m\"\u001b[39m)\n\u001b[1;32m---> <a href='vscode-notebook-cell:/c%3A/Users/Anselmo%20Oliveira/Documents/Documents/Scripts%20Web%20Scrept/MDIC-COMEX.ipynb#ch0000004?line=9'>10</a>\u001b[0m \u001b[39mif\u001b[39;00m \u001b[39mstr\u001b[39m(body\u001b[39m.\u001b[39;49mtext)\u001b[39m.\u001b[39mfind(\u001b[39m'\u001b[39m\u001b[39mloading...\u001b[39m\u001b[39m'\u001b[39m) \u001b[39m>\u001b[39m \u001b[39m1\u001b[39m:\n\u001b[0;32m     <a href='vscode-notebook-cell:/c%3A/Users/Anselmo%20Oliveira/Documents/Documents/Scripts%20Web%20Scrept/MDIC-COMEX.ipynb#ch0000004?line=10'>11</a>\u001b[0m     \u001b[39mprint\u001b[39m (body\u001b[39m.\u001b[39mtext)\n\u001b[0;32m     <a href='vscode-notebook-cell:/c%3A/Users/Anselmo%20Oliveira/Documents/Documents/Scripts%20Web%20Scrept/MDIC-COMEX.ipynb#ch0000004?line=11'>12</a>\u001b[0m     \u001b[39mbreak\u001b[39;00m\n",
      "\u001b[1;31mAttributeError\u001b[0m: 'NoneType' object has no attribute 'text'"
     ]
    }
   ],
   "source": [
    "import requests\n",
    "from bs4 import BeautifulSoup\n",
    "import time\n",
    "\n",
    "html = requests.get(comexstat).text\n",
    "\n",
    "while True:\n",
    "    soup = BeautifulSoup(html)\n",
    "    body = soup.find(text=\"World population\")\n",
    "    if str(body.text).find('loading...') > 1:\n",
    "        print (body.text)\n",
    "        break\n",
    "    time.sleep(30)\n",
    "    html = requests.get(comexstat).text"
   ]
  }
 ],
 "metadata": {
  "interpreter": {
   "hash": "31c343df0307e317f338e13842f1848929a1168821279cd78d86c2cef5573c6f"
  },
  "kernelspec": {
   "display_name": "Python 3.10.4 64-bit",
   "language": "python",
   "name": "python3"
  },
  "language_info": {
   "codemirror_mode": {
    "name": "ipython",
    "version": 3
   },
   "file_extension": ".py",
   "mimetype": "text/x-python",
   "name": "python",
   "nbconvert_exporter": "python",
   "pygments_lexer": "ipython3",
   "version": "3.10.4"
  },
  "orig_nbformat": 4
 },
 "nbformat": 4,
 "nbformat_minor": 2
}
