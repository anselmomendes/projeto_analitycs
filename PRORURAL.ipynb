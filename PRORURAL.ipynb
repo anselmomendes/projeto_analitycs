{
 "cells": [
  {
   "cell_type": "code",
   "execution_count": 11,
   "metadata": {},
   "outputs": [],
   "source": [
    "import datetime\n",
    "import mysql.connector\n",
    "import pandas as pd"
   ]
  },
  {
   "cell_type": "code",
   "execution_count": null,
   "metadata": {},
   "outputs": [],
   "source": [
    "schema = 'webvisa'"
   ]
  },
  {
   "cell_type": "code",
   "execution_count": 155,
   "metadata": {},
   "outputs": [],
   "source": [
    "def get_tabela_name(tabela_name):\n",
    "    cnx = mysql.connector.connect(user='dtwanalytics', password='Dtwo@23a',\n",
    "                              host='192.168.238.101',\n",
    "                              database='prorural')\n",
    "\n",
    "    query = \"SELECT * FROM information_schema.tables WHERE table_schema = '{}'\".format(tabela_name)\n",
    "\n",
    "    cursor = cnx.cursor()\n",
    "    cursor.execute(query)\n",
    "    table_name = cursor.fetchall()\n",
    "    tables = pd.DataFrame(table_name)\n",
    "    names = tables[2]\n",
    "    cursor.close()\n",
    "    cnx.close()\n",
    "    return names"
   ]
  },
  {
   "cell_type": "code",
   "execution_count": 157,
   "metadata": {},
   "outputs": [],
   "source": [
    "def get_table(name_table):\n",
    "    cnx = mysql.connector.connect(user='dtwanalytics', password='Dtwo@23a', host='192.168.238.101', database='prorural')\n",
    "    cursor = cnx.cursor()\n",
    "    cursor.execute('SELECT * FROM webvisa.{} order by 2'.format(name_table))\n",
    "    table_name = cursor.fetchall()\n",
    "    tables = pd.DataFrame(table_name)\n",
    "    cursor.close()\n",
    "    cnx.close()\n",
    "    return tables"
   ]
  },
  {
   "cell_type": "code",
   "execution_count": 158,
   "metadata": {},
   "outputs": [
    {
     "data": {
      "text/plain": [
       "0              anexo_pessoa\n",
       "1          anexo_pessoa_AUD\n",
       "2          anexo_proc_admin\n",
       "3      anexo_proc_admin_AUD\n",
       "4      anexo_proc_sanitario\n",
       "               ...         \n",
       "97       usuario_acesso_AUD\n",
       "98                  veiculo\n",
       "99              veiculo_AUD\n",
       "100         veiculo_empresa\n",
       "101     veiculo_empresa_AUD\n",
       "Name: 2, Length: 102, dtype: object"
      ]
     },
     "execution_count": 158,
     "metadata": {},
     "output_type": "execute_result"
    }
   ],
   "source": [
    "get_tabela_name(schema)"
   ]
  },
  {
   "cell_type": "code",
   "execution_count": 105,
   "metadata": {},
   "outputs": [],
   "source": [
    "atividade = get_table('atividade_AUD')\n",
    "auditoria = get_table('auditoria')\n",
    "aux_processo = get_table('aux_processo')\n",
    "fiscalizacao = get_table('fiscalizacao')\n",
    "formacao = get_table('formacao')\n",
    "origem_denuncia = get_table('origem_denuncia')\n",
    "penalidade = get_table('penalidade')\n",
    "pas_penalidades = get_table('perfil')\n",
    "pessoa = get_table('pessoa')\n",
    "processo_sanitario = get_table('processo_sanitario')\n",
    "servico = get_table('servico')\n",
    "servidor = get_table('servidor')\n",
    "status_proc_sanitario = get_table('status_proc_sanitario')\n",
    "tipo_produto = get_table('tipo_produto')\n",
    "unidade = get_table('unidade')"
   ]
  }
 ],
 "metadata": {
  "interpreter": {
   "hash": "31c343df0307e317f338e13842f1848929a1168821279cd78d86c2cef5573c6f"
  },
  "kernelspec": {
   "display_name": "Python 3.10.4 64-bit",
   "language": "python",
   "name": "python3"
  },
  "language_info": {
   "codemirror_mode": {
    "name": "ipython",
    "version": 3
   },
   "file_extension": ".py",
   "mimetype": "text/x-python",
   "name": "python",
   "nbconvert_exporter": "python",
   "pygments_lexer": "ipython3",
   "version": "3.10.4"
  },
  "orig_nbformat": 4
 },
 "nbformat": 4,
 "nbformat_minor": 2
}
