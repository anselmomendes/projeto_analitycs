{
 "cells": [
  {
   "cell_type": "code",
   "execution_count": 24,
   "id": "0e4d3f7e",
   "metadata": {},
   "outputs": [],
   "source": [
    "import pandas as pd\n",
    "#import orchest"
   ]
  },
  {
   "cell_type": "code",
   "execution_count": 25,
   "id": "e606d356",
   "metadata": {},
   "outputs": [],
   "source": [
    "#Dados do IBGE-PAM (Produção Agrícola Municipal)"
   ]
  },
  {
   "cell_type": "code",
   "execution_count": 26,
   "id": "03914414",
   "metadata": {},
   "outputs": [],
   "source": [
    "#import wget\n",
    "#url = f\"https://sidra.ibge.gov.br/geratabela?format=br.csv&name=tabela5457.csv&terr=NC&rank=-&query=t/5457/n3/15/n6/1504208,1508100,1502772,1505536,1502152,1500347,1502954/v/214,216,8331/p/last%2010/c782/40092,40102,40107,40112,40119,40120,40122,40126,40136,40138,40139,40151,40152,40261,40262,40263,40269,40271,45982/l/,,t%2Bv%2Bp%2Bc782\"\n",
    "#file_name = wget.download(url, 'data.csv')"
   ]
  },
  {
   "cell_type": "code",
   "execution_count": 1,
   "id": "7c593291",
   "metadata": {},
   "outputs": [],
   "source": [
    "import pandas as pd\n",
    "url = f\"https://sidra.ibge.gov.br/geratabela?format=br.csv&name=tabela5457.csv&terr=NC&rank=-&query=t/5457/n3/15/n6/1504208,1508100,1502772,1505536,1502152,1500347,1502954/v/214,216,8331/p/last%2010/c782/40092,40102,40107,40112,40119,40120,40122,40126,40136,40138,40139,40151,40152,40261,40262,40263,40269,40271,45982/l/,,t%2Bv%2Bp%2Bc782\"\n",
    "path = 'data.csv'\n",
    "data = pd.read_csv(url, delimiter=\";\",skiprows=[0,1],\\\n",
    "                 names=[\"Cod\", \"Unidade da Federacao e Municipio\", \"Variavel\", \"Ano\", \"Produto das lavouras temporarias e permanentes\", \"Total\"])"
   ]
  },
  {
   "cell_type": "code",
   "execution_count": 2,
   "id": "722b31bb",
   "metadata": {},
   "outputs": [
    {
     "data": {
      "text/html": [
       "<div>\n",
       "<style scoped>\n",
       "    .dataframe tbody tr th:only-of-type {\n",
       "        vertical-align: middle;\n",
       "    }\n",
       "\n",
       "    .dataframe tbody tr th {\n",
       "        vertical-align: top;\n",
       "    }\n",
       "\n",
       "    .dataframe thead th {\n",
       "        text-align: right;\n",
       "    }\n",
       "</style>\n",
       "<table border=\"1\" class=\"dataframe\">\n",
       "  <thead>\n",
       "    <tr style=\"text-align: right;\">\n",
       "      <th></th>\n",
       "      <th>Cod</th>\n",
       "      <th>Unidade da Federacao e Municipio</th>\n",
       "      <th>Variavel</th>\n",
       "      <th>Ano</th>\n",
       "      <th>Produto das lavouras temporarias e permanentes</th>\n",
       "      <th>Total</th>\n",
       "    </tr>\n",
       "  </thead>\n",
       "  <tbody>\n",
       "    <tr>\n",
       "      <th>0</th>\n",
       "      <td>Cód.</td>\n",
       "      <td>Unidade da Federação e Município</td>\n",
       "      <td>Variável</td>\n",
       "      <td>Ano</td>\n",
       "      <td>Produto das lavouras temporárias e permanentes</td>\n",
       "      <td>NaN</td>\n",
       "    </tr>\n",
       "    <tr>\n",
       "      <th>1</th>\n",
       "      <td>15</td>\n",
       "      <td>Pará</td>\n",
       "      <td>Área plantada ou destinada à colheita (Hectares)</td>\n",
       "      <td>2011</td>\n",
       "      <td>Abacaxi*</td>\n",
       "      <td>8968</td>\n",
       "    </tr>\n",
       "    <tr>\n",
       "      <th>2</th>\n",
       "      <td>15</td>\n",
       "      <td>Pará</td>\n",
       "      <td>Área plantada ou destinada à colheita (Hectares)</td>\n",
       "      <td>2011</td>\n",
       "      <td>Açaí</td>\n",
       "      <td>...</td>\n",
       "    </tr>\n",
       "    <tr>\n",
       "      <th>3</th>\n",
       "      <td>15</td>\n",
       "      <td>Pará</td>\n",
       "      <td>Área plantada ou destinada à colheita (Hectares)</td>\n",
       "      <td>2011</td>\n",
       "      <td>Arroz (em casca)</td>\n",
       "      <td>102847</td>\n",
       "    </tr>\n",
       "    <tr>\n",
       "      <th>4</th>\n",
       "      <td>15</td>\n",
       "      <td>Pará</td>\n",
       "      <td>Área plantada ou destinada à colheita (Hectares)</td>\n",
       "      <td>2011</td>\n",
       "      <td>Banana (cacho)</td>\n",
       "      <td>40710</td>\n",
       "    </tr>\n",
       "    <tr>\n",
       "      <th>...</th>\n",
       "      <td>...</td>\n",
       "      <td>...</td>\n",
       "      <td>...</td>\n",
       "      <td>...</td>\n",
       "      <td>...</td>\n",
       "      <td>...</td>\n",
       "    </tr>\n",
       "    <tr>\n",
       "      <th>4578</th>\n",
       "      <td>0</td>\n",
       "      <td>Zero resultante de um cálculo ou arredondament...</td>\n",
       "      <td>NaN</td>\n",
       "      <td>NaN</td>\n",
       "      <td>NaN</td>\n",
       "      <td>NaN</td>\n",
       "    </tr>\n",
       "    <tr>\n",
       "      <th>4579</th>\n",
       "      <td>X</td>\n",
       "      <td>Valor inibido para não identificar o informant...</td>\n",
       "      <td>NaN</td>\n",
       "      <td>NaN</td>\n",
       "      <td>NaN</td>\n",
       "      <td>NaN</td>\n",
       "    </tr>\n",
       "    <tr>\n",
       "      <th>4580</th>\n",
       "      <td>..</td>\n",
       "      <td>Valor não se aplica.\\nEx: Não se pode obter o ...</td>\n",
       "      <td>NaN</td>\n",
       "      <td>NaN</td>\n",
       "      <td>NaN</td>\n",
       "      <td>NaN</td>\n",
       "    </tr>\n",
       "    <tr>\n",
       "      <th>4581</th>\n",
       "      <td>...</td>\n",
       "      <td>Valor não disponível.\\nEx: A produção de feijã...</td>\n",
       "      <td>NaN</td>\n",
       "      <td>NaN</td>\n",
       "      <td>NaN</td>\n",
       "      <td>NaN</td>\n",
       "    </tr>\n",
       "    <tr>\n",
       "      <th>4582</th>\n",
       "      <td>A a Z\\n(exceto X)</td>\n",
       "      <td>Significa uma faixa de valores. Varia em funçã...</td>\n",
       "      <td>NaN</td>\n",
       "      <td>NaN</td>\n",
       "      <td>NaN</td>\n",
       "      <td>NaN</td>\n",
       "    </tr>\n",
       "  </tbody>\n",
       "</table>\n",
       "<p>4583 rows × 6 columns</p>\n",
       "</div>"
      ],
      "text/plain": [
       "                    Cod                   Unidade da Federacao e Municipio  \\\n",
       "0                  Cód.                   Unidade da Federação e Município   \n",
       "1                    15                                               Pará   \n",
       "2                    15                                               Pará   \n",
       "3                    15                                               Pará   \n",
       "4                    15                                               Pará   \n",
       "...                 ...                                                ...   \n",
       "4578                  0  Zero resultante de um cálculo ou arredondament...   \n",
       "4579                  X  Valor inibido para não identificar o informant...   \n",
       "4580                 ..  Valor não se aplica.\\nEx: Não se pode obter o ...   \n",
       "4581                ...  Valor não disponível.\\nEx: A produção de feijã...   \n",
       "4582  A a Z\\n(exceto X)  Significa uma faixa de valores. Varia em funçã...   \n",
       "\n",
       "                                              Variavel   Ano  \\\n",
       "0                                             Variável   Ano   \n",
       "1     Área plantada ou destinada à colheita (Hectares)  2011   \n",
       "2     Área plantada ou destinada à colheita (Hectares)  2011   \n",
       "3     Área plantada ou destinada à colheita (Hectares)  2011   \n",
       "4     Área plantada ou destinada à colheita (Hectares)  2011   \n",
       "...                                                ...   ...   \n",
       "4578                                               NaN   NaN   \n",
       "4579                                               NaN   NaN   \n",
       "4580                                               NaN   NaN   \n",
       "4581                                               NaN   NaN   \n",
       "4582                                               NaN   NaN   \n",
       "\n",
       "      Produto das lavouras temporarias e permanentes   Total  \n",
       "0     Produto das lavouras temporárias e permanentes     NaN  \n",
       "1                                           Abacaxi*    8968  \n",
       "2                                               Açaí     ...  \n",
       "3                                   Arroz (em casca)  102847  \n",
       "4                                     Banana (cacho)   40710  \n",
       "...                                              ...     ...  \n",
       "4578                                             NaN     NaN  \n",
       "4579                                             NaN     NaN  \n",
       "4580                                             NaN     NaN  \n",
       "4581                                             NaN     NaN  \n",
       "4582                                             NaN     NaN  \n",
       "\n",
       "[4583 rows x 6 columns]"
      ]
     },
     "execution_count": 2,
     "metadata": {},
     "output_type": "execute_result"
    }
   ],
   "source": [
    "data"
   ]
  },
  {
   "cell_type": "code",
   "execution_count": 30,
   "id": "ce3f48f1",
   "metadata": {},
   "outputs": [],
   "source": [
    "end = data[data['Cod'] == 'Fonte: IBGE - Produção Agrícola Municipal'].index[0]"
   ]
  },
  {
   "cell_type": "code",
   "execution_count": 31,
   "id": "9d4ba5da",
   "metadata": {},
   "outputs": [],
   "source": [
    "df = data.iloc[1:end]"
   ]
  },
  {
   "cell_type": "code",
   "execution_count": 6,
   "id": "eb99a30f",
   "metadata": {},
   "outputs": [],
   "source": [
    "def replace_dataframe(DataFrame_imput, column, replace):\n",
    "    for r in replace:\n",
    "        for c in column:\n",
    "            DataFrame_imput[c] = DataFrame_imput[c].apply(lambda x : x.replace(r,'').replace('-',' '))     \n",
    "    return DataFrame_imput"
   ]
  },
  {
   "cell_type": "code",
   "execution_count": 32,
   "id": "027b686e",
   "metadata": {},
   "outputs": [
    {
     "name": "stderr",
     "output_type": "stream",
     "text": [
      "C:\\Users\\Anselmo Oliveira\\AppData\\Local\\Temp\\ipykernel_6580\\630857280.py:4: SettingWithCopyWarning: \n",
      "A value is trying to be set on a copy of a slice from a DataFrame.\n",
      "Try using .loc[row_indexer,col_indexer] = value instead\n",
      "\n",
      "See the caveats in the documentation: https://pandas.pydata.org/pandas-docs/stable/user_guide/indexing.html#returning-a-view-versus-a-copy\n",
      "  DataFrame_imput[c] = DataFrame_imput[c].apply(lambda x : x.replace(r,'').replace('-',' '))\n"
     ]
    }
   ],
   "source": [
    "filtro = ['*',' (cacho)', ' (em amêndoa)', ' (em grão)', ' (em casca)', ' (Hectares)', ' (Toneladas)', ' (PA)']\n",
    "column = [\"Cod\", \"Unidade da Federacao e Municipio\", \"Variavel\", \"Ano\", \"Produto das lavouras temporarias e permanentes\", \"Total\"]\n",
    "df = replace_dataframe(df, column, filtro)"
   ]
  },
  {
   "cell_type": "code",
   "execution_count": 33,
   "id": "c8f8cc73",
   "metadata": {},
   "outputs": [
    {
     "data": {
      "text/html": [
       "<div>\n",
       "<style scoped>\n",
       "    .dataframe tbody tr th:only-of-type {\n",
       "        vertical-align: middle;\n",
       "    }\n",
       "\n",
       "    .dataframe tbody tr th {\n",
       "        vertical-align: top;\n",
       "    }\n",
       "\n",
       "    .dataframe thead th {\n",
       "        text-align: right;\n",
       "    }\n",
       "</style>\n",
       "<table border=\"1\" class=\"dataframe\">\n",
       "  <thead>\n",
       "    <tr style=\"text-align: right;\">\n",
       "      <th></th>\n",
       "      <th>Cod</th>\n",
       "      <th>Unidade da Federacao e Municipio</th>\n",
       "      <th>Variavel</th>\n",
       "      <th>Ano</th>\n",
       "      <th>Produto das lavouras temporarias e permanentes</th>\n",
       "      <th>Total</th>\n",
       "    </tr>\n",
       "  </thead>\n",
       "  <tbody>\n",
       "    <tr>\n",
       "      <th>1</th>\n",
       "      <td>15</td>\n",
       "      <td>Pará</td>\n",
       "      <td>Área plantada ou destinada à colheita</td>\n",
       "      <td>2011</td>\n",
       "      <td>Abacaxi</td>\n",
       "      <td>8968</td>\n",
       "    </tr>\n",
       "    <tr>\n",
       "      <th>2</th>\n",
       "      <td>15</td>\n",
       "      <td>Pará</td>\n",
       "      <td>Área plantada ou destinada à colheita</td>\n",
       "      <td>2011</td>\n",
       "      <td>Açaí</td>\n",
       "      <td>...</td>\n",
       "    </tr>\n",
       "    <tr>\n",
       "      <th>3</th>\n",
       "      <td>15</td>\n",
       "      <td>Pará</td>\n",
       "      <td>Área plantada ou destinada à colheita</td>\n",
       "      <td>2011</td>\n",
       "      <td>Arroz</td>\n",
       "      <td>102847</td>\n",
       "    </tr>\n",
       "    <tr>\n",
       "      <th>4</th>\n",
       "      <td>15</td>\n",
       "      <td>Pará</td>\n",
       "      <td>Área plantada ou destinada à colheita</td>\n",
       "      <td>2011</td>\n",
       "      <td>Banana</td>\n",
       "      <td>40710</td>\n",
       "    </tr>\n",
       "    <tr>\n",
       "      <th>5</th>\n",
       "      <td>15</td>\n",
       "      <td>Pará</td>\n",
       "      <td>Área plantada ou destinada à colheita</td>\n",
       "      <td>2011</td>\n",
       "      <td>Cacau</td>\n",
       "      <td>85041</td>\n",
       "    </tr>\n",
       "    <tr>\n",
       "      <th>...</th>\n",
       "      <td>...</td>\n",
       "      <td>...</td>\n",
       "      <td>...</td>\n",
       "      <td>...</td>\n",
       "      <td>...</td>\n",
       "      <td>...</td>\n",
       "    </tr>\n",
       "    <tr>\n",
       "      <th>4556</th>\n",
       "      <td>1508100</td>\n",
       "      <td>Tucuruí</td>\n",
       "      <td>Quantidade produzida</td>\n",
       "      <td>2020</td>\n",
       "      <td>Melancia</td>\n",
       "      <td></td>\n",
       "    </tr>\n",
       "    <tr>\n",
       "      <th>4557</th>\n",
       "      <td>1508100</td>\n",
       "      <td>Tucuruí</td>\n",
       "      <td>Quantidade produzida</td>\n",
       "      <td>2020</td>\n",
       "      <td>Milho</td>\n",
       "      <td></td>\n",
       "    </tr>\n",
       "    <tr>\n",
       "      <th>4558</th>\n",
       "      <td>1508100</td>\n",
       "      <td>Tucuruí</td>\n",
       "      <td>Quantidade produzida</td>\n",
       "      <td>2020</td>\n",
       "      <td>Pimenta do reino</td>\n",
       "      <td>21</td>\n",
       "    </tr>\n",
       "    <tr>\n",
       "      <th>4559</th>\n",
       "      <td>1508100</td>\n",
       "      <td>Tucuruí</td>\n",
       "      <td>Quantidade produzida</td>\n",
       "      <td>2020</td>\n",
       "      <td>Tangerina</td>\n",
       "      <td></td>\n",
       "    </tr>\n",
       "    <tr>\n",
       "      <th>4560</th>\n",
       "      <td>1508100</td>\n",
       "      <td>Tucuruí</td>\n",
       "      <td>Quantidade produzida</td>\n",
       "      <td>2020</td>\n",
       "      <td>Tomate</td>\n",
       "      <td></td>\n",
       "    </tr>\n",
       "  </tbody>\n",
       "</table>\n",
       "<p>4560 rows × 6 columns</p>\n",
       "</div>"
      ],
      "text/plain": [
       "          Cod Unidade da Federacao e Municipio  \\\n",
       "1          15                             Pará   \n",
       "2          15                             Pará   \n",
       "3          15                             Pará   \n",
       "4          15                             Pará   \n",
       "5          15                             Pará   \n",
       "...       ...                              ...   \n",
       "4556  1508100                          Tucuruí   \n",
       "4557  1508100                          Tucuruí   \n",
       "4558  1508100                          Tucuruí   \n",
       "4559  1508100                          Tucuruí   \n",
       "4560  1508100                          Tucuruí   \n",
       "\n",
       "                                   Variavel   Ano  \\\n",
       "1     Área plantada ou destinada à colheita  2011   \n",
       "2     Área plantada ou destinada à colheita  2011   \n",
       "3     Área plantada ou destinada à colheita  2011   \n",
       "4     Área plantada ou destinada à colheita  2011   \n",
       "5     Área plantada ou destinada à colheita  2011   \n",
       "...                                     ...   ...   \n",
       "4556                   Quantidade produzida  2020   \n",
       "4557                   Quantidade produzida  2020   \n",
       "4558                   Quantidade produzida  2020   \n",
       "4559                   Quantidade produzida  2020   \n",
       "4560                   Quantidade produzida  2020   \n",
       "\n",
       "     Produto das lavouras temporarias e permanentes   Total  \n",
       "1                                           Abacaxi    8968  \n",
       "2                                              Açaí     ...  \n",
       "3                                             Arroz  102847  \n",
       "4                                            Banana   40710  \n",
       "5                                             Cacau   85041  \n",
       "...                                             ...     ...  \n",
       "4556                                       Melancia          \n",
       "4557                                          Milho          \n",
       "4558                               Pimenta do reino      21  \n",
       "4559                                      Tangerina          \n",
       "4560                                         Tomate          \n",
       "\n",
       "[4560 rows x 6 columns]"
      ]
     },
     "execution_count": 33,
     "metadata": {},
     "output_type": "execute_result"
    }
   ],
   "source": [
    "df"
   ]
  },
  {
   "cell_type": "code",
   "execution_count": 34,
   "id": "58da4f41",
   "metadata": {},
   "outputs": [
    {
     "data": {
      "text/plain": [
       "15         570\n",
       "1500347    570\n",
       "1502152    570\n",
       "1502772    570\n",
       "1502954    570\n",
       "1504208    570\n",
       "1505536    570\n",
       "1508100    570\n",
       "Name: Cod, dtype: int64"
      ]
     },
     "execution_count": 34,
     "metadata": {},
     "output_type": "execute_result"
    }
   ],
   "source": [
    "df['Cod'].value_counts()"
   ]
  },
  {
   "cell_type": "code",
   "execution_count": 35,
   "id": "3b410bd0",
   "metadata": {},
   "outputs": [
    {
     "data": {
      "text/plain": [
       "Pará                   570\n",
       "Água Azul do Norte     570\n",
       "Canaã dos Carajás      570\n",
       "Curionópolis           570\n",
       "Eldorado do Carajás    570\n",
       "Marabá                 570\n",
       "Parauapebas            570\n",
       "Tucuruí                570\n",
       "Name: Unidade da Federacao e Municipio, dtype: int64"
      ]
     },
     "execution_count": 35,
     "metadata": {},
     "output_type": "execute_result"
    }
   ],
   "source": [
    "df['Unidade da Federacao e Municipio'].value_counts()"
   ]
  },
  {
   "cell_type": "code",
   "execution_count": 36,
   "id": "012bef6a",
   "metadata": {},
   "outputs": [
    {
     "data": {
      "text/plain": [
       "Área plantada ou destinada à colheita    1520\n",
       "Área colhida                             1520\n",
       "Quantidade produzida                     1520\n",
       "Name: Variavel, dtype: int64"
      ]
     },
     "execution_count": 36,
     "metadata": {},
     "output_type": "execute_result"
    }
   ],
   "source": [
    "df['Variavel'].value_counts()"
   ]
  },
  {
   "cell_type": "code",
   "execution_count": 37,
   "id": "270eb974",
   "metadata": {},
   "outputs": [
    {
     "data": {
      "text/plain": [
       "2011    456\n",
       "2012    456\n",
       "2013    456\n",
       "2014    456\n",
       "2015    456\n",
       "2016    456\n",
       "2017    456\n",
       "2018    456\n",
       "2019    456\n",
       "2020    456\n",
       "Name: Ano, dtype: int64"
      ]
     },
     "execution_count": 37,
     "metadata": {},
     "output_type": "execute_result"
    }
   ],
   "source": [
    "df['Ano'].value_counts()"
   ]
  },
  {
   "cell_type": "code",
   "execution_count": 39,
   "id": "7dfed32a",
   "metadata": {},
   "outputs": [
    {
     "data": {
      "text/plain": [
       "Abacaxi             240\n",
       "Mamão               240\n",
       "Tangerina           240\n",
       "Pimenta do reino    240\n",
       "Milho               240\n",
       "Melancia            240\n",
       "Maracujá            240\n",
       "Manga               240\n",
       "Mandioca            240\n",
       "Limão               240\n",
       "Açaí                240\n",
       "Laranja             240\n",
       "Feijão              240\n",
       "Cebola              240\n",
       "Café Total          240\n",
       "Cacau               240\n",
       "Banana              240\n",
       "Arroz               240\n",
       "Tomate              240\n",
       "Name: Produto das lavouras temporarias e permanentes, dtype: int64"
      ]
     },
     "execution_count": 39,
     "metadata": {},
     "output_type": "execute_result"
    }
   ],
   "source": [
    "df['Produto das lavouras temporarias e permanentes'].value_counts()"
   ]
  },
  {
   "cell_type": "code",
   "execution_count": 40,
   "id": "6975af8d",
   "metadata": {},
   "outputs": [
    {
     "data": {
      "text/plain": [
       "          2103\n",
       "...         96\n",
       "20          88\n",
       "30          62\n",
       "50          60\n",
       "          ... \n",
       "17304        1\n",
       "60662        1\n",
       "304268       1\n",
       "20584        1\n",
       "27880        1\n",
       "Name: Total, Length: 679, dtype: int64"
      ]
     },
     "execution_count": 40,
     "metadata": {},
     "output_type": "execute_result"
    }
   ],
   "source": [
    "df['Total'].value_counts()"
   ]
  }
 ],
 "metadata": {
  "interpreter": {
   "hash": "31c343df0307e317f338e13842f1848929a1168821279cd78d86c2cef5573c6f"
  },
  "kernelspec": {
   "display_name": "Python 3.10.4 64-bit",
   "language": "python",
   "name": "python3"
  },
  "language_info": {
   "codemirror_mode": {
    "name": "ipython",
    "version": 3
   },
   "file_extension": ".py",
   "mimetype": "text/x-python",
   "name": "python",
   "nbconvert_exporter": "python",
   "pygments_lexer": "ipython3",
   "version": "3.10.4"
  }
 },
 "nbformat": 4,
 "nbformat_minor": 5
}
