{
 "cells": [
  {
   "cell_type": "code",
   "execution_count": 2,
   "metadata": {},
   "outputs": [],
   "source": [
    "import pandas as pd\n",
    "import os"
   ]
  },
  {
   "cell_type": "code",
   "execution_count": 8,
   "metadata": {},
   "outputs": [],
   "source": [
    "path = str(os.path.abspath(os.getcwd())) + '\\\\IMP_1997_2022_20220615.xlsx'\n",
    "df = pd.read_excel(path, sheet_name='Resultado')#, delimiter=\";\",skiprows=[0,1],\\\n",
    "                 #names=[\"Cod\", \"Unidade da Federacao e Municipio\", \"Variavel\", \"Ano\", \"Produto das lavouras temporarias e permanentes\", \"Total\"])"
   ]
  },
  {
   "cell_type": "code",
   "execution_count": 9,
   "metadata": {},
   "outputs": [
    {
     "data": {
      "text/html": [
       "<div>\n",
       "<style scoped>\n",
       "    .dataframe tbody tr th:only-of-type {\n",
       "        vertical-align: middle;\n",
       "    }\n",
       "\n",
       "    .dataframe tbody tr th {\n",
       "        vertical-align: top;\n",
       "    }\n",
       "\n",
       "    .dataframe thead th {\n",
       "        text-align: right;\n",
       "    }\n",
       "</style>\n",
       "<table border=\"1\" class=\"dataframe\">\n",
       "  <thead>\n",
       "    <tr style=\"text-align: right;\">\n",
       "      <th></th>\n",
       "      <th>Ano</th>\n",
       "      <th>Mês</th>\n",
       "      <th>Valor FOB (US$)</th>\n",
       "    </tr>\n",
       "  </thead>\n",
       "  <tbody>\n",
       "    <tr>\n",
       "      <th>0</th>\n",
       "      <td>2022</td>\n",
       "      <td>5</td>\n",
       "      <td>24707213157</td>\n",
       "    </tr>\n",
       "    <tr>\n",
       "      <th>1</th>\n",
       "      <td>2022</td>\n",
       "      <td>4</td>\n",
       "      <td>20748022617</td>\n",
       "    </tr>\n",
       "    <tr>\n",
       "      <th>2</th>\n",
       "      <td>2022</td>\n",
       "      <td>3</td>\n",
       "      <td>21807541152</td>\n",
       "    </tr>\n",
       "    <tr>\n",
       "      <th>3</th>\n",
       "      <td>2022</td>\n",
       "      <td>2</td>\n",
       "      <td>18872891343</td>\n",
       "    </tr>\n",
       "    <tr>\n",
       "      <th>4</th>\n",
       "      <td>2022</td>\n",
       "      <td>1</td>\n",
       "      <td>19815971133</td>\n",
       "    </tr>\n",
       "    <tr>\n",
       "      <th>...</th>\n",
       "      <td>...</td>\n",
       "      <td>...</td>\n",
       "      <td>...</td>\n",
       "    </tr>\n",
       "    <tr>\n",
       "      <th>300</th>\n",
       "      <td>1997</td>\n",
       "      <td>5</td>\n",
       "      <td>4789335402</td>\n",
       "    </tr>\n",
       "    <tr>\n",
       "      <th>301</th>\n",
       "      <td>1997</td>\n",
       "      <td>4</td>\n",
       "      <td>5590104948</td>\n",
       "    </tr>\n",
       "    <tr>\n",
       "      <th>302</th>\n",
       "      <td>1997</td>\n",
       "      <td>3</td>\n",
       "      <td>4788930369</td>\n",
       "    </tr>\n",
       "    <tr>\n",
       "      <th>303</th>\n",
       "      <td>1997</td>\n",
       "      <td>2</td>\n",
       "      <td>4318802691</td>\n",
       "    </tr>\n",
       "    <tr>\n",
       "      <th>304</th>\n",
       "      <td>1997</td>\n",
       "      <td>1</td>\n",
       "      <td>2588659779</td>\n",
       "    </tr>\n",
       "  </tbody>\n",
       "</table>\n",
       "<p>305 rows × 3 columns</p>\n",
       "</div>"
      ],
      "text/plain": [
       "      Ano  Mês  Valor FOB (US$)\n",
       "0    2022    5      24707213157\n",
       "1    2022    4      20748022617\n",
       "2    2022    3      21807541152\n",
       "3    2022    2      18872891343\n",
       "4    2022    1      19815971133\n",
       "..    ...  ...              ...\n",
       "300  1997    5       4789335402\n",
       "301  1997    4       5590104948\n",
       "302  1997    3       4788930369\n",
       "303  1997    2       4318802691\n",
       "304  1997    1       2588659779\n",
       "\n",
       "[305 rows x 3 columns]"
      ]
     },
     "execution_count": 9,
     "metadata": {},
     "output_type": "execute_result"
    }
   ],
   "source": [
    "df"
   ]
  }
 ],
 "metadata": {
  "interpreter": {
   "hash": "31c343df0307e317f338e13842f1848929a1168821279cd78d86c2cef5573c6f"
  },
  "kernelspec": {
   "display_name": "Python 3.10.4 64-bit",
   "language": "python",
   "name": "python3"
  },
  "language_info": {
   "codemirror_mode": {
    "name": "ipython",
    "version": 3
   },
   "file_extension": ".py",
   "mimetype": "text/x-python",
   "name": "python",
   "nbconvert_exporter": "python",
   "pygments_lexer": "ipython3",
   "version": "3.10.4"
  },
  "orig_nbformat": 4
 },
 "nbformat": 4,
 "nbformat_minor": 2
}
