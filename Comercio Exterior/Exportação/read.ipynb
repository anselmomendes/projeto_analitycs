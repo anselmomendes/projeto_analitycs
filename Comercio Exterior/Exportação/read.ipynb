{
 "cells": [
  {
   "cell_type": "code",
   "execution_count": null,
   "metadata": {},
   "outputs": [],
   "source": [
    "import orchest\n",
    "import requests\n",
    "\n",
    "url = r'http://api.comexstat.mdic.gov.br/cities?filter=%7B%22yearStart%22:%221997%22,%22yearEnd%22:%222022%22,%22typeForm%22:1,%22typeOrder%22:1,%22filterList%22:%5B%7B%22id%22:%22noMunMin%22,%22text%22:%22Munic%C3%ADpio%22,%22route%22:%22/pt/location/cities%22,%22type%22:%221%22,%22group%22:%22gerais%22,%22groupText%22:%22Gerais%22,%22hint%22:%22fieldsForm.city.noMunMin.description%22,%22placeholder%22:%22Munic%C3%ADpios%22%7D%5D,%22filterArray%22:%5B%7B%22item%22:%5B%221505536%22%5D,%22idInput%22:%22noMunMin%22%7D%5D,%22rangeFilter%22:%5B%5D,%22detailDatabase%22:%5B%7B%22id%22:%22noMunMin%22,%22text%22:%22Munic%C3%ADpio%22,%22concat%22:%22noMunMinsgUf%22%7D%5D,%22monthDetail%22:true,%22metricFOB%22:true,%22metricKG%22:false,%22monthStart%22:%2201%22,%22monthEnd%22:%2212%22,%22formQueue%22:%22city%22,%22langDefault%22:%22pt%22,%22monthStartName%22:%22Janeiro%22,%22monthEndName%22:%22Dezembro%22%7D'\n",
    "\n",
    "res = requests.get(url)\n",
    "json = res.json()\n",
    "\n",
    "orchest.output(json, name=\"json\")\n",
    "\n",
    "print('Success')"
   ]
  }
 ],
 "metadata": {
  "language_info": {
   "name": "python"
  },
  "orig_nbformat": 4
 },
 "nbformat": 4,
 "nbformat_minor": 2
}
