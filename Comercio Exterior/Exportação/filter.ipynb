{
 "cells": [
  {
   "cell_type": "code",
   "execution_count": 1,
   "metadata": {},
   "outputs": [
    {
     "name": "stdout",
     "output_type": "stream",
     "text": [
      "Requirement already satisfied: pandas in c:\\users\\anselmo oliveira\\appdata\\local\\programs\\python\\python310\\lib\\site-packages (1.4.2)\n",
      "Requirement already satisfied: python-dateutil>=2.8.1 in c:\\users\\anselmo oliveira\\appdata\\local\\programs\\python\\python310\\lib\\site-packages (from pandas) (2.8.2)\n",
      "Requirement already satisfied: pytz>=2020.1 in c:\\users\\anselmo oliveira\\appdata\\local\\programs\\python\\python310\\lib\\site-packages (from pandas) (2022.1)\n",
      "Requirement already satisfied: numpy>=1.21.0 in c:\\users\\anselmo oliveira\\appdata\\local\\programs\\python\\python310\\lib\\site-packages (from pandas) (1.22.4)\n",
      "Requirement already satisfied: six>=1.5 in c:\\users\\anselmo oliveira\\appdata\\local\\programs\\python\\python310\\lib\\site-packages (from python-dateutil>=2.8.1->pandas) (1.16.0)\n",
      "Note: you may need to restart the kernel to use updated packages.\n"
     ]
    },
    {
     "ename": "ModuleNotFoundError",
     "evalue": "No module named 'pyarrow._plasma'",
     "output_type": "error",
     "traceback": [
      "\u001b[1;31m---------------------------------------------------------------------------\u001b[0m",
      "\u001b[1;31mModuleNotFoundError\u001b[0m                       Traceback (most recent call last)",
      "\u001b[1;32mc:\\Users\\Anselmo Oliveira\\Documents\\Documents\\Observatorio-Analytics\\Comercio Exterior\\Exportação\\filter.ipynb Cell 1'\u001b[0m in \u001b[0;36m<cell line: 3>\u001b[1;34m()\u001b[0m\n\u001b[0;32m      <a href='vscode-notebook-cell:/c%3A/Users/Anselmo%20Oliveira/Documents/Documents/Observatorio-Analytics/Comercio%20Exterior/Exporta%C3%A7%C3%A3o/filter.ipynb#ch0000000?line=0'>1</a>\u001b[0m get_ipython()\u001b[39m.\u001b[39mrun_line_magic(\u001b[39m'\u001b[39m\u001b[39mpip\u001b[39m\u001b[39m'\u001b[39m, \u001b[39m'\u001b[39m\u001b[39minstall pandas\u001b[39m\u001b[39m'\u001b[39m)\n\u001b[0;32m      <a href='vscode-notebook-cell:/c%3A/Users/Anselmo%20Oliveira/Documents/Documents/Observatorio-Analytics/Comercio%20Exterior/Exporta%C3%A7%C3%A3o/filter.ipynb#ch0000000?line=1'>2</a>\u001b[0m \u001b[39mimport\u001b[39;00m \u001b[39mpandas\u001b[39;00m \u001b[39mas\u001b[39;00m \u001b[39mpd\u001b[39;00m\n\u001b[1;32m----> <a href='vscode-notebook-cell:/c%3A/Users/Anselmo%20Oliveira/Documents/Documents/Observatorio-Analytics/Comercio%20Exterior/Exporta%C3%A7%C3%A3o/filter.ipynb#ch0000000?line=2'>3</a>\u001b[0m \u001b[39mimport\u001b[39;00m \u001b[39morchest\u001b[39;00m\n\u001b[0;32m      <a href='vscode-notebook-cell:/c%3A/Users/Anselmo%20Oliveira/Documents/Documents/Observatorio-Analytics/Comercio%20Exterior/Exporta%C3%A7%C3%A3o/filter.ipynb#ch0000000?line=4'>5</a>\u001b[0m inputs \u001b[39m=\u001b[39m orchest\u001b[39m.\u001b[39mget_inputs()\n\u001b[0;32m      <a href='vscode-notebook-cell:/c%3A/Users/Anselmo%20Oliveira/Documents/Documents/Observatorio-Analytics/Comercio%20Exterior/Exporta%C3%A7%C3%A3o/filter.ipynb#ch0000000?line=5'>6</a>\u001b[0m df \u001b[39m=\u001b[39m pd\u001b[39m.\u001b[39mDataFrame(inputs[\u001b[39m'\u001b[39m\u001b[39mjson\u001b[39m\u001b[39m'\u001b[39m][\u001b[39m'\u001b[39m\u001b[39mdata\u001b[39m\u001b[39m'\u001b[39m][\u001b[39m'\u001b[39m\u001b[39mlist\u001b[39m\u001b[39m'\u001b[39m])\n",
      "File \u001b[1;32mc:\\Users\\Anselmo Oliveira\\AppData\\Local\\Programs\\Python\\Python310\\lib\\site-packages\\orchest\\__init__.py:20\u001b[0m, in \u001b[0;36m<module>\u001b[1;34m\u001b[0m\n\u001b[0;32m     18\u001b[0m \u001b[39mfrom\u001b[39;00m \u001b[39morchest\u001b[39;00m\u001b[39m.\u001b[39;00m\u001b[39mparameters\u001b[39;00m \u001b[39mimport\u001b[39;00m get_pipeline_param, get_step_param\n\u001b[0;32m     19\u001b[0m \u001b[39mfrom\u001b[39;00m \u001b[39morchest\u001b[39;00m\u001b[39m.\u001b[39;00m\u001b[39mservices\u001b[39;00m \u001b[39mimport\u001b[39;00m get_service, get_services\n\u001b[1;32m---> 20\u001b[0m \u001b[39mfrom\u001b[39;00m \u001b[39morchest\u001b[39;00m\u001b[39m.\u001b[39;00m\u001b[39mtransfer\u001b[39;00m \u001b[39mimport\u001b[39;00m get_inputs, output\n\u001b[0;32m     22\u001b[0m orchest_version \u001b[39m=\u001b[39m __os\u001b[39m.\u001b[39mgetenv(\u001b[39m\"\u001b[39m\u001b[39mORCHEST_VERSION\u001b[39m\u001b[39m\"\u001b[39m)\n\u001b[0;32m     23\u001b[0m \u001b[39mif\u001b[39;00m orchest_version \u001b[39mis\u001b[39;00m \u001b[39mnot\u001b[39;00m \u001b[39mNone\u001b[39;00m:\n",
      "File \u001b[1;32mc:\\Users\\Anselmo Oliveira\\AppData\\Local\\Programs\\Python\\Python310\\lib\\site-packages\\orchest\\transfer.py:12\u001b[0m, in \u001b[0;36m<module>\u001b[1;34m\u001b[0m\n\u001b[0;32m      9\u001b[0m \u001b[39mfrom\u001b[39;00m \u001b[39mtyping\u001b[39;00m \u001b[39mimport\u001b[39;00m Any, Callable, Dict, List, Optional, Sequence, Tuple\n\u001b[0;32m     11\u001b[0m \u001b[39mimport\u001b[39;00m \u001b[39mpyarrow\u001b[39;00m \u001b[39mas\u001b[39;00m \u001b[39mpa\u001b[39;00m\n\u001b[1;32m---> 12\u001b[0m \u001b[39mimport\u001b[39;00m \u001b[39mpyarrow\u001b[39;00m\u001b[39m.\u001b[39;00m\u001b[39mplasma\u001b[39;00m \u001b[39mas\u001b[39;00m \u001b[39mplasma\u001b[39;00m\n\u001b[0;32m     14\u001b[0m \u001b[39mfrom\u001b[39;00m \u001b[39morchest\u001b[39;00m \u001b[39mimport\u001b[39;00m error\n\u001b[0;32m     15\u001b[0m \u001b[39mfrom\u001b[39;00m \u001b[39morchest\u001b[39;00m\u001b[39m.\u001b[39;00m\u001b[39mconfig\u001b[39;00m \u001b[39mimport\u001b[39;00m Config\n",
      "File \u001b[1;32mc:\\Users\\Anselmo Oliveira\\AppData\\Local\\Programs\\Python\\Python310\\lib\\site-packages\\pyarrow\\plasma.py:28\u001b[0m, in \u001b[0;36m<module>\u001b[1;34m\u001b[0m\n\u001b[0;32m     25\u001b[0m \u001b[39mimport\u001b[39;00m \u001b[39mtempfile\u001b[39;00m\n\u001b[0;32m     26\u001b[0m \u001b[39mimport\u001b[39;00m \u001b[39mtime\u001b[39;00m\n\u001b[1;32m---> 28\u001b[0m \u001b[39mfrom\u001b[39;00m \u001b[39mpyarrow\u001b[39;00m\u001b[39m.\u001b[39;00m\u001b[39m_plasma\u001b[39;00m \u001b[39mimport\u001b[39;00m (ObjectID, ObjectNotAvailable,  \u001b[39m# noqa\u001b[39;00m\n\u001b[0;32m     29\u001b[0m                              PlasmaBuffer, PlasmaClient, connect,\n\u001b[0;32m     30\u001b[0m                              PlasmaObjectExists, PlasmaObjectNotFound,\n\u001b[0;32m     31\u001b[0m                              PlasmaStoreFull)\n\u001b[0;32m     34\u001b[0m \u001b[39m# The Plasma TensorFlow Operator needs to be compiled on the end user's\u001b[39;00m\n\u001b[0;32m     35\u001b[0m \u001b[39m# machine since the TensorFlow ABI is not stable between versions.\u001b[39;00m\n\u001b[0;32m     36\u001b[0m \u001b[39m# The following code checks if the operator is already present. If not,\u001b[39;00m\n\u001b[0;32m     37\u001b[0m \u001b[39m# the function build_plasma_tensorflow_op can be used to compile it.\u001b[39;00m\n\u001b[0;32m     40\u001b[0m TF_PLASMA_OP_PATH \u001b[39m=\u001b[39m os\u001b[39m.\u001b[39mpath\u001b[39m.\u001b[39mjoin(pa\u001b[39m.\u001b[39m__path__[\u001b[39m0\u001b[39m], \u001b[39m\"\u001b[39m\u001b[39mtensorflow\u001b[39m\u001b[39m\"\u001b[39m, \u001b[39m\"\u001b[39m\u001b[39mplasma_op.so\u001b[39m\u001b[39m\"\u001b[39m)\n",
      "\u001b[1;31mModuleNotFoundError\u001b[0m: No module named 'pyarrow._plasma'"
     ]
    }
   ],
   "source": [
    "%pip install pandas\n",
    "import pandas as pd\n",
    "import orchest\n",
    "\n",
    "inputs = orchest.get_inputs()\n",
    "df = pd.DataFrame(inputs['json']['data']['list'])\n",
    "df = df.rename(columns={'coAno':'Ano', 'coMes':'Mês', 'noMunMinsgUf':'Município', 'vlFob':'Valor FOB (US$)'})\n",
    "df['Município'] = df['Município'].apply(lambda x : str(x).replace(' - PA',''))\n",
    "df.head()\n",
    "orchest.output(df,'df')\n",
    "print(\"Success\")"
   ]
  }
 ],
 "metadata": {
  "kernelspec": {
   "display_name": "Python 3.10.4 64-bit",
   "language": "python",
   "name": "python3"
  },
  "language_info": {
   "codemirror_mode": {
    "name": "ipython",
    "version": 3
   },
   "file_extension": ".py",
   "mimetype": "text/x-python",
   "name": "python",
   "nbconvert_exporter": "python",
   "pygments_lexer": "ipython3",
   "version": "3.10.4"
  },
  "orig_nbformat": 4,
  "vscode": {
   "interpreter": {
    "hash": "31c343df0307e317f338e13842f1848929a1168821279cd78d86c2cef5573c6f"
   }
  }
 },
 "nbformat": 4,
 "nbformat_minor": 2
}
