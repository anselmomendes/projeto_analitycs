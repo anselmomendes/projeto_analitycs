{
 "cells": [
  {
   "cell_type": "code",
   "execution_count": 2,
   "id": "0e4d3f7e",
   "metadata": {},
   "outputs": [],
   "source": [
    "!pip install pandas\n",
    "!pip install numpy\n",
    "\n",
    "import requests\n",
    "import pandas as pd\n",
    "import orchest"
   ]
  },
  {
   "cell_type": "code",
   "execution_count": 90,
   "id": "03914414",
   "metadata": {},
   "outputs": [],
   "source": [
    "#import wget\n",
    "#url = f\"https://sidra.ibge.gov.br/geratabela?format=br.csv&name=tabela5457.csv&terr=NC&rank=-&query=t/5457/n3/15/n6/1504208,1508100,1502772,1505536,1502152,1500347,1502954/v/214,216,8331/p/last%2010/c782/40092,40102,40107,40112,40119,40120,40122,40126,40136,40138,40139,40151,40152,40261,40262,40263,40269,40271,45982/l/,,t%2Bv%2Bp%2Bc782\"\n",
    "#file_name = wget.download(url, 'data.csv')"
   ]
  },
  {
   "cell_type": "code",
   "execution_count": 4,
   "id": "7c593291",
   "metadata": {},
   "outputs": [],
   "source": [
    "import pandas as pd\n",
    "import numpy as np\n",
    "url = f\"https://sidra.ibge.gov.br/geratabela?format=br.csv&name=tabela3939.csv&terr=NC&rank=-&query=t/3939/n3/15/n6/1504208,1508100,1502772,1505536,1502152,1500347,1502954/v/all/p/last%2010/c79/2670,2675,2681,32794,32796/l/,,t%2Bv%2Bc79%2Bp\"\n",
    "path = 'data.csv'\n",
    "data = pd.read_csv(url, delimiter=\";\",skiprows=[0,1],\\\n",
    "                 names=[\"Cod\", \"Unidade da Federacao e Municipio\", \"Variavel\", \"Tipo de rebanho\", \"Ano\", \"Total\"], dtype={'Ano':'Int64'})"
   ]
  },
  {
   "cell_type": "code",
   "execution_count": 5,
   "id": "ce3f48f1",
   "metadata": {},
   "outputs": [],
   "source": [
    "end = data[data['Cod'] == 'Fonte: IBGE - Pesquisa da Pecuária Municipal'].index[0]"
   ]
  },
  {
   "cell_type": "code",
   "execution_count": 93,
   "id": "9d4ba5da",
   "metadata": {},
   "outputs": [
    {
     "name": "stderr",
     "output_type": "stream",
     "text": [
      "C:\\Users\\Anselmo Oliveira\\AppData\\Local\\Temp\\ipykernel_1716\\328774170.py:2: SettingWithCopyWarning: \n",
      "A value is trying to be set on a copy of a slice from a DataFrame.\n",
      "Try using .loc[row_indexer,col_indexer] = value instead\n",
      "\n",
      "See the caveats in the documentation: https://pandas.pydata.org/pandas-docs/stable/user_guide/indexing.html#returning-a-view-versus-a-copy\n",
      "  df['Ano'] = df['Ano'].astype(int)\n"
     ]
    }
   ],
   "source": [
    "df = data.iloc[:end]\n",
    "df['Ano'] = df['Ano'].astype(int)"
   ]
  },
  {
   "cell_type": "code",
   "execution_count": 94,
   "id": "d960e033",
   "metadata": {},
   "outputs": [
    {
     "data": {
      "text/html": [
       "<div>\n",
       "<style scoped>\n",
       "    .dataframe tbody tr th:only-of-type {\n",
       "        vertical-align: middle;\n",
       "    }\n",
       "\n",
       "    .dataframe tbody tr th {\n",
       "        vertical-align: top;\n",
       "    }\n",
       "\n",
       "    .dataframe thead th {\n",
       "        text-align: right;\n",
       "    }\n",
       "</style>\n",
       "<table border=\"1\" class=\"dataframe\">\n",
       "  <thead>\n",
       "    <tr style=\"text-align: right;\">\n",
       "      <th></th>\n",
       "      <th>Cod</th>\n",
       "      <th>Unidade da Federacao e Municipio</th>\n",
       "      <th>Variavel</th>\n",
       "      <th>Tipo de rebanho</th>\n",
       "      <th>Ano</th>\n",
       "      <th>Total</th>\n",
       "    </tr>\n",
       "  </thead>\n",
       "  <tbody>\n",
       "    <tr>\n",
       "      <th>0</th>\n",
       "      <td>15</td>\n",
       "      <td>Pará</td>\n",
       "      <td>Efetivo dos rebanhos (Cabeças)</td>\n",
       "      <td>Bovino</td>\n",
       "      <td>2011</td>\n",
       "      <td>18262547</td>\n",
       "    </tr>\n",
       "    <tr>\n",
       "      <th>1</th>\n",
       "      <td>15</td>\n",
       "      <td>Pará</td>\n",
       "      <td>Efetivo dos rebanhos (Cabeças)</td>\n",
       "      <td>Bovino</td>\n",
       "      <td>2012</td>\n",
       "      <td>18605051</td>\n",
       "    </tr>\n",
       "    <tr>\n",
       "      <th>2</th>\n",
       "      <td>15</td>\n",
       "      <td>Pará</td>\n",
       "      <td>Efetivo dos rebanhos (Cabeças)</td>\n",
       "      <td>Bovino</td>\n",
       "      <td>2013</td>\n",
       "      <td>19165028</td>\n",
       "    </tr>\n",
       "    <tr>\n",
       "      <th>3</th>\n",
       "      <td>15</td>\n",
       "      <td>Pará</td>\n",
       "      <td>Efetivo dos rebanhos (Cabeças)</td>\n",
       "      <td>Bovino</td>\n",
       "      <td>2014</td>\n",
       "      <td>19911217</td>\n",
       "    </tr>\n",
       "    <tr>\n",
       "      <th>4</th>\n",
       "      <td>15</td>\n",
       "      <td>Pará</td>\n",
       "      <td>Efetivo dos rebanhos (Cabeças)</td>\n",
       "      <td>Bovino</td>\n",
       "      <td>2015</td>\n",
       "      <td>20271618</td>\n",
       "    </tr>\n",
       "    <tr>\n",
       "      <th>...</th>\n",
       "      <td>...</td>\n",
       "      <td>...</td>\n",
       "      <td>...</td>\n",
       "      <td>...</td>\n",
       "      <td>...</td>\n",
       "      <td>...</td>\n",
       "    </tr>\n",
       "    <tr>\n",
       "      <th>395</th>\n",
       "      <td>1508100</td>\n",
       "      <td>Tucuruí (PA)</td>\n",
       "      <td>Efetivo dos rebanhos (Cabeças)</td>\n",
       "      <td>Galináceos - total</td>\n",
       "      <td>2016</td>\n",
       "      <td>23000</td>\n",
       "    </tr>\n",
       "    <tr>\n",
       "      <th>396</th>\n",
       "      <td>1508100</td>\n",
       "      <td>Tucuruí (PA)</td>\n",
       "      <td>Efetivo dos rebanhos (Cabeças)</td>\n",
       "      <td>Galináceos - total</td>\n",
       "      <td>2017</td>\n",
       "      <td>25000</td>\n",
       "    </tr>\n",
       "    <tr>\n",
       "      <th>397</th>\n",
       "      <td>1508100</td>\n",
       "      <td>Tucuruí (PA)</td>\n",
       "      <td>Efetivo dos rebanhos (Cabeças)</td>\n",
       "      <td>Galináceos - total</td>\n",
       "      <td>2018</td>\n",
       "      <td>22000</td>\n",
       "    </tr>\n",
       "    <tr>\n",
       "      <th>398</th>\n",
       "      <td>1508100</td>\n",
       "      <td>Tucuruí (PA)</td>\n",
       "      <td>Efetivo dos rebanhos (Cabeças)</td>\n",
       "      <td>Galináceos - total</td>\n",
       "      <td>2019</td>\n",
       "      <td>11902</td>\n",
       "    </tr>\n",
       "    <tr>\n",
       "      <th>399</th>\n",
       "      <td>1508100</td>\n",
       "      <td>Tucuruí (PA)</td>\n",
       "      <td>Efetivo dos rebanhos (Cabeças)</td>\n",
       "      <td>Galináceos - total</td>\n",
       "      <td>2020</td>\n",
       "      <td>10415</td>\n",
       "    </tr>\n",
       "  </tbody>\n",
       "</table>\n",
       "<p>400 rows × 6 columns</p>\n",
       "</div>"
      ],
      "text/plain": [
       "         Cod Unidade da Federacao e Municipio                        Variavel  \\\n",
       "0         15                             Pará  Efetivo dos rebanhos (Cabeças)   \n",
       "1         15                             Pará  Efetivo dos rebanhos (Cabeças)   \n",
       "2         15                             Pará  Efetivo dos rebanhos (Cabeças)   \n",
       "3         15                             Pará  Efetivo dos rebanhos (Cabeças)   \n",
       "4         15                             Pará  Efetivo dos rebanhos (Cabeças)   \n",
       "..       ...                              ...                             ...   \n",
       "395  1508100                     Tucuruí (PA)  Efetivo dos rebanhos (Cabeças)   \n",
       "396  1508100                     Tucuruí (PA)  Efetivo dos rebanhos (Cabeças)   \n",
       "397  1508100                     Tucuruí (PA)  Efetivo dos rebanhos (Cabeças)   \n",
       "398  1508100                     Tucuruí (PA)  Efetivo dos rebanhos (Cabeças)   \n",
       "399  1508100                     Tucuruí (PA)  Efetivo dos rebanhos (Cabeças)   \n",
       "\n",
       "        Tipo de rebanho   Ano     Total  \n",
       "0                Bovino  2011  18262547  \n",
       "1                Bovino  2012  18605051  \n",
       "2                Bovino  2013  19165028  \n",
       "3                Bovino  2014  19911217  \n",
       "4                Bovino  2015  20271618  \n",
       "..                  ...   ...       ...  \n",
       "395  Galináceos - total  2016     23000  \n",
       "396  Galináceos - total  2017     25000  \n",
       "397  Galináceos - total  2018     22000  \n",
       "398  Galináceos - total  2019     11902  \n",
       "399  Galináceos - total  2020     10415  \n",
       "\n",
       "[400 rows x 6 columns]"
      ]
     },
     "execution_count": 94,
     "metadata": {},
     "output_type": "execute_result"
    }
   ],
   "source": [
    "df"
   ]
  },
  {
   "cell_type": "code",
   "execution_count": 95,
   "id": "eb99a30f",
   "metadata": {},
   "outputs": [],
   "source": [
    "def replace_dataframe(DataFrame_imput, column, replace):\n",
    "    for r in replace:\n",
    "        for c in column:\n",
    "            DataFrame_imput[c] = DataFrame_imput[c].apply(lambda x : str(x).replace(r,'').replace('-',' '))     \n",
    "    return DataFrame_imput"
   ]
  },
  {
   "cell_type": "code",
   "execution_count": 96,
   "id": "027b686e",
   "metadata": {},
   "outputs": [
    {
     "name": "stderr",
     "output_type": "stream",
     "text": [
      "C:\\Users\\Anselmo Oliveira\\AppData\\Local\\Temp\\ipykernel_1716\\1519733028.py:4: SettingWithCopyWarning: \n",
      "A value is trying to be set on a copy of a slice from a DataFrame.\n",
      "Try using .loc[row_indexer,col_indexer] = value instead\n",
      "\n",
      "See the caveats in the documentation: https://pandas.pydata.org/pandas-docs/stable/user_guide/indexing.html#returning-a-view-versus-a-copy\n",
      "  DataFrame_imput[c] = DataFrame_imput[c].apply(lambda x : str(x).replace(r,'').replace('-',' '))\n"
     ]
    }
   ],
   "source": [
    "filtro = ['*',' (Cabeças)', ' (PA)', ' - total', '   total']\n",
    "column = [\"Cod\", \"Unidade da Federacao e Municipio\", \"Variavel\", \"Tipo de rebanho\", \"Ano\", \"Total\"]\n",
    "df = replace_dataframe(df, column, filtro)"
   ]
  },
  {
   "cell_type": "code",
   "execution_count": 97,
   "id": "c8f8cc73",
   "metadata": {},
   "outputs": [
    {
     "data": {
      "text/html": [
       "<div>\n",
       "<style scoped>\n",
       "    .dataframe tbody tr th:only-of-type {\n",
       "        vertical-align: middle;\n",
       "    }\n",
       "\n",
       "    .dataframe tbody tr th {\n",
       "        vertical-align: top;\n",
       "    }\n",
       "\n",
       "    .dataframe thead th {\n",
       "        text-align: right;\n",
       "    }\n",
       "</style>\n",
       "<table border=\"1\" class=\"dataframe\">\n",
       "  <thead>\n",
       "    <tr style=\"text-align: right;\">\n",
       "      <th></th>\n",
       "      <th>Cod</th>\n",
       "      <th>Unidade da Federacao e Municipio</th>\n",
       "      <th>Variavel</th>\n",
       "      <th>Tipo de rebanho</th>\n",
       "      <th>Ano</th>\n",
       "      <th>Total</th>\n",
       "    </tr>\n",
       "  </thead>\n",
       "  <tbody>\n",
       "    <tr>\n",
       "      <th>0</th>\n",
       "      <td>15</td>\n",
       "      <td>Pará</td>\n",
       "      <td>Efetivo dos rebanhos</td>\n",
       "      <td>Bovino</td>\n",
       "      <td>2011</td>\n",
       "      <td>18262547</td>\n",
       "    </tr>\n",
       "    <tr>\n",
       "      <th>1</th>\n",
       "      <td>15</td>\n",
       "      <td>Pará</td>\n",
       "      <td>Efetivo dos rebanhos</td>\n",
       "      <td>Bovino</td>\n",
       "      <td>2012</td>\n",
       "      <td>18605051</td>\n",
       "    </tr>\n",
       "    <tr>\n",
       "      <th>2</th>\n",
       "      <td>15</td>\n",
       "      <td>Pará</td>\n",
       "      <td>Efetivo dos rebanhos</td>\n",
       "      <td>Bovino</td>\n",
       "      <td>2013</td>\n",
       "      <td>19165028</td>\n",
       "    </tr>\n",
       "    <tr>\n",
       "      <th>3</th>\n",
       "      <td>15</td>\n",
       "      <td>Pará</td>\n",
       "      <td>Efetivo dos rebanhos</td>\n",
       "      <td>Bovino</td>\n",
       "      <td>2014</td>\n",
       "      <td>19911217</td>\n",
       "    </tr>\n",
       "    <tr>\n",
       "      <th>4</th>\n",
       "      <td>15</td>\n",
       "      <td>Pará</td>\n",
       "      <td>Efetivo dos rebanhos</td>\n",
       "      <td>Bovino</td>\n",
       "      <td>2015</td>\n",
       "      <td>20271618</td>\n",
       "    </tr>\n",
       "    <tr>\n",
       "      <th>...</th>\n",
       "      <td>...</td>\n",
       "      <td>...</td>\n",
       "      <td>...</td>\n",
       "      <td>...</td>\n",
       "      <td>...</td>\n",
       "      <td>...</td>\n",
       "    </tr>\n",
       "    <tr>\n",
       "      <th>395</th>\n",
       "      <td>1508100</td>\n",
       "      <td>Tucuruí</td>\n",
       "      <td>Efetivo dos rebanhos</td>\n",
       "      <td>Galináceos</td>\n",
       "      <td>2016</td>\n",
       "      <td>23000</td>\n",
       "    </tr>\n",
       "    <tr>\n",
       "      <th>396</th>\n",
       "      <td>1508100</td>\n",
       "      <td>Tucuruí</td>\n",
       "      <td>Efetivo dos rebanhos</td>\n",
       "      <td>Galináceos</td>\n",
       "      <td>2017</td>\n",
       "      <td>25000</td>\n",
       "    </tr>\n",
       "    <tr>\n",
       "      <th>397</th>\n",
       "      <td>1508100</td>\n",
       "      <td>Tucuruí</td>\n",
       "      <td>Efetivo dos rebanhos</td>\n",
       "      <td>Galináceos</td>\n",
       "      <td>2018</td>\n",
       "      <td>22000</td>\n",
       "    </tr>\n",
       "    <tr>\n",
       "      <th>398</th>\n",
       "      <td>1508100</td>\n",
       "      <td>Tucuruí</td>\n",
       "      <td>Efetivo dos rebanhos</td>\n",
       "      <td>Galináceos</td>\n",
       "      <td>2019</td>\n",
       "      <td>11902</td>\n",
       "    </tr>\n",
       "    <tr>\n",
       "      <th>399</th>\n",
       "      <td>1508100</td>\n",
       "      <td>Tucuruí</td>\n",
       "      <td>Efetivo dos rebanhos</td>\n",
       "      <td>Galináceos</td>\n",
       "      <td>2020</td>\n",
       "      <td>10415</td>\n",
       "    </tr>\n",
       "  </tbody>\n",
       "</table>\n",
       "<p>400 rows × 6 columns</p>\n",
       "</div>"
      ],
      "text/plain": [
       "         Cod Unidade da Federacao e Municipio              Variavel  \\\n",
       "0         15                             Pará  Efetivo dos rebanhos   \n",
       "1         15                             Pará  Efetivo dos rebanhos   \n",
       "2         15                             Pará  Efetivo dos rebanhos   \n",
       "3         15                             Pará  Efetivo dos rebanhos   \n",
       "4         15                             Pará  Efetivo dos rebanhos   \n",
       "..       ...                              ...                   ...   \n",
       "395  1508100                          Tucuruí  Efetivo dos rebanhos   \n",
       "396  1508100                          Tucuruí  Efetivo dos rebanhos   \n",
       "397  1508100                          Tucuruí  Efetivo dos rebanhos   \n",
       "398  1508100                          Tucuruí  Efetivo dos rebanhos   \n",
       "399  1508100                          Tucuruí  Efetivo dos rebanhos   \n",
       "\n",
       "    Tipo de rebanho   Ano     Total  \n",
       "0            Bovino  2011  18262547  \n",
       "1            Bovino  2012  18605051  \n",
       "2            Bovino  2013  19165028  \n",
       "3            Bovino  2014  19911217  \n",
       "4            Bovino  2015  20271618  \n",
       "..              ...   ...       ...  \n",
       "395      Galináceos  2016     23000  \n",
       "396      Galináceos  2017     25000  \n",
       "397      Galináceos  2018     22000  \n",
       "398      Galináceos  2019     11902  \n",
       "399      Galináceos  2020     10415  \n",
       "\n",
       "[400 rows x 6 columns]"
      ]
     },
     "execution_count": 97,
     "metadata": {},
     "output_type": "execute_result"
    }
   ],
   "source": [
    "df"
   ]
  },
  {
   "cell_type": "code",
   "execution_count": 98,
   "id": "58da4f41",
   "metadata": {},
   "outputs": [
    {
     "data": {
      "text/plain": [
       "15         50\n",
       "1500347    50\n",
       "1502152    50\n",
       "1502772    50\n",
       "1502954    50\n",
       "1504208    50\n",
       "1505536    50\n",
       "1508100    50\n",
       "Name: Cod, dtype: int64"
      ]
     },
     "execution_count": 98,
     "metadata": {},
     "output_type": "execute_result"
    }
   ],
   "source": [
    "df['Cod'].value_counts()"
   ]
  },
  {
   "cell_type": "code",
   "execution_count": 99,
   "id": "3b410bd0",
   "metadata": {},
   "outputs": [
    {
     "data": {
      "text/plain": [
       "Pará                   50\n",
       "Água Azul do Norte     50\n",
       "Canaã dos Carajás      50\n",
       "Curionópolis           50\n",
       "Eldorado do Carajás    50\n",
       "Marabá                 50\n",
       "Parauapebas            50\n",
       "Tucuruí                50\n",
       "Name: Unidade da Federacao e Municipio, dtype: int64"
      ]
     },
     "execution_count": 99,
     "metadata": {},
     "output_type": "execute_result"
    }
   ],
   "source": [
    "df['Unidade da Federacao e Municipio'].value_counts()"
   ]
  },
  {
   "cell_type": "code",
   "execution_count": 100,
   "id": "012bef6a",
   "metadata": {},
   "outputs": [
    {
     "data": {
      "text/plain": [
       "Efetivo dos rebanhos    400\n",
       "Name: Variavel, dtype: int64"
      ]
     },
     "execution_count": 100,
     "metadata": {},
     "output_type": "execute_result"
    }
   ],
   "source": [
    "df['Variavel'].value_counts()"
   ]
  },
  {
   "cell_type": "code",
   "execution_count": 101,
   "id": "270eb974",
   "metadata": {},
   "outputs": [
    {
     "data": {
      "text/plain": [
       "2011    40\n",
       "2012    40\n",
       "2013    40\n",
       "2014    40\n",
       "2015    40\n",
       "2016    40\n",
       "2017    40\n",
       "2018    40\n",
       "2019    40\n",
       "2020    40\n",
       "Name: Ano, dtype: int64"
      ]
     },
     "execution_count": 101,
     "metadata": {},
     "output_type": "execute_result"
    }
   ],
   "source": [
    "df['Ano'].value_counts()"
   ]
  },
  {
   "cell_type": "code",
   "execution_count": 102,
   "id": "7dfed32a",
   "metadata": {},
   "outputs": [
    {
     "data": {
      "text/plain": [
       "Bovino        80\n",
       "Bubalino      80\n",
       "Suíno         80\n",
       "Caprino       80\n",
       "Galináceos    80\n",
       "Name: Tipo de rebanho, dtype: int64"
      ]
     },
     "execution_count": 102,
     "metadata": {},
     "output_type": "execute_result"
    }
   ],
   "source": [
    "df['Tipo de rebanho'].value_counts()"
   ]
  },
  {
   "cell_type": "code",
   "execution_count": 103,
   "id": "6975af8d",
   "metadata": {},
   "outputs": [
    {
     "data": {
      "text/plain": [
       "30       5\n",
       "         4\n",
       "1100     3\n",
       "70       3\n",
       "40       2\n",
       "        ..\n",
       "1323     1\n",
       "2150     1\n",
       "4180     1\n",
       "41       1\n",
       "10415    1\n",
       "Name: Total, Length: 368, dtype: int64"
      ]
     },
     "execution_count": 103,
     "metadata": {},
     "output_type": "execute_result"
    }
   ],
   "source": [
    "df['Total'].value_counts()"
   ]
  },
  {
   "cell_type": "code",
   "execution_count": null,
   "id": "cdf5d114-870e-4ad3-9def-19a26355caca",
   "metadata": {},
   "outputs": [],
   "source": [
    "orchest.output(df,\"df\")"
   ]
  }
 ],
 "metadata": {
  "interpreter": {
   "hash": "31c343df0307e317f338e13842f1848929a1168821279cd78d86c2cef5573c6f"
  },
  "kernelspec": {
   "display_name": "Python 3",
   "language": "python",
   "name": "orchest-kernel-1d416f9b-f8d3-4737-adea-6b1e9873c803"
  },
  "language_info": {
   "codemirror_mode": {
    "name": "ipython",
    "version": 3
   },
   "file_extension": ".py",
   "mimetype": "text/x-python",
   "name": "python",
   "nbconvert_exporter": "python",
   "pygments_lexer": "ipython3",
   "version": "3.9.10"
  }
 },
 "nbformat": 4,
 "nbformat_minor": 5
}
