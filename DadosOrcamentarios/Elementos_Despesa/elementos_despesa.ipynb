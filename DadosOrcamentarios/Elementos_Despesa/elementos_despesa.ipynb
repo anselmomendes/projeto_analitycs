{
 "cells": [
  {
   "cell_type": "code",
   "execution_count": 1,
   "metadata": {},
   "outputs": [],
   "source": [
    "import pandas as pd"
   ]
  },
  {
   "cell_type": "code",
   "execution_count": 54,
   "metadata": {},
   "outputs": [
    {
     "name": "stderr",
     "output_type": "stream",
     "text": [
      "C:\\Users\\Anselmo Oliveira\\AppData\\Local\\Temp\\ipykernel_12464\\3969189875.py:5: FutureWarning: The frame.append method is deprecated and will be removed from pandas in a future version. Use pandas.concat instead.\n",
      "  df = df.append(data, ignore_index=True)\n",
      "C:\\Users\\Anselmo Oliveira\\AppData\\Local\\Temp\\ipykernel_12464\\3969189875.py:5: FutureWarning: The frame.append method is deprecated and will be removed from pandas in a future version. Use pandas.concat instead.\n",
      "  df = df.append(data, ignore_index=True)\n",
      "C:\\Users\\Anselmo Oliveira\\AppData\\Local\\Temp\\ipykernel_12464\\3969189875.py:5: FutureWarning: The frame.append method is deprecated and will be removed from pandas in a future version. Use pandas.concat instead.\n",
      "  df = df.append(data, ignore_index=True)\n",
      "C:\\Users\\Anselmo Oliveira\\AppData\\Local\\Temp\\ipykernel_12464\\3969189875.py:5: FutureWarning: The frame.append method is deprecated and will be removed from pandas in a future version. Use pandas.concat instead.\n",
      "  df = df.append(data, ignore_index=True)\n",
      "C:\\Users\\Anselmo Oliveira\\AppData\\Local\\Temp\\ipykernel_12464\\3969189875.py:5: FutureWarning: The frame.append method is deprecated and will be removed from pandas in a future version. Use pandas.concat instead.\n",
      "  df = df.append(data, ignore_index=True)\n",
      "C:\\Users\\Anselmo Oliveira\\AppData\\Local\\Temp\\ipykernel_12464\\3969189875.py:5: FutureWarning: The frame.append method is deprecated and will be removed from pandas in a future version. Use pandas.concat instead.\n",
      "  df = df.append(data, ignore_index=True)\n",
      "C:\\Users\\Anselmo Oliveira\\AppData\\Local\\Temp\\ipykernel_12464\\3969189875.py:5: FutureWarning: The frame.append method is deprecated and will be removed from pandas in a future version. Use pandas.concat instead.\n",
      "  df = df.append(data, ignore_index=True)\n",
      "C:\\Users\\Anselmo Oliveira\\AppData\\Local\\Temp\\ipykernel_12464\\3969189875.py:5: FutureWarning: The frame.append method is deprecated and will be removed from pandas in a future version. Use pandas.concat instead.\n",
      "  df = df.append(data, ignore_index=True)\n",
      "C:\\Users\\Anselmo Oliveira\\AppData\\Local\\Temp\\ipykernel_12464\\3969189875.py:5: FutureWarning: The frame.append method is deprecated and will be removed from pandas in a future version. Use pandas.concat instead.\n",
      "  df = df.append(data, ignore_index=True)\n"
     ]
    }
   ],
   "source": [
    "df = pd.DataFrame()\n",
    "for i in range(10):\n",
    "    url = 'https://www.governotransparente.com.br/transparencia/api/v1/json/4507490/elementosdegastosdoexercicio/{}'.format(i)\n",
    "    data = pd.read_json(url)\n",
    "    df = df.append(data, ignore_index=True)"
   ]
  },
  {
   "cell_type": "code",
   "execution_count": 55,
   "metadata": {},
   "outputs": [
    {
     "data": {
      "text/html": [
       "<div>\n",
       "<style scoped>\n",
       "    .dataframe tbody tr th:only-of-type {\n",
       "        vertical-align: middle;\n",
       "    }\n",
       "\n",
       "    .dataframe tbody tr th {\n",
       "        vertical-align: top;\n",
       "    }\n",
       "\n",
       "    .dataframe thead th {\n",
       "        text-align: right;\n",
       "    }\n",
       "</style>\n",
       "<table border=\"1\" class=\"dataframe\">\n",
       "  <thead>\n",
       "    <tr style=\"text-align: right;\">\n",
       "      <th></th>\n",
       "      <th>id</th>\n",
       "      <th>nome</th>\n",
       "    </tr>\n",
       "  </thead>\n",
       "  <tbody>\n",
       "    <tr>\n",
       "      <th>0</th>\n",
       "      <td>118</td>\n",
       "      <td>Aposentad. RPPS, reserva remun. e reform</td>\n",
       "    </tr>\n",
       "    <tr>\n",
       "      <th>1</th>\n",
       "      <td>5518</td>\n",
       "      <td>Aquisição de imóveis</td>\n",
       "    </tr>\n",
       "    <tr>\n",
       "      <th>2</th>\n",
       "      <td>4218</td>\n",
       "      <td>Auxílio alimentação</td>\n",
       "    </tr>\n",
       "    <tr>\n",
       "      <th>3</th>\n",
       "      <td>1718</td>\n",
       "      <td>Auxílio fardamento</td>\n",
       "    </tr>\n",
       "    <tr>\n",
       "      <th>4</th>\n",
       "      <td>1618</td>\n",
       "      <td>Auxílio financeiro  a estudantes</td>\n",
       "    </tr>\n",
       "    <tr>\n",
       "      <th>...</th>\n",
       "      <td>...</td>\n",
       "      <td>...</td>\n",
       "    </tr>\n",
       "    <tr>\n",
       "      <th>225</th>\n",
       "      <td>3117</td>\n",
       "      <td>Passagens e Despesas com Locomoção</td>\n",
       "    </tr>\n",
       "    <tr>\n",
       "      <th>226</th>\n",
       "      <td>6317</td>\n",
       "      <td>Principal da Dívida Contratual Resgatado</td>\n",
       "    </tr>\n",
       "    <tr>\n",
       "      <th>227</th>\n",
       "      <td>7617</td>\n",
       "      <td>Ressarcimento de Desp. de Pessoal Requis</td>\n",
       "    </tr>\n",
       "    <tr>\n",
       "      <th>228</th>\n",
       "      <td>3317</td>\n",
       "      <td>Serviços de Consultoria</td>\n",
       "    </tr>\n",
       "    <tr>\n",
       "      <th>229</th>\n",
       "      <td>917</td>\n",
       "      <td>Vencimentos e Vant. Fixas Pessoal Civil</td>\n",
       "    </tr>\n",
       "  </tbody>\n",
       "</table>\n",
       "<p>230 rows × 2 columns</p>\n",
       "</div>"
      ],
      "text/plain": [
       "       id                                      nome\n",
       "0     118  Aposentad. RPPS, reserva remun. e reform\n",
       "1    5518                      Aquisição de imóveis\n",
       "2    4218                       Auxílio alimentação\n",
       "3    1718                        Auxílio fardamento\n",
       "4    1618          Auxílio financeiro  a estudantes\n",
       "..    ...                                       ...\n",
       "225  3117        Passagens e Despesas com Locomoção\n",
       "226  6317  Principal da Dívida Contratual Resgatado\n",
       "227  7617  Ressarcimento de Desp. de Pessoal Requis\n",
       "228  3317                   Serviços de Consultoria\n",
       "229   917   Vencimentos e Vant. Fixas Pessoal Civil\n",
       "\n",
       "[230 rows x 2 columns]"
      ]
     },
     "execution_count": 55,
     "metadata": {},
     "output_type": "execute_result"
    }
   ],
   "source": []
  }
 ],
 "metadata": {
  "interpreter": {
   "hash": "31c343df0307e317f338e13842f1848929a1168821279cd78d86c2cef5573c6f"
  },
  "kernelspec": {
   "display_name": "Python 3.10.4 64-bit",
   "language": "python",
   "name": "python3"
  },
  "language_info": {
   "codemirror_mode": {
    "name": "ipython",
    "version": 3
   },
   "file_extension": ".py",
   "mimetype": "text/x-python",
   "name": "python",
   "nbconvert_exporter": "python",
   "pygments_lexer": "ipython3",
   "version": "3.10.4"
  },
  "orig_nbformat": 4
 },
 "nbformat": 4,
 "nbformat_minor": 2
}
