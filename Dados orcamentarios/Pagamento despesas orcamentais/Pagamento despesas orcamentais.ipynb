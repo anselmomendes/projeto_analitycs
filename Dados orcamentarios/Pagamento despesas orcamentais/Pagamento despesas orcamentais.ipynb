{
 "cells": [
  {
   "cell_type": "code",
   "execution_count": 1,
   "metadata": {},
   "outputs": [
    {
     "data": {
      "text/plain": [
       "'\\nversao - versão da API (Obrigatório)\\ncodigo - identificador interno da entidade (Obrigatório)\\npage - número da página\\npagesize - número máximo de registros para retornar em uma consulta\\nexer - identificador do exercício (veja a API 2 ) (Obrigatório)\\ninicio - data de início no formato dd/mm/aaaa (Obrigatório)\\nfim - data final no formato dd/mm/aaaa (Obrigatório)\\norgao - identificador do órgão (ver API 3)\\nelem - identificador do elemento de despesa (ver API 4)\\ncovid - informa se é para retornar apenas dados referentes ao enfrentamento à COVID-19. Valores possíveis: true ou false (valor padrão é false)\\n'"
      ]
     },
     "execution_count": 1,
     "metadata": {},
     "output_type": "execute_result"
    }
   ],
   "source": [
    "'''\n",
    "versao - versão da API (Obrigatório)\n",
    "codigo - identificador interno da entidade (Obrigatório)\n",
    "page - número da página\n",
    "pagesize - número máximo de registros para retornar em uma consulta\n",
    "exer - identificador do exercício (veja a API 2 ) (Obrigatório)\n",
    "inicio - data de início no formato dd/mm/aaaa (Obrigatório)\n",
    "fim - data final no formato dd/mm/aaaa (Obrigatório)\n",
    "orgao - identificador do órgão (ver API 3)\n",
    "elem - identificador do elemento de despesa (ver API 4)\n",
    "covid - informa se é para retornar apenas dados referentes ao enfrentamento à COVID-19. Valores possíveis: true ou false (valor padrão é false)\n",
    "'''"
   ]
  },
  {
   "cell_type": "code",
   "execution_count": 2,
   "metadata": {},
   "outputs": [
    {
     "ename": "ModuleNotFoundError",
     "evalue": "No module named 'pandas'",
     "output_type": "error",
     "traceback": [
      "\u001b[0;31m---------------------------------------------------------------------------\u001b[0m",
      "\u001b[0;31mModuleNotFoundError\u001b[0m                       Traceback (most recent call last)",
      "Input \u001b[0;32mIn [2]\u001b[0m, in \u001b[0;36m<cell line: 1>\u001b[0;34m()\u001b[0m\n\u001b[0;32m----> 1\u001b[0m \u001b[38;5;28;01mimport\u001b[39;00m \u001b[38;5;21;01mpandas\u001b[39;00m \u001b[38;5;28;01mas\u001b[39;00m \u001b[38;5;21;01mpd\u001b[39;00m\n",
      "\u001b[0;31mModuleNotFoundError\u001b[0m: No module named 'pandas'"
     ]
    }
   ],
   "source": [
    "!pip install pandas\n",
    "import pandas as pd"
   ]
  },
  {
   "cell_type": "code",
   "execution_count": null,
   "metadata": {},
   "outputs": [],
   "source": [
    "Ano_exercicio = 2019\n",
    "url = 'https://www.governotransparente.com.br/transparencia/api/v1/json/exercicios/4507490'\n",
    "exercicio = pd.read_json(url)\n",
    "\n",
    "versao = 'v1'\n",
    "codigo = '4507490'\n",
    "page = '1'\n",
    "pagesize = '100000'\n",
    "exercicio = str(exercicio[exercicio['nome'] == Ano_exercicio]['id'][1])\n",
    "inicio = '01/01/2019'\n",
    "fim = '01/01/2020'\n",
    "covid = 'False'"
   ]
  },
  {
   "cell_type": "code",
   "execution_count": null,
   "metadata": {},
   "outputs": [],
   "source": [
    "url = 'https://www.governotransparente.com.br/transparencia/api/{0}/json/pagamentos/{1}?page={2}&pagesize={3}&exer={4}&inicio={5}&fim={6}&covid={7}'.format(versao, codigo, page, pagesize, exercicio, inicio, fim, covid)\n",
    "url"
   ]
  },
  {
   "cell_type": "code",
   "execution_count": null,
   "metadata": {},
   "outputs": [],
   "source": [
    "df = pd.read_json(url)"
   ]
  },
  {
   "cell_type": "code",
   "execution_count": null,
   "metadata": {},
   "outputs": [],
   "source": [
    "df.head()"
   ]
  },
  {
   "cell_type": "code",
   "execution_count": null,
   "metadata": {},
   "outputs": [],
   "source": [
    "colunas = df.columns\n",
    "\n",
    "for c in colunas:\n",
    "    df[c] = df[c].apply(lambda x:str(x).replace('\\n',''))"
   ]
  },
  {
   "cell_type": "code",
   "execution_count": null,
   "metadata": {},
   "outputs": [],
   "source": [
    "df.head()"
   ]
  },
  {
   "cell_type": "code",
   "execution_count": null,
   "metadata": {},
   "outputs": [],
   "source": []
  },
  {
   "cell_type": "code",
   "execution_count": null,
   "metadata": {},
   "outputs": [],
   "source": []
  }
 ],
 "metadata": {
  "interpreter": {
   "hash": "31c343df0307e317f338e13842f1848929a1168821279cd78d86c2cef5573c6f"
  },
  "kernelspec": {
   "display_name": "Python 3",
   "language": "python",
   "name": "orchest-kernel-1d416f9b-f8d3-4737-adea-6b1e9873c803"
  },
  "language_info": {
   "codemirror_mode": {
    "name": "ipython",
    "version": 3
   },
   "file_extension": ".py",
   "mimetype": "text/x-python",
   "name": "python",
   "nbconvert_exporter": "python",
   "pygments_lexer": "ipython3",
   "version": "3.9.10"
  }
 },
 "nbformat": 4,
 "nbformat_minor": 4
}
