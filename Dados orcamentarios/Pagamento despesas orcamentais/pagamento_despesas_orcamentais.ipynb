{
 "cells": [
  {
   "cell_type": "code",
   "execution_count": 1,
   "metadata": {
    "execution": {
     "iopub.execute_input": "2022-06-23T14:52:27.782491Z",
     "iopub.status.busy": "2022-06-23T14:52:27.780910Z",
     "iopub.status.idle": "2022-06-23T14:52:27.814768Z",
     "shell.execute_reply": "2022-06-23T14:52:27.813818Z"
    }
   },
   "outputs": [
    {
     "data": {
      "text/plain": [
       "'\\nversao - versão da API (Obrigatório)\\ncodigo - identificador interno da entidade (Obrigatório)\\npage - número da página\\npagesize - número máximo de registros para retornar em uma consulta\\nexer - identificador do exercício (veja a API 2 ) (Obrigatório)\\ninicio - data de início no formato dd/mm/aaaa (Obrigatório)\\nfim - data final no formato dd/mm/aaaa (Obrigatório)\\norgao - identificador do órgão (ver API 3)\\nelem - identificador do elemento de despesa (ver API 4)\\ncovid - informa se é para retornar apenas dados referentes ao enfrentamento à COVID-19. Valores possíveis: true ou false (valor padrão é false)\\n'"
      ]
     },
     "execution_count": 1,
     "metadata": {},
     "output_type": "execute_result"
    }
   ],
   "source": [
    "'''\n",
    "versao - versão da API (Obrigatório)\n",
    "codigo - identificador interno da entidade (Obrigatório)\n",
    "page - número da página\n",
    "pagesize - número máximo de registros para retornar em uma consulta\n",
    "exer - identificador do exercício (veja a API 2 ) (Obrigatório)\n",
    "inicio - data de início no formato dd/mm/aaaa (Obrigatório)\n",
    "fim - data final no formato dd/mm/aaaa (Obrigatório)\n",
    "orgao - identificador do órgão (ver API 3)\n",
    "elem - identificador do elemento de despesa (ver API 4)\n",
    "covid - informa se é para retornar apenas dados referentes ao enfrentamento à COVID-19. Valores possíveis: true ou false (valor padrão é false)\n",
    "'''"
   ]
  },
  {
   "cell_type": "code",
   "execution_count": 2,
   "metadata": {
    "execution": {
     "iopub.execute_input": "2022-06-23T14:52:27.868183Z",
     "iopub.status.busy": "2022-06-23T14:52:27.867616Z",
     "iopub.status.idle": "2022-06-23T14:52:41.670520Z",
     "shell.execute_reply": "2022-06-23T14:52:41.669538Z"
    }
   },
   "outputs": [
    {
     "name": "stdout",
     "output_type": "stream",
     "text": [
      "Collecting pandas\r\n"
     ]
    },
    {
     "name": "stdout",
     "output_type": "stream",
     "text": [
      "  Downloading pandas-1.4.3-cp39-cp39-manylinux_2_17_x86_64.manylinux2014_x86_64.whl (11.7 MB)\r\n",
      "\u001b[?25l     \u001b[90m━━━━━━━━━━━━━━━━━━━━━━━━━━━━━━━━━━━━━━━━\u001b[0m \u001b[32m0.0/11.7 MB\u001b[0m \u001b[31m?\u001b[0m eta \u001b[36m-:--:--\u001b[0m"
     ]
    },
    {
     "name": "stdout",
     "output_type": "stream",
     "text": [
      "\r",
      "\u001b[2K     \u001b[91m╸\u001b[0m\u001b[90m━━━━━━━━━━━━━━━━━━━━━━━━━━━━━━━━━━━━━━━\u001b[0m \u001b[32m0.2/11.7 MB\u001b[0m \u001b[31m9.4 MB/s\u001b[0m eta \u001b[36m0:00:02\u001b[0m"
     ]
    },
    {
     "name": "stdout",
     "output_type": "stream",
     "text": [
      "\r",
      "\u001b[2K     \u001b[91m━━\u001b[0m\u001b[90m╺\u001b[0m\u001b[90m━━━━━━━━━━━━━━━━━━━━━━━━━━━━━━━━━━━━━\u001b[0m \u001b[32m0.7/11.7 MB\u001b[0m \u001b[31m9.6 MB/s\u001b[0m eta \u001b[36m0:00:02\u001b[0m"
     ]
    },
    {
     "name": "stdout",
     "output_type": "stream",
     "text": [
      "\r",
      "\u001b[2K     \u001b[91m━━━\u001b[0m\u001b[91m╸\u001b[0m\u001b[90m━━━━━━━━━━━━━━━━━━━━━━━━━━━━━━━━━━━━\u001b[0m \u001b[32m1.0/11.7 MB\u001b[0m \u001b[31m9.5 MB/s\u001b[0m eta \u001b[36m0:00:02\u001b[0m\r",
      "\u001b[2K     \u001b[91m━━━━━\u001b[0m\u001b[91m╸\u001b[0m\u001b[90m━━━━━━━━━━━━━━━━━━━━━━━━━━━━━━━━━━\u001b[0m \u001b[32m1.6/11.7 MB\u001b[0m \u001b[31m11.3 MB/s\u001b[0m eta \u001b[36m0:00:01\u001b[0m"
     ]
    },
    {
     "name": "stdout",
     "output_type": "stream",
     "text": [
      "\r",
      "\u001b[2K     \u001b[91m━━━━━━━\u001b[0m\u001b[90m╺\u001b[0m\u001b[90m━━━━━━━━━━━━━━━━━━━━━━━━━━━━━━━━\u001b[0m \u001b[32m2.1/11.7 MB\u001b[0m \u001b[31m11.3 MB/s\u001b[0m eta \u001b[36m0:00:01\u001b[0m"
     ]
    },
    {
     "name": "stdout",
     "output_type": "stream",
     "text": [
      "\r",
      "\u001b[2K     \u001b[91m━━━━━━━━\u001b[0m\u001b[91m╸\u001b[0m\u001b[90m━━━━━━━━━━━━━━━━━━━━━━━━━━━━━━━\u001b[0m \u001b[32m2.5/11.7 MB\u001b[0m \u001b[31m11.4 MB/s\u001b[0m eta \u001b[36m0:00:01\u001b[0m"
     ]
    },
    {
     "name": "stdout",
     "output_type": "stream",
     "text": [
      "\r",
      "\u001b[2K     \u001b[91m━━━━━━━━━━\u001b[0m\u001b[90m╺\u001b[0m\u001b[90m━━━━━━━━━━━━━━━━━━━━━━━━━━━━━\u001b[0m \u001b[32m2.9/11.7 MB\u001b[0m \u001b[31m11.5 MB/s\u001b[0m eta \u001b[36m0:00:01\u001b[0m\r",
      "\u001b[2K     \u001b[91m━━━━━━━━━━━\u001b[0m\u001b[91m╸\u001b[0m\u001b[90m━━━━━━━━━━━━━━━━━━━━━━━━━━━━\u001b[0m \u001b[32m3.4/11.7 MB\u001b[0m \u001b[31m11.5 MB/s\u001b[0m eta \u001b[36m0:00:01\u001b[0m"
     ]
    },
    {
     "name": "stdout",
     "output_type": "stream",
     "text": [
      "\r",
      "\u001b[2K     \u001b[91m━━━━━━━━━━━━━\u001b[0m\u001b[90m╺\u001b[0m\u001b[90m━━━━━━━━━━━━━━━━━━━━━━━━━━\u001b[0m \u001b[32m3.8/11.7 MB\u001b[0m \u001b[31m11.5 MB/s\u001b[0m eta \u001b[36m0:00:01\u001b[0m"
     ]
    },
    {
     "name": "stdout",
     "output_type": "stream",
     "text": [
      "\r",
      "\u001b[2K     \u001b[91m━━━━━━━━━━━━━━\u001b[0m\u001b[91m╸\u001b[0m\u001b[90m━━━━━━━━━━━━━━━━━━━━━━━━━\u001b[0m \u001b[32m4.2/11.7 MB\u001b[0m \u001b[31m11.5 MB/s\u001b[0m eta \u001b[36m0:00:01\u001b[0m\r",
      "\u001b[2K     \u001b[91m━━━━━━━━━━━━━━━━\u001b[0m\u001b[90m╺\u001b[0m\u001b[90m━━━━━━━━━━━━━━━━━━━━━━━\u001b[0m \u001b[32m4.7/11.7 MB\u001b[0m \u001b[31m11.6 MB/s\u001b[0m eta \u001b[36m0:00:01\u001b[0m"
     ]
    },
    {
     "name": "stdout",
     "output_type": "stream",
     "text": [
      "\r",
      "\u001b[2K     \u001b[91m━━━━━━━━━━━━━━━━━\u001b[0m\u001b[90m╺\u001b[0m\u001b[90m━━━━━━━━━━━━━━━━━━━━━━\u001b[0m \u001b[32m5.1/11.7 MB\u001b[0m \u001b[31m11.6 MB/s\u001b[0m eta \u001b[36m0:00:01\u001b[0m"
     ]
    },
    {
     "name": "stdout",
     "output_type": "stream",
     "text": [
      "\r",
      "\u001b[2K     \u001b[91m━━━━━━━━━━━━━━━━━━\u001b[0m\u001b[91m╸\u001b[0m\u001b[90m━━━━━━━━━━━━━━━━━━━━━\u001b[0m \u001b[32m5.6/11.7 MB\u001b[0m \u001b[31m11.6 MB/s\u001b[0m eta \u001b[36m0:00:01\u001b[0m"
     ]
    },
    {
     "name": "stdout",
     "output_type": "stream",
     "text": [
      "\r",
      "\u001b[2K     \u001b[91m━━━━━━━━━━━━━━━━━━━━\u001b[0m\u001b[90m╺\u001b[0m\u001b[90m━━━━━━━━━━━━━━━━━━━\u001b[0m \u001b[32m6.0/11.7 MB\u001b[0m \u001b[31m11.6 MB/s\u001b[0m eta \u001b[36m0:00:01\u001b[0m\r",
      "\u001b[2K     \u001b[91m━━━━━━━━━━━━━━━━━━━━━\u001b[0m\u001b[91m╸\u001b[0m\u001b[90m━━━━━━━━━━━━━━━━━━\u001b[0m \u001b[32m6.4/11.7 MB\u001b[0m \u001b[31m11.6 MB/s\u001b[0m eta \u001b[36m0:00:01\u001b[0m"
     ]
    },
    {
     "name": "stdout",
     "output_type": "stream",
     "text": [
      "\r",
      "\u001b[2K     \u001b[91m━━━━━━━━━━━━━━━━━━━━━━━\u001b[0m\u001b[90m╺\u001b[0m\u001b[90m━━━━━━━━━━━━━━━━\u001b[0m \u001b[32m6.9/11.7 MB\u001b[0m \u001b[31m11.6 MB/s\u001b[0m eta \u001b[36m0:00:01\u001b[0m"
     ]
    },
    {
     "name": "stdout",
     "output_type": "stream",
     "text": [
      "\r",
      "\u001b[2K     \u001b[91m━━━━━━━━━━━━━━━━━━━━━━━━\u001b[0m\u001b[91m╸\u001b[0m\u001b[90m━━━━━━━━━━━━━━━\u001b[0m \u001b[32m7.2/11.7 MB\u001b[0m \u001b[31m11.6 MB/s\u001b[0m eta \u001b[36m0:00:01\u001b[0m"
     ]
    },
    {
     "name": "stdout",
     "output_type": "stream",
     "text": [
      "\r",
      "\u001b[2K     \u001b[91m━━━━━━━━━━━━━━━━━━━━━━━━━━\u001b[0m\u001b[90m╺\u001b[0m\u001b[90m━━━━━━━━━━━━━\u001b[0m \u001b[32m7.7/11.7 MB\u001b[0m \u001b[31m11.6 MB/s\u001b[0m eta \u001b[36m0:00:01\u001b[0m\r",
      "\u001b[2K     \u001b[91m━━━━━━━━━━━━━━━━━━━━━━━━━━━\u001b[0m\u001b[91m╸\u001b[0m\u001b[90m━━━━━━━━━━━━\u001b[0m \u001b[32m8.2/11.7 MB\u001b[0m \u001b[31m11.6 MB/s\u001b[0m eta \u001b[36m0:00:01\u001b[0m"
     ]
    },
    {
     "name": "stdout",
     "output_type": "stream",
     "text": [
      "\r",
      "\u001b[2K     \u001b[91m━━━━━━━━━━━━━━━━━━━━━━━━━━━━━\u001b[0m\u001b[90m╺\u001b[0m\u001b[90m━━━━━━━━━━\u001b[0m \u001b[32m8.6/11.7 MB\u001b[0m \u001b[31m11.5 MB/s\u001b[0m eta \u001b[36m0:00:01\u001b[0m"
     ]
    },
    {
     "name": "stdout",
     "output_type": "stream",
     "text": [
      "\r",
      "\u001b[2K     \u001b[91m━━━━━━━━━━━━━━━━━━━━━━━━━━━━━━\u001b[0m\u001b[91m╸\u001b[0m\u001b[90m━━━━━━━━━\u001b[0m \u001b[32m9.0/11.7 MB\u001b[0m \u001b[31m11.4 MB/s\u001b[0m eta \u001b[36m0:00:01\u001b[0m"
     ]
    },
    {
     "name": "stdout",
     "output_type": "stream",
     "text": [
      "\r",
      "\u001b[2K     \u001b[91m━━━━━━━━━━━━━━━━━━━━━━━━━━━━━━━━\u001b[0m\u001b[90m╺\u001b[0m\u001b[90m━━━━━━━\u001b[0m \u001b[32m9.4/11.7 MB\u001b[0m \u001b[31m11.4 MB/s\u001b[0m eta \u001b[36m0:00:01\u001b[0m\r",
      "\u001b[2K     \u001b[91m━━━━━━━━━━━━━━━━━━━━━━━━━━━━━━━━━\u001b[0m\u001b[91m╸\u001b[0m\u001b[90m━━━━━━\u001b[0m \u001b[32m9.9/11.7 MB\u001b[0m \u001b[31m11.3 MB/s\u001b[0m eta \u001b[36m0:00:01\u001b[0m"
     ]
    },
    {
     "name": "stdout",
     "output_type": "stream",
     "text": [
      "\r",
      "\u001b[2K     \u001b[91m━━━━━━━━━━━━━━━━━━━━━━━━━━━━━━━━━━━\u001b[0m\u001b[90m╺\u001b[0m\u001b[90m━━━━\u001b[0m \u001b[32m10.3/11.7 MB\u001b[0m \u001b[31m11.4 MB/s\u001b[0m eta \u001b[36m0:00:01\u001b[0m"
     ]
    },
    {
     "name": "stdout",
     "output_type": "stream",
     "text": [
      "\r",
      "\u001b[2K     \u001b[91m━━━━━━━━━━━━━━━━━━━━━━━━━━━━━━━━━━━━\u001b[0m\u001b[91m╸\u001b[0m\u001b[90m━━━\u001b[0m \u001b[32m10.7/11.7 MB\u001b[0m \u001b[31m11.4 MB/s\u001b[0m eta \u001b[36m0:00:01\u001b[0m"
     ]
    },
    {
     "name": "stdout",
     "output_type": "stream",
     "text": [
      "\r",
      "\u001b[2K     \u001b[91m━━━━━━━━━━━━━━━━━━━━━━━━━━━━━━━━━━━━━━\u001b[0m\u001b[90m╺\u001b[0m\u001b[90m━\u001b[0m \u001b[32m11.2/11.7 MB\u001b[0m \u001b[31m11.5 MB/s\u001b[0m eta \u001b[36m0:00:01\u001b[0m\r",
      "\u001b[2K     \u001b[91m━━━━━━━━━━━━━━━━━━━━━━━━━━━━━━━━━━━━━━━\u001b[0m\u001b[91m╸\u001b[0m \u001b[32m11.6/11.7 MB\u001b[0m \u001b[31m11.5 MB/s\u001b[0m eta \u001b[36m0:00:01\u001b[0m"
     ]
    },
    {
     "name": "stdout",
     "output_type": "stream",
     "text": [
      "\r",
      "\u001b[2K     \u001b[91m━━━━━━━━━━━━━━━━━━━━━━━━━━━━━━━━━━━━━━━\u001b[0m\u001b[91m╸\u001b[0m \u001b[32m11.7/11.7 MB\u001b[0m \u001b[31m11.4 MB/s\u001b[0m eta \u001b[36m0:00:01\u001b[0m"
     ]
    },
    {
     "name": "stdout",
     "output_type": "stream",
     "text": [
      "\r",
      "\u001b[2K     \u001b[91m━━━━━━━━━━━━━━━━━━━━━━━━━━━━━━━━━━━━━━━\u001b[0m\u001b[91m╸\u001b[0m \u001b[32m11.7/11.7 MB\u001b[0m \u001b[31m11.4 MB/s\u001b[0m eta \u001b[36m0:00:01\u001b[0m"
     ]
    },
    {
     "name": "stdout",
     "output_type": "stream",
     "text": [
      "\r",
      "\u001b[2K     \u001b[91m━━━━━━━━━━━━━━━━━━━━━━━━━━━━━━━━━━━━━━━\u001b[0m\u001b[91m╸\u001b[0m \u001b[32m11.7/11.7 MB\u001b[0m \u001b[31m11.4 MB/s\u001b[0m eta \u001b[36m0:00:01\u001b[0m\r",
      "\u001b[2K     \u001b[90m━━━━━━━━━━━━━━━━━━━━━━━━━━━━━━━━━━━━━━━━\u001b[0m \u001b[32m11.7/11.7 MB\u001b[0m \u001b[31m9.9 MB/s\u001b[0m eta \u001b[36m0:00:00\u001b[0m\r\n",
      "\u001b[?25h"
     ]
    },
    {
     "name": "stdout",
     "output_type": "stream",
     "text": [
      "Requirement already satisfied: pytz>=2020.1 in /opt/conda/lib/python3.9/site-packages (from pandas) (2021.3)\r\n",
      "Requirement already satisfied: numpy>=1.18.5 in /opt/conda/lib/python3.9/site-packages (from pandas) (1.22.4)\r\n",
      "Requirement already satisfied: python-dateutil>=2.8.1 in /opt/conda/lib/python3.9/site-packages (from pandas) (2.8.2)\r\n",
      "Requirement already satisfied: six>=1.5 in /opt/conda/lib/python3.9/site-packages (from python-dateutil>=2.8.1->pandas) (1.16.0)\r\n"
     ]
    },
    {
     "name": "stdout",
     "output_type": "stream",
     "text": [
      "Installing collected packages: pandas\r\n"
     ]
    },
    {
     "name": "stdout",
     "output_type": "stream",
     "text": [
      "Successfully installed pandas-1.4.3\r\n",
      "\u001b[33mWARNING: Running pip as the 'root' user can result in broken permissions and conflicting behaviour with the system package manager. It is recommended to use a virtual environment instead: https://pip.pypa.io/warnings/venv\u001b[0m\u001b[33m\r\n",
      "\u001b[0m"
     ]
    }
   ],
   "source": [
    "!pip install pandas\n",
    "\n",
    "import pandas as pd"
   ]
  },
  {
   "cell_type": "code",
   "execution_count": 3,
   "metadata": {
    "execution": {
     "iopub.execute_input": "2022-06-23T14:52:41.728479Z",
     "iopub.status.busy": "2022-06-23T14:52:41.728081Z",
     "iopub.status.idle": "2022-06-23T14:52:42.004071Z",
     "shell.execute_reply": "2022-06-23T14:52:42.003113Z"
    }
   },
   "outputs": [],
   "source": [
    "Ano_exercicio = 2019\n",
    "url = 'https://www.governotransparente.com.br/transparencia/api/v1/json/exercicios/4507490'\n",
    "exercicio = pd.read_json(url)\n",
    "\n",
    "versao = 'v1'\n",
    "codigo = '4507490'\n",
    "page = '1'\n",
    "pagesize = '100000'\n",
    "exercicio = str(exercicio[exercicio['nome'] == Ano_exercicio]['id'][1])\n",
    "inicio = '01/01/2019'\n",
    "fim = '01/01/2020'\n",
    "covid = 'False'"
   ]
  },
  {
   "cell_type": "code",
   "execution_count": 4,
   "metadata": {
    "execution": {
     "iopub.execute_input": "2022-06-23T14:52:42.047479Z",
     "iopub.status.busy": "2022-06-23T14:52:42.046481Z",
     "iopub.status.idle": "2022-06-23T14:52:42.054898Z",
     "shell.execute_reply": "2022-06-23T14:52:42.053944Z"
    }
   },
   "outputs": [
    {
     "data": {
      "text/plain": [
       "'https://www.governotransparente.com.br/transparencia/api/v1/json/pagamentos/4507490?page=1&pagesize=100000&exer=2&inicio=01/01/2019&fim=01/01/2020&covid=False'"
      ]
     },
     "execution_count": 4,
     "metadata": {},
     "output_type": "execute_result"
    }
   ],
   "source": [
    "url = 'https://www.governotransparente.com.br/transparencia/api/{0}/json/pagamentos/{1}?page={2}&pagesize={3}&exer={4}&inicio={5}&fim={6}&covid={7}'.format(versao, codigo, page, pagesize, exercicio, inicio, fim, covid)\n",
    "url"
   ]
  },
  {
   "cell_type": "code",
   "execution_count": 5,
   "metadata": {
    "execution": {
     "iopub.execute_input": "2022-06-23T14:52:42.097489Z",
     "iopub.status.busy": "2022-06-23T14:52:42.097037Z",
     "iopub.status.idle": "2022-06-23T14:52:49.925057Z",
     "shell.execute_reply": "2022-06-23T14:52:49.923986Z"
    }
   },
   "outputs": [],
   "source": [
    "df = pd.read_json(url)"
   ]
  },
  {
   "cell_type": "code",
   "execution_count": 6,
   "metadata": {
    "execution": {
     "iopub.execute_input": "2022-06-23T14:52:49.981990Z",
     "iopub.status.busy": "2022-06-23T14:52:49.981504Z",
     "iopub.status.idle": "2022-06-23T14:52:50.007474Z",
     "shell.execute_reply": "2022-06-23T14:52:50.006401Z"
    }
   },
   "outputs": [
    {
     "data": {
      "text/html": [
       "<div>\n",
       "<style scoped>\n",
       "    .dataframe tbody tr th:only-of-type {\n",
       "        vertical-align: middle;\n",
       "    }\n",
       "\n",
       "    .dataframe tbody tr th {\n",
       "        vertical-align: top;\n",
       "    }\n",
       "\n",
       "    .dataframe thead th {\n",
       "        text-align: right;\n",
       "    }\n",
       "</style>\n",
       "<table border=\"1\" class=\"dataframe\">\n",
       "  <thead>\n",
       "    <tr style=\"text-align: right;\">\n",
       "      <th></th>\n",
       "      <th>dataMovimento</th>\n",
       "      <th>numeroDocumento</th>\n",
       "      <th>numeroEmpenho</th>\n",
       "      <th>credor</th>\n",
       "      <th>cnpjcpf</th>\n",
       "      <th>naturezaDaDespesa</th>\n",
       "      <th>modalidadeLicitacao</th>\n",
       "      <th>registro</th>\n",
       "      <th>valor</th>\n",
       "      <th>idOrgao</th>\n",
       "      <th>idElem</th>\n",
       "      <th>idEmpenho</th>\n",
       "    </tr>\n",
       "  </thead>\n",
       "  <tbody>\n",
       "    <tr>\n",
       "      <th>0</th>\n",
       "      <td>02/01/2019</td>\n",
       "      <td>2010004</td>\n",
       "      <td>2010161</td>\n",
       "      <td>BANCO BRADESCO\\n S/A</td>\n",
       "      <td>XX.X46.948/\\n0001-12</td>\n",
       "      <td>3.3.90.39.00 -\\n Outros serv. \\nde terc. pesso...</td>\n",
       "      <td>Outros/não se aplica</td>\n",
       "      <td>Realizado</td>\n",
       "      <td>64,84</td>\n",
       "      <td>142</td>\n",
       "      <td>3719</td>\n",
       "      <td>235019</td>\n",
       "    </tr>\n",
       "    <tr>\n",
       "      <th>1</th>\n",
       "      <td>02/01/2019</td>\n",
       "      <td>2010005</td>\n",
       "      <td>2010155</td>\n",
       "      <td>BANCO DA AMAZÔ\\nNIA S.A</td>\n",
       "      <td>XX.X02.979/\\n0001-44</td>\n",
       "      <td>3.3.90.39.00 -\\n Outros serv. \\nde terc. pesso...</td>\n",
       "      <td>Outros/não se aplica</td>\n",
       "      <td>Realizado</td>\n",
       "      <td>3.787,80</td>\n",
       "      <td>142</td>\n",
       "      <td>3719</td>\n",
       "      <td>234219</td>\n",
       "    </tr>\n",
       "    <tr>\n",
       "      <th>2</th>\n",
       "      <td>02/01/2019</td>\n",
       "      <td>2010002</td>\n",
       "      <td>2010160</td>\n",
       "      <td>BANCO DO BRASI\\nL S/A</td>\n",
       "      <td>XX.X00.000/\\n3691-95</td>\n",
       "      <td>3.3.90.39.00 -\\n Outros serv. \\nde terc. pesso...</td>\n",
       "      <td>Outros/não se aplica</td>\n",
       "      <td>Realizado</td>\n",
       "      <td>168,00</td>\n",
       "      <td>142</td>\n",
       "      <td>3719</td>\n",
       "      <td>235319</td>\n",
       "    </tr>\n",
       "    <tr>\n",
       "      <th>3</th>\n",
       "      <td>02/01/2019</td>\n",
       "      <td>2010007</td>\n",
       "      <td>2010150</td>\n",
       "      <td>BANCO DO BRASI\\nL S/A</td>\n",
       "      <td>XX.X00.000/\\n3691-95</td>\n",
       "      <td>3.3.90.39.00 -\\n Outros serv. \\nde terc. pesso...</td>\n",
       "      <td>Outros/não se aplica</td>\n",
       "      <td>Realizado</td>\n",
       "      <td>190,00</td>\n",
       "      <td>142</td>\n",
       "      <td>3719</td>\n",
       "      <td>233619</td>\n",
       "    </tr>\n",
       "    <tr>\n",
       "      <th>4</th>\n",
       "      <td>02/01/2019</td>\n",
       "      <td>2010003</td>\n",
       "      <td>2010167</td>\n",
       "      <td>BANCO DO ESTAD\\nO DO PARÁ S.A</td>\n",
       "      <td>XX.X13.711/\\n0043-67</td>\n",
       "      <td>3.3.90.39.00 -\\n Outros serv. \\nde terc. pesso...</td>\n",
       "      <td>Outros/não se aplica</td>\n",
       "      <td>Realizado</td>\n",
       "      <td>6,00</td>\n",
       "      <td>142</td>\n",
       "      <td>3719</td>\n",
       "      <td>235819</td>\n",
       "    </tr>\n",
       "  </tbody>\n",
       "</table>\n",
       "</div>"
      ],
      "text/plain": [
       "  dataMovimento  numeroDocumento  numeroEmpenho  \\\n",
       "0    02/01/2019          2010004        2010161   \n",
       "1    02/01/2019          2010005        2010155   \n",
       "2    02/01/2019          2010002        2010160   \n",
       "3    02/01/2019          2010007        2010150   \n",
       "4    02/01/2019          2010003        2010167   \n",
       "\n",
       "                          credor               cnpjcpf  \\\n",
       "0           BANCO BRADESCO\\n S/A  XX.X46.948/\\n0001-12   \n",
       "1        BANCO DA AMAZÔ\\nNIA S.A  XX.X02.979/\\n0001-44   \n",
       "2          BANCO DO BRASI\\nL S/A  XX.X00.000/\\n3691-95   \n",
       "3          BANCO DO BRASI\\nL S/A  XX.X00.000/\\n3691-95   \n",
       "4  BANCO DO ESTAD\\nO DO PARÁ S.A  XX.X13.711/\\n0043-67   \n",
       "\n",
       "                                   naturezaDaDespesa   modalidadeLicitacao  \\\n",
       "0  3.3.90.39.00 -\\n Outros serv. \\nde terc. pesso...  Outros/não se aplica   \n",
       "1  3.3.90.39.00 -\\n Outros serv. \\nde terc. pesso...  Outros/não se aplica   \n",
       "2  3.3.90.39.00 -\\n Outros serv. \\nde terc. pesso...  Outros/não se aplica   \n",
       "3  3.3.90.39.00 -\\n Outros serv. \\nde terc. pesso...  Outros/não se aplica   \n",
       "4  3.3.90.39.00 -\\n Outros serv. \\nde terc. pesso...  Outros/não se aplica   \n",
       "\n",
       "    registro     valor  idOrgao  idElem  idEmpenho  \n",
       "0  Realizado     64,84      142    3719     235019  \n",
       "1  Realizado  3.787,80      142    3719     234219  \n",
       "2  Realizado    168,00      142    3719     235319  \n",
       "3  Realizado    190,00      142    3719     233619  \n",
       "4  Realizado      6,00      142    3719     235819  "
      ]
     },
     "execution_count": 6,
     "metadata": {},
     "output_type": "execute_result"
    }
   ],
   "source": [
    "df.head()"
   ]
  },
  {
   "cell_type": "code",
   "execution_count": 7,
   "metadata": {
    "execution": {
     "iopub.execute_input": "2022-06-23T14:52:50.050773Z",
     "iopub.status.busy": "2022-06-23T14:52:50.050369Z",
     "iopub.status.idle": "2022-06-23T14:52:50.540831Z",
     "shell.execute_reply": "2022-06-23T14:52:50.539816Z"
    }
   },
   "outputs": [],
   "source": [
    "colunas = df.columns\n",
    "\n",
    "for c in colunas:\n",
    "    df[c] = df[c].apply(lambda x:str(x).replace('\\n',''))"
   ]
  },
  {
   "cell_type": "code",
   "execution_count": 8,
   "metadata": {
    "execution": {
     "iopub.execute_input": "2022-06-23T14:52:50.618724Z",
     "iopub.status.busy": "2022-06-23T14:52:50.618261Z",
     "iopub.status.idle": "2022-06-23T14:52:50.651288Z",
     "shell.execute_reply": "2022-06-23T14:52:50.649744Z"
    }
   },
   "outputs": [
    {
     "data": {
      "text/html": [
       "<div>\n",
       "<style scoped>\n",
       "    .dataframe tbody tr th:only-of-type {\n",
       "        vertical-align: middle;\n",
       "    }\n",
       "\n",
       "    .dataframe tbody tr th {\n",
       "        vertical-align: top;\n",
       "    }\n",
       "\n",
       "    .dataframe thead th {\n",
       "        text-align: right;\n",
       "    }\n",
       "</style>\n",
       "<table border=\"1\" class=\"dataframe\">\n",
       "  <thead>\n",
       "    <tr style=\"text-align: right;\">\n",
       "      <th></th>\n",
       "      <th>dataMovimento</th>\n",
       "      <th>numeroDocumento</th>\n",
       "      <th>numeroEmpenho</th>\n",
       "      <th>credor</th>\n",
       "      <th>cnpjcpf</th>\n",
       "      <th>naturezaDaDespesa</th>\n",
       "      <th>modalidadeLicitacao</th>\n",
       "      <th>registro</th>\n",
       "      <th>valor</th>\n",
       "      <th>idOrgao</th>\n",
       "      <th>idElem</th>\n",
       "      <th>idEmpenho</th>\n",
       "    </tr>\n",
       "  </thead>\n",
       "  <tbody>\n",
       "    <tr>\n",
       "      <th>0</th>\n",
       "      <td>02/01/2019</td>\n",
       "      <td>2010004</td>\n",
       "      <td>2010161</td>\n",
       "      <td>BANCO BRADESCO S/A</td>\n",
       "      <td>XX.X46.948/0001-12</td>\n",
       "      <td>3.3.90.39.00 - Outros serv. de terc. pessoa ju...</td>\n",
       "      <td>Outros/não se aplica</td>\n",
       "      <td>Realizado</td>\n",
       "      <td>64,84</td>\n",
       "      <td>142</td>\n",
       "      <td>3719</td>\n",
       "      <td>235019</td>\n",
       "    </tr>\n",
       "    <tr>\n",
       "      <th>1</th>\n",
       "      <td>02/01/2019</td>\n",
       "      <td>2010005</td>\n",
       "      <td>2010155</td>\n",
       "      <td>BANCO DA AMAZÔNIA S.A</td>\n",
       "      <td>XX.X02.979/0001-44</td>\n",
       "      <td>3.3.90.39.00 - Outros serv. de terc. pessoa ju...</td>\n",
       "      <td>Outros/não se aplica</td>\n",
       "      <td>Realizado</td>\n",
       "      <td>3.787,80</td>\n",
       "      <td>142</td>\n",
       "      <td>3719</td>\n",
       "      <td>234219</td>\n",
       "    </tr>\n",
       "    <tr>\n",
       "      <th>2</th>\n",
       "      <td>02/01/2019</td>\n",
       "      <td>2010002</td>\n",
       "      <td>2010160</td>\n",
       "      <td>BANCO DO BRASIL S/A</td>\n",
       "      <td>XX.X00.000/3691-95</td>\n",
       "      <td>3.3.90.39.00 - Outros serv. de terc. pessoa ju...</td>\n",
       "      <td>Outros/não se aplica</td>\n",
       "      <td>Realizado</td>\n",
       "      <td>168,00</td>\n",
       "      <td>142</td>\n",
       "      <td>3719</td>\n",
       "      <td>235319</td>\n",
       "    </tr>\n",
       "    <tr>\n",
       "      <th>3</th>\n",
       "      <td>02/01/2019</td>\n",
       "      <td>2010007</td>\n",
       "      <td>2010150</td>\n",
       "      <td>BANCO DO BRASIL S/A</td>\n",
       "      <td>XX.X00.000/3691-95</td>\n",
       "      <td>3.3.90.39.00 - Outros serv. de terc. pessoa ju...</td>\n",
       "      <td>Outros/não se aplica</td>\n",
       "      <td>Realizado</td>\n",
       "      <td>190,00</td>\n",
       "      <td>142</td>\n",
       "      <td>3719</td>\n",
       "      <td>233619</td>\n",
       "    </tr>\n",
       "    <tr>\n",
       "      <th>4</th>\n",
       "      <td>02/01/2019</td>\n",
       "      <td>2010003</td>\n",
       "      <td>2010167</td>\n",
       "      <td>BANCO DO ESTADO DO PARÁ S.A</td>\n",
       "      <td>XX.X13.711/0043-67</td>\n",
       "      <td>3.3.90.39.00 - Outros serv. de terc. pessoa ju...</td>\n",
       "      <td>Outros/não se aplica</td>\n",
       "      <td>Realizado</td>\n",
       "      <td>6,00</td>\n",
       "      <td>142</td>\n",
       "      <td>3719</td>\n",
       "      <td>235819</td>\n",
       "    </tr>\n",
       "  </tbody>\n",
       "</table>\n",
       "</div>"
      ],
      "text/plain": [
       "  dataMovimento numeroDocumento numeroEmpenho                       credor  \\\n",
       "0    02/01/2019         2010004       2010161           BANCO BRADESCO S/A   \n",
       "1    02/01/2019         2010005       2010155        BANCO DA AMAZÔNIA S.A   \n",
       "2    02/01/2019         2010002       2010160          BANCO DO BRASIL S/A   \n",
       "3    02/01/2019         2010007       2010150          BANCO DO BRASIL S/A   \n",
       "4    02/01/2019         2010003       2010167  BANCO DO ESTADO DO PARÁ S.A   \n",
       "\n",
       "              cnpjcpf                                  naturezaDaDespesa  \\\n",
       "0  XX.X46.948/0001-12  3.3.90.39.00 - Outros serv. de terc. pessoa ju...   \n",
       "1  XX.X02.979/0001-44  3.3.90.39.00 - Outros serv. de terc. pessoa ju...   \n",
       "2  XX.X00.000/3691-95  3.3.90.39.00 - Outros serv. de terc. pessoa ju...   \n",
       "3  XX.X00.000/3691-95  3.3.90.39.00 - Outros serv. de terc. pessoa ju...   \n",
       "4  XX.X13.711/0043-67  3.3.90.39.00 - Outros serv. de terc. pessoa ju...   \n",
       "\n",
       "    modalidadeLicitacao   registro     valor idOrgao idElem idEmpenho  \n",
       "0  Outros/não se aplica  Realizado     64,84     142   3719    235019  \n",
       "1  Outros/não se aplica  Realizado  3.787,80     142   3719    234219  \n",
       "2  Outros/não se aplica  Realizado    168,00     142   3719    235319  \n",
       "3  Outros/não se aplica  Realizado    190,00     142   3719    233619  \n",
       "4  Outros/não se aplica  Realizado      6,00     142   3719    235819  "
      ]
     },
     "execution_count": 8,
     "metadata": {},
     "output_type": "execute_result"
    }
   ],
   "source": [
    "df.head()"
   ]
  }
 ],
 "metadata": {
  "interpreter": {
   "hash": "31c343df0307e317f338e13842f1848929a1168821279cd78d86c2cef5573c6f"
  },
  "kernelspec": {
   "display_name": "Python 3",
   "language": "python",
   "name": "orchest-kernel-1d416f9b-f8d3-4737-adea-6b1e9873c803"
  },
  "language_info": {
   "codemirror_mode": {
    "name": "ipython",
    "version": 3
   },
   "file_extension": ".py",
   "mimetype": "text/x-python",
   "name": "python",
   "nbconvert_exporter": "python",
   "pygments_lexer": "ipython3",
   "version": "3.9.10"
  }
 },
 "nbformat": 4,
 "nbformat_minor": 4
}
