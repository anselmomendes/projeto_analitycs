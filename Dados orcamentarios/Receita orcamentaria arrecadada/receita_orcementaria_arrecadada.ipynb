{
 "cells": [
  {
   "cell_type": "code",
   "execution_count": 1,
   "metadata": {
    "execution": {
     "iopub.execute_input": "2022-06-23T15:01:40.662012Z",
     "iopub.status.busy": "2022-06-23T15:01:40.661116Z",
     "iopub.status.idle": "2022-06-23T15:01:40.717269Z",
     "shell.execute_reply": "2022-06-23T15:01:40.715658Z"
    },
    "tags": []
   },
   "outputs": [
    {
     "data": {
      "text/plain": [
       "'\\nParâmetros:\\n● versao - versão da API (Obrigatório)\\n● codigo - identificador interno da entidade (Obrigatório)\\n● page - número da página\\n● pagesize - número máximo de registros para retornar em uma consulta\\n● exer - identificador do exercício (veja a API 2 ) (Obrigatório)\\n● inicio - data de início no formato dd/mm/aaaa (Obrigatório)\\n● fim - data final no formato dd/mm/aaaa (Obrigatório)\\n● covid - informa se é para retornar apenas dados referentes ao enfrentamento à COVID-19. Valores\\npossíveis: true ou false (valor padrão é false).\\n'"
      ]
     },
     "execution_count": 1,
     "metadata": {},
     "output_type": "execute_result"
    }
   ],
   "source": [
    "'''\n",
    "Parâmetros:\n",
    "● versao - versão da API (Obrigatório)\n",
    "● codigo - identificador interno da entidade (Obrigatório)\n",
    "● page - número da página\n",
    "● pagesize - número máximo de registros para retornar em uma consulta\n",
    "● exer - identificador do exercício (veja a API 2 ) (Obrigatório)\n",
    "● inicio - data de início no formato dd/mm/aaaa (Obrigatório)\n",
    "● fim - data final no formato dd/mm/aaaa (Obrigatório)\n",
    "● covid - informa se é para retornar apenas dados referentes ao enfrentamento à COVID-19. Valores\n",
    "possíveis: true ou false (valor padrão é false).\n",
    "'''"
   ]
  },
  {
   "cell_type": "code",
   "execution_count": 2,
   "metadata": {
    "execution": {
     "iopub.execute_input": "2022-06-23T15:01:40.760793Z",
     "iopub.status.busy": "2022-06-23T15:01:40.760399Z",
     "iopub.status.idle": "2022-06-23T15:01:54.922813Z",
     "shell.execute_reply": "2022-06-23T15:01:54.921707Z"
    }
   },
   "outputs": [
    {
     "name": "stdout",
     "output_type": "stream",
     "text": [
      "Collecting pandas\r\n"
     ]
    },
    {
     "name": "stdout",
     "output_type": "stream",
     "text": [
      "  Downloading pandas-1.4.3-cp39-cp39-manylinux_2_17_x86_64.manylinux2014_x86_64.whl (11.7 MB)\r\n",
      "\u001b[?25l     \u001b[90m━━━━━━━━━━━━━━━━━━━━━━━━━━━━━━━━━━━━━━━━\u001b[0m \u001b[32m0.0/11.7 MB\u001b[0m \u001b[31m?\u001b[0m eta \u001b[36m-:--:--\u001b[0m"
     ]
    },
    {
     "name": "stdout",
     "output_type": "stream",
     "text": [
      "\r",
      "\u001b[2K     \u001b[91m╸\u001b[0m\u001b[90m━━━━━━━━━━━━━━━━━━━━━━━━━━━━━━━━━━━━━━━\u001b[0m \u001b[32m0.2/11.7 MB\u001b[0m \u001b[31m4.9 MB/s\u001b[0m eta \u001b[36m0:00:03\u001b[0m\r",
      "\u001b[2K     \u001b[91m━\u001b[0m\u001b[90m╺\u001b[0m\u001b[90m━━━━━━━━━━━━━━━━━━━━━━━━━━━━━━━━━━━━━━\u001b[0m \u001b[32m0.4/11.7 MB\u001b[0m \u001b[31m5.6 MB/s\u001b[0m eta \u001b[36m0:00:03\u001b[0m"
     ]
    },
    {
     "name": "stdout",
     "output_type": "stream",
     "text": [
      "\r",
      "\u001b[2K     \u001b[91m━━\u001b[0m\u001b[91m╸\u001b[0m\u001b[90m━━━━━━━━━━━━━━━━━━━━━━━━━━━━━━━━━━━━━\u001b[0m \u001b[32m0.9/11.7 MB\u001b[0m \u001b[31m8.9 MB/s\u001b[0m eta \u001b[36m0:00:02\u001b[0m"
     ]
    },
    {
     "name": "stdout",
     "output_type": "stream",
     "text": [
      "\r",
      "\u001b[2K     \u001b[91m━━━━\u001b[0m\u001b[91m╸\u001b[0m\u001b[90m━━━━━━━━━━━━━━━━━━━━━━━━━━━━━━━━━━━\u001b[0m \u001b[32m1.4/11.7 MB\u001b[0m \u001b[31m9.5 MB/s\u001b[0m eta \u001b[36m0:00:02\u001b[0m"
     ]
    },
    {
     "name": "stdout",
     "output_type": "stream",
     "text": [
      "\r",
      "\u001b[2K     \u001b[91m━━━━━\u001b[0m\u001b[91m╸\u001b[0m\u001b[90m━━━━━━━━━━━━━━━━━━━━━━━━━━━━━━━━━━\u001b[0m \u001b[32m1.7/11.7 MB\u001b[0m \u001b[31m9.0 MB/s\u001b[0m eta \u001b[36m0:00:02\u001b[0m\r",
      "\u001b[2K     \u001b[91m━━━━━━━\u001b[0m\u001b[90m╺\u001b[0m\u001b[90m━━━━━━━━━━━━━━━━━━━━━━━━━━━━━━━━\u001b[0m \u001b[32m2.1/11.7 MB\u001b[0m \u001b[31m9.3 MB/s\u001b[0m eta \u001b[36m0:00:02\u001b[0m"
     ]
    },
    {
     "name": "stdout",
     "output_type": "stream",
     "text": [
      "\r",
      "\u001b[2K     \u001b[91m━━━━━━━━\u001b[0m\u001b[91m╸\u001b[0m\u001b[90m━━━━━━━━━━━━━━━━━━━━━━━━━━━━━━━\u001b[0m \u001b[32m2.5/11.7 MB\u001b[0m \u001b[31m9.6 MB/s\u001b[0m eta \u001b[36m0:00:01\u001b[0m"
     ]
    },
    {
     "name": "stdout",
     "output_type": "stream",
     "text": [
      "\r",
      "\u001b[2K     \u001b[91m━━━━━━━━━━\u001b[0m\u001b[90m╺\u001b[0m\u001b[90m━━━━━━━━━━━━━━━━━━━━━━━━━━━━━\u001b[0m \u001b[32m3.0/11.7 MB\u001b[0m \u001b[31m9.8 MB/s\u001b[0m eta \u001b[36m0:00:01\u001b[0m"
     ]
    },
    {
     "name": "stdout",
     "output_type": "stream",
     "text": [
      "\r",
      "\u001b[2K     \u001b[91m━━━━━━━━━━━\u001b[0m\u001b[91m╸\u001b[0m\u001b[90m━━━━━━━━━━━━━━━━━━━━━━━━━━━━\u001b[0m \u001b[32m3.4/11.7 MB\u001b[0m \u001b[31m9.9 MB/s\u001b[0m eta \u001b[36m0:00:01\u001b[0m\r",
      "\u001b[2K     \u001b[91m━━━━━━━━━━━━\u001b[0m\u001b[91m╸\u001b[0m\u001b[90m━━━━━━━━━━━━━━━━━━━━━━━━━━━\u001b[0m \u001b[32m3.7/11.7 MB\u001b[0m \u001b[31m9.8 MB/s\u001b[0m eta \u001b[36m0:00:01\u001b[0m"
     ]
    },
    {
     "name": "stdout",
     "output_type": "stream",
     "text": [
      "\r",
      "\u001b[2K     \u001b[91m━━━━━━━━━━━━━━\u001b[0m\u001b[90m╺\u001b[0m\u001b[90m━━━━━━━━━━━━━━━━━━━━━━━━━\u001b[0m \u001b[32m4.2/11.7 MB\u001b[0m \u001b[31m10.0 MB/s\u001b[0m eta \u001b[36m0:00:01\u001b[0m"
     ]
    },
    {
     "name": "stdout",
     "output_type": "stream",
     "text": [
      "\r",
      "\u001b[2K     \u001b[91m━━━━━━━━━━━━━━━\u001b[0m\u001b[91m╸\u001b[0m\u001b[90m━━━━━━━━━━━━━━━━━━━━━━━━\u001b[0m \u001b[32m4.6/11.7 MB\u001b[0m \u001b[31m10.1 MB/s\u001b[0m eta \u001b[36m0:00:01\u001b[0m\r",
      "\u001b[2K     \u001b[91m━━━━━━━━━━━━━━━━━\u001b[0m\u001b[90m╺\u001b[0m\u001b[90m━━━━━━━━━━━━━━━━━━━━━━\u001b[0m \u001b[32m5.0/11.7 MB\u001b[0m \u001b[31m10.2 MB/s\u001b[0m eta \u001b[36m0:00:01\u001b[0m"
     ]
    },
    {
     "name": "stdout",
     "output_type": "stream",
     "text": [
      "\r",
      "\u001b[2K     \u001b[91m━━━━━━━━━━━━━━━━━━\u001b[0m\u001b[90m╺\u001b[0m\u001b[90m━━━━━━━━━━━━━━━━━━━━━\u001b[0m \u001b[32m5.4/11.7 MB\u001b[0m \u001b[31m10.3 MB/s\u001b[0m eta \u001b[36m0:00:01\u001b[0m"
     ]
    },
    {
     "name": "stdout",
     "output_type": "stream",
     "text": [
      "\r",
      "\u001b[2K     \u001b[91m━━━━━━━━━━━━━━━━━━━\u001b[0m\u001b[90m╺\u001b[0m\u001b[90m━━━━━━━━━━━━━━━━━━━━\u001b[0m \u001b[32m5.7/11.7 MB\u001b[0m \u001b[31m10.0 MB/s\u001b[0m eta \u001b[36m0:00:01\u001b[0m"
     ]
    },
    {
     "name": "stdout",
     "output_type": "stream",
     "text": [
      "\r",
      "\u001b[2K     \u001b[91m━━━━━━━━━━━━━━━━━━━━\u001b[0m\u001b[91m╸\u001b[0m\u001b[90m━━━━━━━━━━━━━━━━━━━\u001b[0m \u001b[32m6.1/11.7 MB\u001b[0m \u001b[31m10.1 MB/s\u001b[0m eta \u001b[36m0:00:01\u001b[0m\r",
      "\u001b[2K     \u001b[91m━━━━━━━━━━━━━━━━━━━━━━\u001b[0m\u001b[90m╺\u001b[0m\u001b[90m━━━━━━━━━━━━━━━━━\u001b[0m \u001b[32m6.5/11.7 MB\u001b[0m \u001b[31m10.2 MB/s\u001b[0m eta \u001b[36m0:00:01\u001b[0m"
     ]
    },
    {
     "name": "stdout",
     "output_type": "stream",
     "text": [
      "\r",
      "\u001b[2K     \u001b[91m━━━━━━━━━━━━━━━━━━━━━━━\u001b[0m\u001b[91m╸\u001b[0m\u001b[90m━━━━━━━━━━━━━━━━\u001b[0m \u001b[32m7.0/11.7 MB\u001b[0m \u001b[31m10.3 MB/s\u001b[0m eta \u001b[36m0:00:01\u001b[0m"
     ]
    },
    {
     "name": "stdout",
     "output_type": "stream",
     "text": [
      "\r",
      "\u001b[2K     \u001b[91m━━━━━━━━━━━━━━━━━━━━━━━━━\u001b[0m\u001b[90m╺\u001b[0m\u001b[90m━━━━━━━━━━━━━━\u001b[0m \u001b[32m7.3/11.7 MB\u001b[0m \u001b[31m10.2 MB/s\u001b[0m eta \u001b[36m0:00:01\u001b[0m"
     ]
    },
    {
     "name": "stdout",
     "output_type": "stream",
     "text": [
      "\r",
      "\u001b[2K     \u001b[91m━━━━━━━━━━━━━━━━━━━━━━━━━━\u001b[0m\u001b[90m╺\u001b[0m\u001b[90m━━━━━━━━━━━━━\u001b[0m \u001b[32m7.7/11.7 MB\u001b[0m \u001b[31m10.2 MB/s\u001b[0m eta \u001b[36m0:00:01\u001b[0m\r",
      "\u001b[2K     \u001b[91m━━━━━━━━━━━━━━━━━━━━━━━━━━━\u001b[0m\u001b[91m╸\u001b[0m\u001b[90m━━━━━━━━━━━━\u001b[0m \u001b[32m8.1/11.7 MB\u001b[0m \u001b[31m10.3 MB/s\u001b[0m eta \u001b[36m0:00:01\u001b[0m"
     ]
    },
    {
     "name": "stdout",
     "output_type": "stream",
     "text": [
      "\r",
      "\u001b[2K     \u001b[91m━━━━━━━━━━━━━━━━━━━━━━━━━━━━━\u001b[0m\u001b[90m╺\u001b[0m\u001b[90m━━━━━━━━━━\u001b[0m \u001b[32m8.6/11.7 MB\u001b[0m \u001b[31m10.3 MB/s\u001b[0m eta \u001b[36m0:00:01\u001b[0m"
     ]
    },
    {
     "name": "stdout",
     "output_type": "stream",
     "text": [
      "\r",
      "\u001b[2K     \u001b[91m━━━━━━━━━━━━━━━━━━━━━━━━━━━━━━\u001b[0m\u001b[91m╸\u001b[0m\u001b[90m━━━━━━━━━\u001b[0m \u001b[32m9.0/11.7 MB\u001b[0m \u001b[31m10.4 MB/s\u001b[0m eta \u001b[36m0:00:01\u001b[0m"
     ]
    },
    {
     "name": "stdout",
     "output_type": "stream",
     "text": [
      "\r",
      "\u001b[2K     \u001b[91m━━━━━━━━━━━━━━━━━━━━━━━━━━━━━━━━\u001b[0m\u001b[90m╺\u001b[0m\u001b[90m━━━━━━━\u001b[0m \u001b[32m9.5/11.7 MB\u001b[0m \u001b[31m10.4 MB/s\u001b[0m eta \u001b[36m0:00:01\u001b[0m\r",
      "\u001b[2K     \u001b[91m━━━━━━━━━━━━━━━━━━━━━━━━━━━━━━━━━\u001b[0m\u001b[91m╸\u001b[0m\u001b[90m━━━━━━\u001b[0m \u001b[32m9.9/11.7 MB\u001b[0m \u001b[31m10.4 MB/s\u001b[0m eta \u001b[36m0:00:01\u001b[0m"
     ]
    },
    {
     "name": "stdout",
     "output_type": "stream",
     "text": [
      "\r",
      "\u001b[2K     \u001b[91m━━━━━━━━━━━━━━━━━━━━━━━━━━━━━━━━━━━\u001b[0m\u001b[91m╸\u001b[0m\u001b[90m━━━━\u001b[0m \u001b[32m10.4/11.7 MB\u001b[0m \u001b[31m10.7 MB/s\u001b[0m eta \u001b[36m0:00:01\u001b[0m"
     ]
    },
    {
     "name": "stdout",
     "output_type": "stream",
     "text": [
      "\r",
      "\u001b[2K     \u001b[91m━━━━━━━━━━━━━━━━━━━━━━━━━━━━━━━━━━━━━\u001b[0m\u001b[90m╺\u001b[0m\u001b[90m━━\u001b[0m \u001b[32m10.8/11.7 MB\u001b[0m \u001b[31m10.9 MB/s\u001b[0m eta \u001b[36m0:00:01\u001b[0m"
     ]
    },
    {
     "name": "stdout",
     "output_type": "stream",
     "text": [
      "\r",
      "\u001b[2K     \u001b[91m━━━━━━━━━━━━━━━━━━━━━━━━━━━━━━━━━━━━━━\u001b[0m\u001b[91m╸\u001b[0m\u001b[90m━\u001b[0m \u001b[32m11.3/11.7 MB\u001b[0m \u001b[31m10.9 MB/s\u001b[0m eta \u001b[36m0:00:01\u001b[0m"
     ]
    },
    {
     "name": "stdout",
     "output_type": "stream",
     "text": [
      "\r",
      "\u001b[2K     \u001b[91m━━━━━━━━━━━━━━━━━━━━━━━━━━━━━━━━━━━━━━━\u001b[0m\u001b[91m╸\u001b[0m \u001b[32m11.7/11.7 MB\u001b[0m \u001b[31m10.9 MB/s\u001b[0m eta \u001b[36m0:00:01\u001b[0m\r",
      "\u001b[2K     \u001b[91m━━━━━━━━━━━━━━━━━━━━━━━━━━━━━━━━━━━━━━━\u001b[0m\u001b[91m╸\u001b[0m \u001b[32m11.7/11.7 MB\u001b[0m \u001b[31m10.9 MB/s\u001b[0m eta \u001b[36m0:00:01\u001b[0m"
     ]
    },
    {
     "name": "stdout",
     "output_type": "stream",
     "text": [
      "\r",
      "\u001b[2K     \u001b[91m━━━━━━━━━━━━━━━━━━━━━━━━━━━━━━━━━━━━━━━\u001b[0m\u001b[91m╸\u001b[0m \u001b[32m11.7/11.7 MB\u001b[0m \u001b[31m10.9 MB/s\u001b[0m eta \u001b[36m0:00:01\u001b[0m"
     ]
    },
    {
     "name": "stdout",
     "output_type": "stream",
     "text": [
      "\r",
      "\u001b[2K     \u001b[91m━━━━━━━━━━━━━━━━━━━━━━━━━━━━━━━━━━━━━━━\u001b[0m\u001b[91m╸\u001b[0m \u001b[32m11.7/11.7 MB\u001b[0m \u001b[31m10.9 MB/s\u001b[0m eta \u001b[36m0:00:01\u001b[0m\r",
      "\u001b[2K     \u001b[90m━━━━━━━━━━━━━━━━━━━━━━━━━━━━━━━━━━━━━━━━\u001b[0m \u001b[32m11.7/11.7 MB\u001b[0m \u001b[31m9.4 MB/s\u001b[0m eta \u001b[36m0:00:00\u001b[0m\r\n",
      "\u001b[?25h"
     ]
    },
    {
     "name": "stdout",
     "output_type": "stream",
     "text": [
      "Requirement already satisfied: numpy>=1.18.5 in /opt/conda/lib/python3.9/site-packages (from pandas) (1.22.4)\r\n",
      "Requirement already satisfied: python-dateutil>=2.8.1 in /opt/conda/lib/python3.9/site-packages (from pandas) (2.8.2)\r\n",
      "Requirement already satisfied: pytz>=2020.1 in /opt/conda/lib/python3.9/site-packages (from pandas) (2021.3)\r\n",
      "Requirement already satisfied: six>=1.5 in /opt/conda/lib/python3.9/site-packages (from python-dateutil>=2.8.1->pandas) (1.16.0)\r\n"
     ]
    },
    {
     "name": "stdout",
     "output_type": "stream",
     "text": [
      "Installing collected packages: pandas\r\n"
     ]
    },
    {
     "name": "stdout",
     "output_type": "stream",
     "text": [
      "Successfully installed pandas-1.4.3\r\n",
      "\u001b[33mWARNING: Running pip as the 'root' user can result in broken permissions and conflicting behaviour with the system package manager. It is recommended to use a virtual environment instead: https://pip.pypa.io/warnings/venv\u001b[0m\u001b[33m\r\n",
      "\u001b[0m"
     ]
    }
   ],
   "source": [
    "!pip install pandas\n",
    "\n",
    "import pandas as pd"
   ]
  },
  {
   "cell_type": "code",
   "execution_count": 3,
   "metadata": {
    "execution": {
     "iopub.execute_input": "2022-06-23T15:01:54.971721Z",
     "iopub.status.busy": "2022-06-23T15:01:54.970408Z",
     "iopub.status.idle": "2022-06-23T15:01:55.245152Z",
     "shell.execute_reply": "2022-06-23T15:01:55.244143Z"
    }
   },
   "outputs": [],
   "source": [
    "Ano_exercicio = 2019\n",
    "url = 'https://www.governotransparente.com.br/transparencia/api/v1/json/exercicios/4507490'\n",
    "exercicio = pd.read_json(url)\n",
    "\n",
    "versao = 'v1'\n",
    "codigo = '4507490'\n",
    "page = '1'\n",
    "pagesize = '100000'\n",
    "exercicio = str(exercicio[exercicio['nome'] == Ano_exercicio]['id'][1]) #alterar a variavel Ano_exercicio\n",
    "inicio = '01/01/2019'\n",
    "fim = '01/01/2020'\n",
    "covid = 'False'"
   ]
  },
  {
   "cell_type": "code",
   "execution_count": 4,
   "metadata": {
    "execution": {
     "iopub.execute_input": "2022-06-23T15:01:55.291370Z",
     "iopub.status.busy": "2022-06-23T15:01:55.290790Z",
     "iopub.status.idle": "2022-06-23T15:01:55.303617Z",
     "shell.execute_reply": "2022-06-23T15:01:55.302408Z"
    }
   },
   "outputs": [
    {
     "data": {
      "text/plain": [
       "'https://www.governotransparente.com.br/transparencia/api/v1/json/receitasorc/4507490?page=1&pagesize=100000&exer=2&inicio=01/01/2019&fim=01/01/2020&covid=False'"
      ]
     },
     "execution_count": 4,
     "metadata": {},
     "output_type": "execute_result"
    }
   ],
   "source": [
    "url = 'https://www.governotransparente.com.br/transparencia/api/{0}/json/receitasorc/{1}?page={2}&pagesize={3}&exer={4}&inicio={5}&fim={6}&covid={7}'.format(versao, codigo, page, pagesize, exercicio, inicio, fim, covid)\n",
    "url"
   ]
  },
  {
   "cell_type": "code",
   "execution_count": 5,
   "metadata": {
    "execution": {
     "iopub.execute_input": "2022-06-23T15:01:55.354334Z",
     "iopub.status.busy": "2022-06-23T15:01:55.353695Z",
     "iopub.status.idle": "2022-06-23T15:01:58.175320Z",
     "shell.execute_reply": "2022-06-23T15:01:58.173812Z"
    }
   },
   "outputs": [
    {
     "data": {
      "text/html": [
       "<div>\n",
       "<style scoped>\n",
       "    .dataframe tbody tr th:only-of-type {\n",
       "        vertical-align: middle;\n",
       "    }\n",
       "\n",
       "    .dataframe tbody tr th {\n",
       "        vertical-align: top;\n",
       "    }\n",
       "\n",
       "    .dataframe thead th {\n",
       "        text-align: right;\n",
       "    }\n",
       "</style>\n",
       "<table border=\"1\" class=\"dataframe\">\n",
       "  <thead>\n",
       "    <tr style=\"text-align: right;\">\n",
       "      <th></th>\n",
       "      <th>dataMovimento</th>\n",
       "      <th>numeroDocumento</th>\n",
       "      <th>codigo</th>\n",
       "      <th>contribuinte</th>\n",
       "      <th>cnpjcpf</th>\n",
       "      <th>registro</th>\n",
       "      <th>valor</th>\n",
       "      <th>especificacao</th>\n",
       "    </tr>\n",
       "  </thead>\n",
       "  <tbody>\n",
       "    <tr>\n",
       "      <th>0</th>\n",
       "      <td>01/01/2019</td>\n",
       "      <td>1010001</td>\n",
       "      <td>001.3.2.1.00.1\\n.1.10.35.90</td>\n",
       "      <td>CAIXA ECONÔMIC\\nA FEDERAL</td>\n",
       "      <td>XX.X60.305/\\n0001-04</td>\n",
       "      <td>Realizado</td>\n",
       "      <td>6,30</td>\n",
       "      <td>Rem. Dep. Banc. Rec  Vinc. - Conv. - Outros - ...</td>\n",
       "    </tr>\n",
       "    <tr>\n",
       "      <th>1</th>\n",
       "      <td>02/01/2019</td>\n",
       "      <td>2010011</td>\n",
       "      <td>001.1.1.8.01.1\\n.3.00.00.00</td>\n",
       "      <td>BANCO DO BRASI\\nL S/A</td>\n",
       "      <td>XX.X00.000/\\n3691-95</td>\n",
       "      <td>Realizado</td>\n",
       "      <td>20,19</td>\n",
       "      <td>Imposto sobre a Propriedade Predial e Territor...</td>\n",
       "    </tr>\n",
       "    <tr>\n",
       "      <th>2</th>\n",
       "      <td>02/01/2019</td>\n",
       "      <td>2010047</td>\n",
       "      <td>001.1.1.8.01.1\\n.3.00.00.00</td>\n",
       "      <td>BANCO BRADESCO\\n S/A</td>\n",
       "      <td>XX.X46.948/\\n0001-12</td>\n",
       "      <td>Realizado</td>\n",
       "      <td>440,95</td>\n",
       "      <td>Imposto sobre a Propriedade Predial e Territor...</td>\n",
       "    </tr>\n",
       "    <tr>\n",
       "      <th>3</th>\n",
       "      <td>02/01/2019</td>\n",
       "      <td>2010049</td>\n",
       "      <td>001.1.1.8.01.1\\n.4.00.00.00</td>\n",
       "      <td>BANCO DO BRASI\\nL S/A</td>\n",
       "      <td>XX.X00.000/\\n3691-95</td>\n",
       "      <td>Realizado</td>\n",
       "      <td>3,68</td>\n",
       "      <td>Imposto sobre a Propriedade Predial e Territor...</td>\n",
       "    </tr>\n",
       "    <tr>\n",
       "      <th>4</th>\n",
       "      <td>02/01/2019</td>\n",
       "      <td>2010050</td>\n",
       "      <td>001.1.1.8.01.4\\n.1.00.00.00</td>\n",
       "      <td>BANCO DO BRASI\\nL S/A</td>\n",
       "      <td>XX.X00.000/\\n3691-95</td>\n",
       "      <td>Realizado</td>\n",
       "      <td>1.934,90</td>\n",
       "      <td>Imposto Transmissão Inter Vivos Bens Imóveis e...</td>\n",
       "    </tr>\n",
       "  </tbody>\n",
       "</table>\n",
       "</div>"
      ],
      "text/plain": [
       "  dataMovimento  numeroDocumento                       codigo  \\\n",
       "0    01/01/2019          1010001  001.3.2.1.00.1\\n.1.10.35.90   \n",
       "1    02/01/2019          2010011  001.1.1.8.01.1\\n.3.00.00.00   \n",
       "2    02/01/2019          2010047  001.1.1.8.01.1\\n.3.00.00.00   \n",
       "3    02/01/2019          2010049  001.1.1.8.01.1\\n.4.00.00.00   \n",
       "4    02/01/2019          2010050  001.1.1.8.01.4\\n.1.00.00.00   \n",
       "\n",
       "                contribuinte               cnpjcpf   registro     valor  \\\n",
       "0  CAIXA ECONÔMIC\\nA FEDERAL  XX.X60.305/\\n0001-04  Realizado      6,30   \n",
       "1      BANCO DO BRASI\\nL S/A  XX.X00.000/\\n3691-95  Realizado     20,19   \n",
       "2       BANCO BRADESCO\\n S/A  XX.X46.948/\\n0001-12  Realizado    440,95   \n",
       "3      BANCO DO BRASI\\nL S/A  XX.X00.000/\\n3691-95  Realizado      3,68   \n",
       "4      BANCO DO BRASI\\nL S/A  XX.X00.000/\\n3691-95  Realizado  1.934,90   \n",
       "\n",
       "                                       especificacao  \n",
       "0  Rem. Dep. Banc. Rec  Vinc. - Conv. - Outros - ...  \n",
       "1  Imposto sobre a Propriedade Predial e Territor...  \n",
       "2  Imposto sobre a Propriedade Predial e Territor...  \n",
       "3  Imposto sobre a Propriedade Predial e Territor...  \n",
       "4  Imposto Transmissão Inter Vivos Bens Imóveis e...  "
      ]
     },
     "execution_count": 5,
     "metadata": {},
     "output_type": "execute_result"
    }
   ],
   "source": [
    "df = pd.read_json(url)\n",
    "df.head()"
   ]
  },
  {
   "cell_type": "code",
   "execution_count": 6,
   "metadata": {
    "execution": {
     "iopub.execute_input": "2022-06-23T15:01:58.248078Z",
     "iopub.status.busy": "2022-06-23T15:01:58.247632Z",
     "iopub.status.idle": "2022-06-23T15:01:58.461895Z",
     "shell.execute_reply": "2022-06-23T15:01:58.460434Z"
    }
   },
   "outputs": [
    {
     "data": {
      "text/html": [
       "<div>\n",
       "<style scoped>\n",
       "    .dataframe tbody tr th:only-of-type {\n",
       "        vertical-align: middle;\n",
       "    }\n",
       "\n",
       "    .dataframe tbody tr th {\n",
       "        vertical-align: top;\n",
       "    }\n",
       "\n",
       "    .dataframe thead th {\n",
       "        text-align: right;\n",
       "    }\n",
       "</style>\n",
       "<table border=\"1\" class=\"dataframe\">\n",
       "  <thead>\n",
       "    <tr style=\"text-align: right;\">\n",
       "      <th></th>\n",
       "      <th>dataMovimento</th>\n",
       "      <th>numeroDocumento</th>\n",
       "      <th>codigo</th>\n",
       "      <th>contribuinte</th>\n",
       "      <th>cnpjcpf</th>\n",
       "      <th>registro</th>\n",
       "      <th>valor</th>\n",
       "      <th>especificacao</th>\n",
       "    </tr>\n",
       "  </thead>\n",
       "  <tbody>\n",
       "    <tr>\n",
       "      <th>0</th>\n",
       "      <td>01/01/2019</td>\n",
       "      <td>1010001</td>\n",
       "      <td>001.3.2.1.00.1.1.10.35.90</td>\n",
       "      <td>CAIXA ECONÔMICA FEDERAL</td>\n",
       "      <td>XX.X60.305/0001-04</td>\n",
       "      <td>Realizado</td>\n",
       "      <td>6,30</td>\n",
       "      <td>Rem. Dep. Banc. Rec  Vinc. - Conv. - Outros - ...</td>\n",
       "    </tr>\n",
       "    <tr>\n",
       "      <th>1</th>\n",
       "      <td>02/01/2019</td>\n",
       "      <td>2010011</td>\n",
       "      <td>001.1.1.8.01.1.3.00.00.00</td>\n",
       "      <td>BANCO DO BRASIL S/A</td>\n",
       "      <td>XX.X00.000/3691-95</td>\n",
       "      <td>Realizado</td>\n",
       "      <td>20,19</td>\n",
       "      <td>Imposto sobre a Propriedade Predial e Territor...</td>\n",
       "    </tr>\n",
       "    <tr>\n",
       "      <th>2</th>\n",
       "      <td>02/01/2019</td>\n",
       "      <td>2010047</td>\n",
       "      <td>001.1.1.8.01.1.3.00.00.00</td>\n",
       "      <td>BANCO BRADESCO S/A</td>\n",
       "      <td>XX.X46.948/0001-12</td>\n",
       "      <td>Realizado</td>\n",
       "      <td>440,95</td>\n",
       "      <td>Imposto sobre a Propriedade Predial e Territor...</td>\n",
       "    </tr>\n",
       "    <tr>\n",
       "      <th>3</th>\n",
       "      <td>02/01/2019</td>\n",
       "      <td>2010049</td>\n",
       "      <td>001.1.1.8.01.1.4.00.00.00</td>\n",
       "      <td>BANCO DO BRASIL S/A</td>\n",
       "      <td>XX.X00.000/3691-95</td>\n",
       "      <td>Realizado</td>\n",
       "      <td>3,68</td>\n",
       "      <td>Imposto sobre a Propriedade Predial e Territor...</td>\n",
       "    </tr>\n",
       "    <tr>\n",
       "      <th>4</th>\n",
       "      <td>02/01/2019</td>\n",
       "      <td>2010050</td>\n",
       "      <td>001.1.1.8.01.4.1.00.00.00</td>\n",
       "      <td>BANCO DO BRASIL S/A</td>\n",
       "      <td>XX.X00.000/3691-95</td>\n",
       "      <td>Realizado</td>\n",
       "      <td>1934,90</td>\n",
       "      <td>Imposto Transmissão Inter Vivos Bens Imóveis e...</td>\n",
       "    </tr>\n",
       "  </tbody>\n",
       "</table>\n",
       "</div>"
      ],
      "text/plain": [
       "  dataMovimento numeroDocumento                     codigo  \\\n",
       "0    01/01/2019         1010001  001.3.2.1.00.1.1.10.35.90   \n",
       "1    02/01/2019         2010011  001.1.1.8.01.1.3.00.00.00   \n",
       "2    02/01/2019         2010047  001.1.1.8.01.1.3.00.00.00   \n",
       "3    02/01/2019         2010049  001.1.1.8.01.1.4.00.00.00   \n",
       "4    02/01/2019         2010050  001.1.1.8.01.4.1.00.00.00   \n",
       "\n",
       "              contribuinte             cnpjcpf   registro    valor  \\\n",
       "0  CAIXA ECONÔMICA FEDERAL  XX.X60.305/0001-04  Realizado     6,30   \n",
       "1      BANCO DO BRASIL S/A  XX.X00.000/3691-95  Realizado    20,19   \n",
       "2       BANCO BRADESCO S/A  XX.X46.948/0001-12  Realizado   440,95   \n",
       "3      BANCO DO BRASIL S/A  XX.X00.000/3691-95  Realizado     3,68   \n",
       "4      BANCO DO BRASIL S/A  XX.X00.000/3691-95  Realizado  1934,90   \n",
       "\n",
       "                                       especificacao  \n",
       "0  Rem. Dep. Banc. Rec  Vinc. - Conv. - Outros - ...  \n",
       "1  Imposto sobre a Propriedade Predial e Territor...  \n",
       "2  Imposto sobre a Propriedade Predial e Territor...  \n",
       "3  Imposto sobre a Propriedade Predial e Territor...  \n",
       "4  Imposto Transmissão Inter Vivos Bens Imóveis e...  "
      ]
     },
     "execution_count": 6,
     "metadata": {},
     "output_type": "execute_result"
    }
   ],
   "source": [
    "colunas = df.columns\n",
    "\n",
    "for c in colunas:\n",
    "    df[c] = df[c].apply(lambda x:str(x).replace('\\n',''))\n",
    "\n",
    "df['valor'] = df['valor'].apply(lambda x:x.replace('.',''))\n",
    "df.head()"
   ]
  },
  {
   "cell_type": "code",
   "execution_count": null,
   "metadata": {},
   "outputs": [],
   "source": []
  },
  {
   "cell_type": "code",
   "execution_count": null,
   "metadata": {},
   "outputs": [],
   "source": []
  }
 ],
 "metadata": {
  "interpreter": {
   "hash": "31c343df0307e317f338e13842f1848929a1168821279cd78d86c2cef5573c6f"
  },
  "kernelspec": {
   "display_name": "Python 3",
   "language": "python",
   "name": "orchest-kernel-1d416f9b-f8d3-4737-adea-6b1e9873c803"
  },
  "language_info": {
   "codemirror_mode": {
    "name": "ipython",
    "version": 3
   },
   "file_extension": ".py",
   "mimetype": "text/x-python",
   "name": "python",
   "nbconvert_exporter": "python",
   "pygments_lexer": "ipython3",
   "version": "3.9.10"
  }
 },
 "nbformat": 4,
 "nbformat_minor": 4
}
