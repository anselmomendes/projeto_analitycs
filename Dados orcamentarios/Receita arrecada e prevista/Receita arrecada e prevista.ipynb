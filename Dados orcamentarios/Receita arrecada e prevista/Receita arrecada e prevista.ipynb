{
 "cells": [
  {
   "cell_type": "code",
   "execution_count": 1,
   "metadata": {
    "execution": {
     "iopub.execute_input": "2022-06-22T19:21:58.866440Z",
     "iopub.status.busy": "2022-06-22T19:21:58.865442Z",
     "iopub.status.idle": "2022-06-22T19:21:59.282497Z",
     "shell.execute_reply": "2022-06-22T19:21:59.281276Z"
    }
   },
   "outputs": [
    {
     "data": {
      "text/plain": [
       "'\\nversao - versão da API (Obrigatório)\\ncodigo - identificador interno da entidade (Obrigatório)\\nexer - identificador do exercício (veja a API 2 ) (Obrigatório)\\nmes - número do mês (Obrigatório)\\ncovid - informa se é para retornar apenas dados referentes ao enfrentamento à COVID-19. Valores possíveis: true ou false (valor padrão é false).\\n'"
      ]
     },
     "execution_count": 1,
     "metadata": {},
     "output_type": "execute_result"
    }
   ],
   "source": [
    "'''\n",
    "versao - versão da API (Obrigatório)\n",
    "codigo - identificador interno da entidade (Obrigatório)\n",
    "exer - identificador do exercício (veja a API 2 ) (Obrigatório)\n",
    "mes - número do mês (Obrigatório)\n",
    "covid - informa se é para retornar apenas dados referentes ao enfrentamento à COVID-19. Valores possíveis: true ou false (valor padrão é false).\n",
    "'''"
   ]
  },
  {
   "cell_type": "code",
   "execution_count": 2,
   "metadata": {},
   "outputs": [],
   "source": [
    "!pip install pandas\n",
    "\n",
    "import orchest\n",
    "import pandas as pd"
   ]
  },
  {
   "cell_type": "code",
   "execution_count": 6,
   "metadata": {},
   "outputs": [],
   "source": [
    "Ano_exercicio = 2019\n",
    "url = 'https://www.governotransparente.com.br/transparencia/api/v1/json/exercicios/4507490'\n",
    "exercicio = pd.read_json(url)\n",
    "\n",
    "versao = 'v1'\n",
    "codigo = '4507490'\n",
    "exercicio = str(exercicio[exercicio['nome'] == Ano_exercicio]['id'][1])\n",
    "n_mes = {\"janeiro\":1 , \"fevereiro\":2 , \"março\":3 , \"abril\":4 , \"maio\":5 , \"junho\":6 , \"julho\":7 , \"agosto\":8 , \"setembro\":9 , \"outubro\":10 , \"novembro\":11 , \"dezembro\":12}\n",
    "covid = 'False'"
   ]
  },
  {
   "cell_type": "code",
   "execution_count": 8,
   "metadata": {},
   "outputs": [
    {
     "data": {
      "text/plain": [
       "'https://www.governotransparente.com.br/transparencia/api/v1/json/receitasprevarrec/4507490?exer=2&mes=1&covid=False'"
      ]
     },
     "execution_count": 8,
     "metadata": {},
     "output_type": "execute_result"
    }
   ],
   "source": [
    "url = 'https://www.governotransparente.com.br/transparencia/api/{0}/json/receitasprevarrec/{1}?exer={2}&mes={3}&covid={4}'.format(versao, codigo, exercicio, n_mes['janeiro'], covid)\n",
    "url"
   ]
  },
  {
   "cell_type": "code",
   "execution_count": 26,
   "metadata": {},
   "outputs": [
    {
     "data": {
      "text/html": [
       "<div>\n",
       "<style scoped>\n",
       "    .dataframe tbody tr th:only-of-type {\n",
       "        vertical-align: middle;\n",
       "    }\n",
       "\n",
       "    .dataframe tbody tr th {\n",
       "        vertical-align: top;\n",
       "    }\n",
       "\n",
       "    .dataframe thead th {\n",
       "        text-align: right;\n",
       "    }\n",
       "</style>\n",
       "<table border=\"1\" class=\"dataframe\">\n",
       "  <thead>\n",
       "    <tr style=\"text-align: right;\">\n",
       "      <th></th>\n",
       "      <th>codigo</th>\n",
       "      <th>especificacao</th>\n",
       "      <th>previsao</th>\n",
       "      <th>arrecadado</th>\n",
       "    </tr>\n",
       "  </thead>\n",
       "  <tbody>\n",
       "    <tr>\n",
       "      <th>0</th>\n",
       "      <td>001.1.1.3.03.1.1.00.00.00</td>\n",
       "      <td>Imposto sobre a Renda - Retido na Fonte - Trab...</td>\n",
       "      <td>48.000.000,00</td>\n",
       "      <td>2.180.293,20</td>\n",
       "    </tr>\n",
       "    <tr>\n",
       "      <th>1</th>\n",
       "      <td>001.1.1.3.03.4.1.00.00.00</td>\n",
       "      <td>Imposto sobre a Renda Retido na Fonte Outros R...</td>\n",
       "      <td>1.900.000,00</td>\n",
       "      <td>0,00</td>\n",
       "    </tr>\n",
       "    <tr>\n",
       "      <th>2</th>\n",
       "      <td>001.1.1.8.01.1.1.00.00.00</td>\n",
       "      <td>Imposto sobre a Propriedade Predial e Territor...</td>\n",
       "      <td>2.000.000,00</td>\n",
       "      <td>0,00</td>\n",
       "    </tr>\n",
       "    <tr>\n",
       "      <th>3</th>\n",
       "      <td>001.1.1.8.01.1.2.00.00.00</td>\n",
       "      <td>Imposto sobre a Propriedade Predial e Territor...</td>\n",
       "      <td>1.500,00</td>\n",
       "      <td>0,00</td>\n",
       "    </tr>\n",
       "    <tr>\n",
       "      <th>4</th>\n",
       "      <td>001.1.1.8.01.1.3.00.00.00</td>\n",
       "      <td>Imposto sobre a Propriedade Predial e Territor...</td>\n",
       "      <td>1.200.000,00</td>\n",
       "      <td>38.813,46</td>\n",
       "    </tr>\n",
       "  </tbody>\n",
       "</table>\n",
       "</div>"
      ],
      "text/plain": [
       "                      codigo  \\\n",
       "0  001.1.1.3.03.1.1.00.00.00   \n",
       "1  001.1.1.3.03.4.1.00.00.00   \n",
       "2  001.1.1.8.01.1.1.00.00.00   \n",
       "3  001.1.1.8.01.1.2.00.00.00   \n",
       "4  001.1.1.8.01.1.3.00.00.00   \n",
       "\n",
       "                                       especificacao       previsao  \\\n",
       "0  Imposto sobre a Renda - Retido na Fonte - Trab...  48.000.000,00   \n",
       "1  Imposto sobre a Renda Retido na Fonte Outros R...   1.900.000,00   \n",
       "2  Imposto sobre a Propriedade Predial e Territor...   2.000.000,00   \n",
       "3  Imposto sobre a Propriedade Predial e Territor...       1.500,00   \n",
       "4  Imposto sobre a Propriedade Predial e Territor...   1.200.000,00   \n",
       "\n",
       "     arrecadado  \n",
       "0  2.180.293,20  \n",
       "1          0,00  \n",
       "2          0,00  \n",
       "3          0,00  \n",
       "4     38.813,46  "
      ]
     },
     "execution_count": 26,
     "metadata": {},
     "output_type": "execute_result"
    }
   ],
   "source": [
    "df = pd.read_json(url)\n",
    "df.head()"
   ]
  },
  {
   "cell_type": "code",
   "execution_count": 27,
   "metadata": {},
   "outputs": [
    {
     "data": {
      "text/html": [
       "<div>\n",
       "<style scoped>\n",
       "    .dataframe tbody tr th:only-of-type {\n",
       "        vertical-align: middle;\n",
       "    }\n",
       "\n",
       "    .dataframe tbody tr th {\n",
       "        vertical-align: top;\n",
       "    }\n",
       "\n",
       "    .dataframe thead th {\n",
       "        text-align: right;\n",
       "    }\n",
       "</style>\n",
       "<table border=\"1\" class=\"dataframe\">\n",
       "  <thead>\n",
       "    <tr style=\"text-align: right;\">\n",
       "      <th></th>\n",
       "      <th>codigo</th>\n",
       "      <th>especificacao</th>\n",
       "      <th>previsao</th>\n",
       "      <th>arrecadado</th>\n",
       "    </tr>\n",
       "  </thead>\n",
       "  <tbody>\n",
       "    <tr>\n",
       "      <th>0</th>\n",
       "      <td>001.1.1.3.03.1.1.00.00.00</td>\n",
       "      <td>Imposto sobre a Renda - Retido na Fonte - Trab...</td>\n",
       "      <td>48000000,00</td>\n",
       "      <td>2180293,20</td>\n",
       "    </tr>\n",
       "    <tr>\n",
       "      <th>1</th>\n",
       "      <td>001.1.1.3.03.4.1.00.00.00</td>\n",
       "      <td>Imposto sobre a Renda Retido na Fonte Outros R...</td>\n",
       "      <td>1900000,00</td>\n",
       "      <td>0,00</td>\n",
       "    </tr>\n",
       "    <tr>\n",
       "      <th>2</th>\n",
       "      <td>001.1.1.8.01.1.1.00.00.00</td>\n",
       "      <td>Imposto sobre a Propriedade Predial e Territor...</td>\n",
       "      <td>2000000,00</td>\n",
       "      <td>0,00</td>\n",
       "    </tr>\n",
       "    <tr>\n",
       "      <th>3</th>\n",
       "      <td>001.1.1.8.01.1.2.00.00.00</td>\n",
       "      <td>Imposto sobre a Propriedade Predial e Territor...</td>\n",
       "      <td>1500,00</td>\n",
       "      <td>0,00</td>\n",
       "    </tr>\n",
       "    <tr>\n",
       "      <th>4</th>\n",
       "      <td>001.1.1.8.01.1.3.00.00.00</td>\n",
       "      <td>Imposto sobre a Propriedade Predial e Territor...</td>\n",
       "      <td>1200000,00</td>\n",
       "      <td>38813,46</td>\n",
       "    </tr>\n",
       "  </tbody>\n",
       "</table>\n",
       "</div>"
      ],
      "text/plain": [
       "                      codigo  \\\n",
       "0  001.1.1.3.03.1.1.00.00.00   \n",
       "1  001.1.1.3.03.4.1.00.00.00   \n",
       "2  001.1.1.8.01.1.1.00.00.00   \n",
       "3  001.1.1.8.01.1.2.00.00.00   \n",
       "4  001.1.1.8.01.1.3.00.00.00   \n",
       "\n",
       "                                       especificacao     previsao  arrecadado  \n",
       "0  Imposto sobre a Renda - Retido na Fonte - Trab...  48000000,00  2180293,20  \n",
       "1  Imposto sobre a Renda Retido na Fonte Outros R...   1900000,00        0,00  \n",
       "2  Imposto sobre a Propriedade Predial e Territor...   2000000,00        0,00  \n",
       "3  Imposto sobre a Propriedade Predial e Territor...      1500,00        0,00  \n",
       "4  Imposto sobre a Propriedade Predial e Territor...   1200000,00    38813,46  "
      ]
     },
     "execution_count": 27,
     "metadata": {},
     "output_type": "execute_result"
    }
   ],
   "source": [
    "df['previsao'] = df['previsao'].apply(lambda x: str(x).replace('.', ''))\n",
    "df['arrecadado'] = df['arrecadado'].apply(lambda x: str(x).replace('.', ''))\n",
    "df.head()"
   ]
  },
  {
   "cell_type": "code",
   "execution_count": 28,
   "metadata": {},
   "outputs": [
    {
     "data": {
      "text/plain": [
       "0      Imposto sobre a Renda - Retido na Fonte - Trab...\n",
       "1      Imposto sobre a Renda Retido na Fonte Outros R...\n",
       "2      Imposto sobre a Propriedade Predial e Territor...\n",
       "3      Imposto sobre a Propriedade Predial e Territor...\n",
       "4      Imposto sobre a Propriedade Predial e Territor...\n",
       "                             ...                        \n",
       "106    Transferência Financeira ICMS-Desoneração-Lc. ...\n",
       "107                                   Cota-Parte do ICMS\n",
       "108                             Cota-Parte do ICMS VERDE\n",
       "109                       Cota-Parte do IPVA - Principal\n",
       "110           Cota-Parte do IPI - Municípios - Principal\n",
       "Name: especificacao, Length: 111, dtype: object"
      ]
     },
     "execution_count": 28,
     "metadata": {},
     "output_type": "execute_result"
    }
   ],
   "source": [
    "df['especificacao'].apply(lambda x:str(x).strip())"
   ]
  },
  {
   "cell_type": "code",
   "execution_count": null,
   "metadata": {},
   "outputs": [],
   "source": [
    "orchest.output(df,\"df\")"
   ]
  }
 ],
 "metadata": {
  "interpreter": {
   "hash": "31c343df0307e317f338e13842f1848929a1168821279cd78d86c2cef5573c6f"
  },
  "kernelspec": {
   "display_name": "Python 3",
   "language": "python",
   "name": "orchest-kernel-1d416f9b-f8d3-4737-adea-6b1e9873c803"
  },
  "language_info": {
   "codemirror_mode": {
    "name": "ipython",
    "version": 3
   },
   "file_extension": ".py",
   "mimetype": "text/x-python",
   "name": "python",
   "nbconvert_exporter": "python",
   "pygments_lexer": "ipython3",
   "version": "3.9.10"
  }
 },
 "nbformat": 4,
 "nbformat_minor": 4
}
