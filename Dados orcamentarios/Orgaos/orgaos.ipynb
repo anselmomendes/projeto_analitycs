{
 "cells": [
  {
   "cell_type": "code",
   "execution_count": 1,
   "metadata": {
    "execution": {
     "iopub.execute_input": "2022-06-23T14:51:28.563982Z",
     "iopub.status.busy": "2022-06-23T14:51:28.563330Z",
     "iopub.status.idle": "2022-06-23T14:51:42.562355Z",
     "shell.execute_reply": "2022-06-23T14:51:42.561310Z"
    }
   },
   "outputs": [
    {
     "name": "stdout",
     "output_type": "stream",
     "text": [
      "Collecting pandas\r\n"
     ]
    },
    {
     "name": "stdout",
     "output_type": "stream",
     "text": [
      "  Downloading pandas-1.4.3-cp39-cp39-manylinux_2_17_x86_64.manylinux2014_x86_64.whl (11.7 MB)\r\n",
      "\u001b[?25l     \u001b[90m━━━━━━━━━━━━━━━━━━━━━━━━━━━━━━━━━━━━━━━━\u001b[0m \u001b[32m0.0/11.7 MB\u001b[0m \u001b[31m?\u001b[0m eta \u001b[36m-:--:--\u001b[0m"
     ]
    },
    {
     "name": "stdout",
     "output_type": "stream",
     "text": [
      "\r",
      "\u001b[2K     \u001b[91m╸\u001b[0m\u001b[90m━━━━━━━━━━━━━━━━━━━━━━━━━━━━━━━━━━━━━━━\u001b[0m \u001b[32m0.2/11.7 MB\u001b[0m \u001b[31m9.3 MB/s\u001b[0m eta \u001b[36m0:00:02\u001b[0m"
     ]
    },
    {
     "name": "stdout",
     "output_type": "stream",
     "text": [
      "\r",
      "\u001b[2K     \u001b[91m━━\u001b[0m\u001b[91m╸\u001b[0m\u001b[90m━━━━━━━━━━━━━━━━━━━━━━━━━━━━━━━━━━━━━\u001b[0m \u001b[32m0.8/11.7 MB\u001b[0m \u001b[31m10.7 MB/s\u001b[0m eta \u001b[36m0:00:02\u001b[0m\r",
      "\u001b[2K     \u001b[91m━━━━\u001b[0m\u001b[90m╺\u001b[0m\u001b[90m━━━━━━━━━━━━━━━━━━━━━━━━━━━━━━━━━━━\u001b[0m \u001b[32m1.2/11.7 MB\u001b[0m \u001b[31m11.0 MB/s\u001b[0m eta \u001b[36m0:00:01\u001b[0m"
     ]
    },
    {
     "name": "stdout",
     "output_type": "stream",
     "text": [
      "\r",
      "\u001b[2K     \u001b[91m━━━━━\u001b[0m\u001b[91m╸\u001b[0m\u001b[90m━━━━━━━━━━━━━━━━━━━━━━━━━━━━━━━━━━\u001b[0m \u001b[32m1.7/11.7 MB\u001b[0m \u001b[31m11.2 MB/s\u001b[0m eta \u001b[36m0:00:01\u001b[0m"
     ]
    },
    {
     "name": "stdout",
     "output_type": "stream",
     "text": [
      "\r",
      "\u001b[2K     \u001b[91m━━━━━━━\u001b[0m\u001b[90m╺\u001b[0m\u001b[90m━━━━━━━━━━━━━━━━━━━━━━━━━━━━━━━━\u001b[0m \u001b[32m2.2/11.7 MB\u001b[0m \u001b[31m11.2 MB/s\u001b[0m eta \u001b[36m0:00:01\u001b[0m"
     ]
    },
    {
     "name": "stdout",
     "output_type": "stream",
     "text": [
      "\r",
      "\u001b[2K     \u001b[91m━━━━━━━━\u001b[0m\u001b[91m╸\u001b[0m\u001b[90m━━━━━━━━━━━━━━━━━━━━━━━━━━━━━━━\u001b[0m \u001b[32m2.6/11.7 MB\u001b[0m \u001b[31m11.2 MB/s\u001b[0m eta \u001b[36m0:00:01\u001b[0m\r",
      "\u001b[2K     \u001b[91m━━━━━━━━━━\u001b[0m\u001b[90m╺\u001b[0m\u001b[90m━━━━━━━━━━━━━━━━━━━━━━━━━━━━━\u001b[0m \u001b[32m3.1/11.7 MB\u001b[0m \u001b[31m11.2 MB/s\u001b[0m eta \u001b[36m0:00:01\u001b[0m"
     ]
    },
    {
     "name": "stdout",
     "output_type": "stream",
     "text": [
      "\r",
      "\u001b[2K     \u001b[91m━━━━━━━━━━━\u001b[0m\u001b[91m╸\u001b[0m\u001b[90m━━━━━━━━━━━━━━━━━━━━━━━━━━━━\u001b[0m \u001b[32m3.5/11.7 MB\u001b[0m \u001b[31m11.3 MB/s\u001b[0m eta \u001b[36m0:00:01\u001b[0m"
     ]
    },
    {
     "name": "stdout",
     "output_type": "stream",
     "text": [
      "\r",
      "\u001b[2K     \u001b[91m━━━━━━━━━━━━━\u001b[0m\u001b[90m╺\u001b[0m\u001b[90m━━━━━━━━━━━━━━━━━━━━━━━━━━\u001b[0m \u001b[32m3.9/11.7 MB\u001b[0m \u001b[31m11.3 MB/s\u001b[0m eta \u001b[36m0:00:01\u001b[0m"
     ]
    },
    {
     "name": "stdout",
     "output_type": "stream",
     "text": [
      "\r",
      "\u001b[2K     \u001b[91m━━━━━━━━━━━━━━\u001b[0m\u001b[91m╸\u001b[0m\u001b[90m━━━━━━━━━━━━━━━━━━━━━━━━━\u001b[0m \u001b[32m4.4/11.7 MB\u001b[0m \u001b[31m11.3 MB/s\u001b[0m eta \u001b[36m0:00:01\u001b[0m\r",
      "\u001b[2K     \u001b[91m━━━━━━━━━━━━━━━━\u001b[0m\u001b[91m╸\u001b[0m\u001b[90m━━━━━━━━━━━━━━━━━━━━━━━\u001b[0m \u001b[32m4.8/11.7 MB\u001b[0m \u001b[31m11.4 MB/s\u001b[0m eta \u001b[36m0:00:01\u001b[0m"
     ]
    },
    {
     "name": "stdout",
     "output_type": "stream",
     "text": [
      "\r",
      "\u001b[2K     \u001b[91m━━━━━━━━━━━━━━━━━━\u001b[0m\u001b[90m╺\u001b[0m\u001b[90m━━━━━━━━━━━━━━━━━━━━━\u001b[0m \u001b[32m5.3/11.7 MB\u001b[0m \u001b[31m11.4 MB/s\u001b[0m eta \u001b[36m0:00:01\u001b[0m"
     ]
    },
    {
     "name": "stdout",
     "output_type": "stream",
     "text": [
      "\r",
      "\u001b[2K     \u001b[91m━━━━━━━━━━━━━━━━━━━\u001b[0m\u001b[90m╺\u001b[0m\u001b[90m━━━━━━━━━━━━━━━━━━━━\u001b[0m \u001b[32m5.7/11.7 MB\u001b[0m \u001b[31m11.4 MB/s\u001b[0m eta \u001b[36m0:00:01\u001b[0m"
     ]
    },
    {
     "name": "stdout",
     "output_type": "stream",
     "text": [
      "\r",
      "\u001b[2K     \u001b[91m━━━━━━━━━━━━━━━━━━━━\u001b[0m\u001b[91m╸\u001b[0m\u001b[90m━━━━━━━━━━━━━━━━━━━\u001b[0m \u001b[32m6.1/11.7 MB\u001b[0m \u001b[31m11.4 MB/s\u001b[0m eta \u001b[36m0:00:01\u001b[0m\r",
      "\u001b[2K     \u001b[91m━━━━━━━━━━━━━━━━━━━━━━\u001b[0m\u001b[90m╺\u001b[0m\u001b[90m━━━━━━━━━━━━━━━━━\u001b[0m \u001b[32m6.6/11.7 MB\u001b[0m \u001b[31m11.4 MB/s\u001b[0m eta \u001b[36m0:00:01\u001b[0m"
     ]
    },
    {
     "name": "stdout",
     "output_type": "stream",
     "text": [
      "\r",
      "\u001b[2K     \u001b[91m━━━━━━━━━━━━━━━━━━━━━━━\u001b[0m\u001b[91m╸\u001b[0m\u001b[90m━━━━━━━━━━━━━━━━\u001b[0m \u001b[32m7.0/11.7 MB\u001b[0m \u001b[31m11.4 MB/s\u001b[0m eta \u001b[36m0:00:01\u001b[0m"
     ]
    },
    {
     "name": "stdout",
     "output_type": "stream",
     "text": [
      "\r",
      "\u001b[2K     \u001b[91m━━━━━━━━━━━━━━━━━━━━━━━━━\u001b[0m\u001b[90m╺\u001b[0m\u001b[90m━━━━━━━━━━━━━━\u001b[0m \u001b[32m7.4/11.7 MB\u001b[0m \u001b[31m11.4 MB/s\u001b[0m eta \u001b[36m0:00:01\u001b[0m\r",
      "\u001b[2K     \u001b[91m━━━━━━━━━━━━━━━━━━━━━━━━━━\u001b[0m\u001b[91m╸\u001b[0m\u001b[90m━━━━━━━━━━━━━\u001b[0m \u001b[32m7.8/11.7 MB\u001b[0m \u001b[31m11.4 MB/s\u001b[0m eta \u001b[36m0:00:01\u001b[0m"
     ]
    },
    {
     "name": "stdout",
     "output_type": "stream",
     "text": [
      "\r",
      "\u001b[2K     \u001b[91m━━━━━━━━━━━━━━━━━━━━━━━━━━━━\u001b[0m\u001b[90m╺\u001b[0m\u001b[90m━━━━━━━━━━━\u001b[0m \u001b[32m8.3/11.7 MB\u001b[0m \u001b[31m11.4 MB/s\u001b[0m eta \u001b[36m0:00:01\u001b[0m"
     ]
    },
    {
     "name": "stdout",
     "output_type": "stream",
     "text": [
      "\r",
      "\u001b[2K     \u001b[91m━━━━━━━━━━━━━━━━━━━━━━━━━━━━━\u001b[0m\u001b[91m╸\u001b[0m\u001b[90m━━━━━━━━━━\u001b[0m \u001b[32m8.7/11.7 MB\u001b[0m \u001b[31m11.4 MB/s\u001b[0m eta \u001b[36m0:00:01\u001b[0m"
     ]
    },
    {
     "name": "stdout",
     "output_type": "stream",
     "text": [
      "\r",
      "\u001b[2K     \u001b[91m━━━━━━━━━━━━━━━━━━━━━━━━━━━━━━━\u001b[0m\u001b[90m╺\u001b[0m\u001b[90m━━━━━━━━\u001b[0m \u001b[32m9.1/11.7 MB\u001b[0m \u001b[31m11.4 MB/s\u001b[0m eta \u001b[36m0:00:01\u001b[0m\r",
      "\u001b[2K     \u001b[91m━━━━━━━━━━━━━━━━━━━━━━━━━━━━━━━━\u001b[0m\u001b[91m╸\u001b[0m\u001b[90m━━━━━━━\u001b[0m \u001b[32m9.5/11.7 MB\u001b[0m \u001b[31m11.3 MB/s\u001b[0m eta \u001b[36m0:00:01\u001b[0m"
     ]
    },
    {
     "name": "stdout",
     "output_type": "stream",
     "text": [
      "\r",
      "\u001b[2K     \u001b[91m━━━━━━━━━━━━━━━━━━━━━━━━━━━━━━━━━━\u001b[0m\u001b[90m╺\u001b[0m\u001b[90m━━━━━\u001b[0m \u001b[32m10.0/11.7 MB\u001b[0m \u001b[31m11.4 MB/s\u001b[0m eta \u001b[36m0:00:01\u001b[0m"
     ]
    },
    {
     "name": "stdout",
     "output_type": "stream",
     "text": [
      "\r",
      "\u001b[2K     \u001b[91m━━━━━━━━━━━━━━━━━━━━━━━━━━━━━━━━━━━\u001b[0m\u001b[91m╸\u001b[0m\u001b[90m━━━━\u001b[0m \u001b[32m10.4/11.7 MB\u001b[0m \u001b[31m11.4 MB/s\u001b[0m eta \u001b[36m0:00:01\u001b[0m\r",
      "\u001b[2K     \u001b[91m━━━━━━━━━━━━━━━━━━━━━━━━━━━━━━━━━━━━━\u001b[0m\u001b[90m╺\u001b[0m\u001b[90m━━\u001b[0m \u001b[32m10.8/11.7 MB\u001b[0m \u001b[31m11.5 MB/s\u001b[0m eta \u001b[36m0:00:01\u001b[0m"
     ]
    },
    {
     "name": "stdout",
     "output_type": "stream",
     "text": [
      "\r",
      "\u001b[2K     \u001b[91m━━━━━━━━━━━━━━━━━━━━━━━━━━━━━━━━━━━━━━\u001b[0m\u001b[91m╸\u001b[0m\u001b[90m━\u001b[0m \u001b[32m11.3/11.7 MB\u001b[0m \u001b[31m11.4 MB/s\u001b[0m eta \u001b[36m0:00:01\u001b[0m"
     ]
    },
    {
     "name": "stdout",
     "output_type": "stream",
     "text": [
      "\r",
      "\u001b[2K     \u001b[91m━━━━━━━━━━━━━━━━━━━━━━━━━━━━━━━━━━━━━━━\u001b[0m\u001b[91m╸\u001b[0m \u001b[32m11.7/11.7 MB\u001b[0m \u001b[31m11.5 MB/s\u001b[0m eta \u001b[36m0:00:01\u001b[0m"
     ]
    },
    {
     "name": "stdout",
     "output_type": "stream",
     "text": [
      "\r",
      "\u001b[2K     \u001b[91m━━━━━━━━━━━━━━━━━━━━━━━━━━━━━━━━━━━━━━━\u001b[0m\u001b[91m╸\u001b[0m \u001b[32m11.7/11.7 MB\u001b[0m \u001b[31m11.5 MB/s\u001b[0m eta \u001b[36m0:00:01\u001b[0m"
     ]
    },
    {
     "name": "stdout",
     "output_type": "stream",
     "text": [
      "\r",
      "\u001b[2K     \u001b[91m━━━━━━━━━━━━━━━━━━━━━━━━━━━━━━━━━━━━━━━\u001b[0m\u001b[91m╸\u001b[0m \u001b[32m11.7/11.7 MB\u001b[0m \u001b[31m11.5 MB/s\u001b[0m eta \u001b[36m0:00:01\u001b[0m\r",
      "\u001b[2K     \u001b[90m━━━━━━━━━━━━━━━━━━━━━━━━━━━━━━━━━━━━━━━━\u001b[0m \u001b[32m11.7/11.7 MB\u001b[0m \u001b[31m10.0 MB/s\u001b[0m eta \u001b[36m0:00:00\u001b[0m\r\n",
      "\u001b[?25h"
     ]
    },
    {
     "name": "stdout",
     "output_type": "stream",
     "text": [
      "Requirement already satisfied: pytz>=2020.1 in /opt/conda/lib/python3.9/site-packages (from pandas) (2021.3)\r\n"
     ]
    },
    {
     "name": "stdout",
     "output_type": "stream",
     "text": [
      "Requirement already satisfied: numpy>=1.18.5 in /opt/conda/lib/python3.9/site-packages (from pandas) (1.22.4)\r\n",
      "Requirement already satisfied: python-dateutil>=2.8.1 in /opt/conda/lib/python3.9/site-packages (from pandas) (2.8.2)\r\n",
      "Requirement already satisfied: six>=1.5 in /opt/conda/lib/python3.9/site-packages (from python-dateutil>=2.8.1->pandas) (1.16.0)\r\n"
     ]
    },
    {
     "name": "stdout",
     "output_type": "stream",
     "text": [
      "Installing collected packages: pandas\r\n"
     ]
    },
    {
     "name": "stdout",
     "output_type": "stream",
     "text": [
      "Successfully installed pandas-1.4.3\r\n",
      "\u001b[33mWARNING: Running pip as the 'root' user can result in broken permissions and conflicting behaviour with the system package manager. It is recommended to use a virtual environment instead: https://pip.pypa.io/warnings/venv\u001b[0m\u001b[33m\r\n",
      "\u001b[0m"
     ]
    }
   ],
   "source": [
    "!pip install pandas\n",
    "\n",
    "import orchest\n",
    "import pandas as pd"
   ]
  },
  {
   "cell_type": "code",
   "execution_count": 2,
   "metadata": {
    "execution": {
     "iopub.execute_input": "2022-06-23T14:51:42.605057Z",
     "iopub.status.busy": "2022-06-23T14:51:42.604599Z",
     "iopub.status.idle": "2022-06-23T14:51:42.610239Z",
     "shell.execute_reply": "2022-06-23T14:51:42.609385Z"
    }
   },
   "outputs": [],
   "source": [
    "df = pd.DataFrame()"
   ]
  },
  {
   "cell_type": "code",
   "execution_count": 3,
   "metadata": {
    "execution": {
     "iopub.execute_input": "2022-06-23T14:51:42.661149Z",
     "iopub.status.busy": "2022-06-23T14:51:42.660788Z",
     "iopub.status.idle": "2022-06-23T14:51:45.622591Z",
     "shell.execute_reply": "2022-06-23T14:51:45.620462Z"
    }
   },
   "outputs": [
    {
     "name": "stderr",
     "output_type": "stream",
     "text": [
      "/tmp/ipykernel_12/507842113.py:4: FutureWarning: The frame.append method is deprecated and will be removed from pandas in a future version. Use pandas.concat instead.\n",
      "  df = df.append(data)\n"
     ]
    },
    {
     "name": "stderr",
     "output_type": "stream",
     "text": [
      "/tmp/ipykernel_12/507842113.py:4: FutureWarning: The frame.append method is deprecated and will be removed from pandas in a future version. Use pandas.concat instead.\n",
      "  df = df.append(data)\n"
     ]
    },
    {
     "name": "stderr",
     "output_type": "stream",
     "text": [
      "/tmp/ipykernel_12/507842113.py:4: FutureWarning: The frame.append method is deprecated and will be removed from pandas in a future version. Use pandas.concat instead.\n",
      "  df = df.append(data)\n"
     ]
    },
    {
     "name": "stderr",
     "output_type": "stream",
     "text": [
      "/tmp/ipykernel_12/507842113.py:4: FutureWarning: The frame.append method is deprecated and will be removed from pandas in a future version. Use pandas.concat instead.\n",
      "  df = df.append(data)\n"
     ]
    },
    {
     "name": "stderr",
     "output_type": "stream",
     "text": [
      "/tmp/ipykernel_12/507842113.py:4: FutureWarning: The frame.append method is deprecated and will be removed from pandas in a future version. Use pandas.concat instead.\n",
      "  df = df.append(data)\n"
     ]
    },
    {
     "name": "stderr",
     "output_type": "stream",
     "text": [
      "/tmp/ipykernel_12/507842113.py:4: FutureWarning: The frame.append method is deprecated and will be removed from pandas in a future version. Use pandas.concat instead.\n",
      "  df = df.append(data)\n"
     ]
    },
    {
     "name": "stderr",
     "output_type": "stream",
     "text": [
      "/tmp/ipykernel_12/507842113.py:4: FutureWarning: The frame.append method is deprecated and will be removed from pandas in a future version. Use pandas.concat instead.\n",
      "  df = df.append(data)\n"
     ]
    },
    {
     "name": "stderr",
     "output_type": "stream",
     "text": [
      "/tmp/ipykernel_12/507842113.py:4: FutureWarning: The frame.append method is deprecated and will be removed from pandas in a future version. Use pandas.concat instead.\n",
      "  df = df.append(data)\n"
     ]
    },
    {
     "name": "stderr",
     "output_type": "stream",
     "text": [
      "/tmp/ipykernel_12/507842113.py:4: FutureWarning: The frame.append method is deprecated and will be removed from pandas in a future version. Use pandas.concat instead.\n",
      "  df = df.append(data)\n"
     ]
    },
    {
     "name": "stderr",
     "output_type": "stream",
     "text": [
      "/tmp/ipykernel_12/507842113.py:4: FutureWarning: The frame.append method is deprecated and will be removed from pandas in a future version. Use pandas.concat instead.\n",
      "  df = df.append(data)\n"
     ]
    }
   ],
   "source": [
    "for i in range(10):\n",
    "    url = 'https://www.governotransparente.com.br/transparencia/api/v1/json/4507490/orgaosdoexercicio/{}'.format(i)\n",
    "    data = pd.read_json(url)\n",
    "    df = df.append(data)\n"
   ]
  },
  {
   "cell_type": "code",
   "execution_count": 4,
   "metadata": {
    "execution": {
     "iopub.execute_input": "2022-06-23T14:51:45.718596Z",
     "iopub.status.busy": "2022-06-23T14:51:45.718270Z",
     "iopub.status.idle": "2022-06-23T14:51:45.795101Z",
     "shell.execute_reply": "2022-06-23T14:51:45.792778Z"
    }
   },
   "outputs": [
    {
     "data": {
      "text/html": [
       "<div>\n",
       "<style scoped>\n",
       "    .dataframe tbody tr th:only-of-type {\n",
       "        vertical-align: middle;\n",
       "    }\n",
       "\n",
       "    .dataframe tbody tr th {\n",
       "        vertical-align: top;\n",
       "    }\n",
       "\n",
       "    .dataframe thead th {\n",
       "        text-align: right;\n",
       "    }\n",
       "</style>\n",
       "<table border=\"1\" class=\"dataframe\">\n",
       "  <thead>\n",
       "    <tr style=\"text-align: right;\">\n",
       "      <th></th>\n",
       "      <th>id</th>\n",
       "      <th>nome</th>\n",
       "      <th>unidadesOrcamentarias</th>\n",
       "    </tr>\n",
       "  </thead>\n",
       "  <tbody>\n",
       "    <tr>\n",
       "      <th>0</th>\n",
       "      <td>201</td>\n",
       "      <td>Controladoria Geral do Município</td>\n",
       "      <td>[{'id': 215, 'nome': 'Controladoria Geral do M...</td>\n",
       "    </tr>\n",
       "    <tr>\n",
       "      <th>1</th>\n",
       "      <td>206</td>\n",
       "      <td>Fundo Manut.e Desenv.da Educação Básica</td>\n",
       "      <td>[{'id': 222, 'nome': 'FUNDEB', 'descricao': 's...</td>\n",
       "    </tr>\n",
       "    <tr>\n",
       "      <th>2</th>\n",
       "      <td>204</td>\n",
       "      <td>Fundo Mun. Integ.e Protagonismo Juvenil</td>\n",
       "      <td>[{'id': 218, 'nome': 'Fundo Mun. de Integ.e Pr...</td>\n",
       "    </tr>\n",
       "    <tr>\n",
       "      <th>3</th>\n",
       "      <td>200</td>\n",
       "      <td>Fundo Mun. da Pessoa Com Deficiência</td>\n",
       "      <td>[{'id': 214, 'nome': 'Fundo Mun. da Pessoa com...</td>\n",
       "    </tr>\n",
       "    <tr>\n",
       "      <th>4</th>\n",
       "      <td>196</td>\n",
       "      <td>Fundo Mun. de Habitacao de Inter. Social</td>\n",
       "      <td>[{'id': 210, 'nome': 'Fundo Mun. de Habitacao ...</td>\n",
       "    </tr>\n",
       "    <tr>\n",
       "      <th>5</th>\n",
       "      <td>190</td>\n",
       "      <td>Fundo Municipal de Assistência Social</td>\n",
       "      <td>[{'id': 204, 'nome': 'Fundo Municipal de Assis...</td>\n",
       "    </tr>\n",
       "    <tr>\n",
       "      <th>6</th>\n",
       "      <td>197</td>\n",
       "      <td>Fundo Municipal de Cultura</td>\n",
       "      <td>[{'id': 211, 'nome': 'Fundo Municipal de Cultu...</td>\n",
       "    </tr>\n",
       "    <tr>\n",
       "      <th>7</th>\n",
       "      <td>187</td>\n",
       "      <td>Fundo Municipal de Educação</td>\n",
       "      <td>[{'id': 201, 'nome': 'Fundo Municipal de Educa...</td>\n",
       "    </tr>\n",
       "    <tr>\n",
       "      <th>8</th>\n",
       "      <td>188</td>\n",
       "      <td>Fundo Municipal de Saúde</td>\n",
       "      <td>[{'id': 202, 'nome': 'Fundo Municipal de Saúde...</td>\n",
       "    </tr>\n",
       "    <tr>\n",
       "      <th>9</th>\n",
       "      <td>193</td>\n",
       "      <td>Fundo Municipal do Meio Ambiente</td>\n",
       "      <td>[{'id': 207, 'nome': 'Fundo Municipal do Meio ...</td>\n",
       "    </tr>\n",
       "    <tr>\n",
       "      <th>10</th>\n",
       "      <td>202</td>\n",
       "      <td>Fundo Municipal dos Direitos da Mulher</td>\n",
       "      <td>[{'id': 216, 'nome': 'Fundo Municipal dos Dire...</td>\n",
       "    </tr>\n",
       "    <tr>\n",
       "      <th>11</th>\n",
       "      <td>192</td>\n",
       "      <td>Fundo dos Dir. da Criança e Adolescente</td>\n",
       "      <td>[{'id': 206, 'nome': 'Fundo dos Dir. da Crianç...</td>\n",
       "    </tr>\n",
       "    <tr>\n",
       "      <th>12</th>\n",
       "      <td>173</td>\n",
       "      <td>Gabinete do Chefe do Poder Executivo</td>\n",
       "      <td>[{'id': 187, 'nome': 'Gabinete do Prefeito', '...</td>\n",
       "    </tr>\n",
       "    <tr>\n",
       "      <th>13</th>\n",
       "      <td>178</td>\n",
       "      <td>Procuradoria Geral do Município</td>\n",
       "      <td>[{'id': 192, 'nome': 'Procuradoria Geral do Mu...</td>\n",
       "    </tr>\n",
       "    <tr>\n",
       "      <th>14</th>\n",
       "      <td>194</td>\n",
       "      <td>Reserva de Contingência</td>\n",
       "      <td>[{'id': 208, 'nome': 'Reserva de Contingência'...</td>\n",
       "    </tr>\n",
       "    <tr>\n",
       "      <th>15</th>\n",
       "      <td>195</td>\n",
       "      <td>Sec. Munic.de Habitação e de Inter.Socia</td>\n",
       "      <td>[{'id': 209, 'nome': 'Sec.Mun.de Habitacao e d...</td>\n",
       "    </tr>\n",
       "    <tr>\n",
       "      <th>16</th>\n",
       "      <td>203</td>\n",
       "      <td>Sec.Mun.deSeg.Instit.e Defesa do Cidadao</td>\n",
       "      <td>[{'id': 217, 'nome': 'Sec.Mun.deSeg.Instit.e D...</td>\n",
       "    </tr>\n",
       "    <tr>\n",
       "      <th>17</th>\n",
       "      <td>199</td>\n",
       "      <td>Sec.de Mineração, Energia, Ciencia e Tec</td>\n",
       "      <td>[{'id': 213, 'nome': 'Sec.Mun.de Miner.Energia...</td>\n",
       "    </tr>\n",
       "    <tr>\n",
       "      <th>18</th>\n",
       "      <td>191</td>\n",
       "      <td>Secretaria Mun. de Assistência Social</td>\n",
       "      <td>[{'id': 205, 'nome': 'Secretaria Mun. de Assis...</td>\n",
       "    </tr>\n",
       "    <tr>\n",
       "      <th>19</th>\n",
       "      <td>175</td>\n",
       "      <td>Secretaria Mun. de Planejamento e Gestão</td>\n",
       "      <td>[{'id': 189, 'nome': 'Secretaria Mun. de Plane...</td>\n",
       "    </tr>\n",
       "  </tbody>\n",
       "</table>\n",
       "</div>"
      ],
      "text/plain": [
       "     id                                      nome  \\\n",
       "0   201          Controladoria Geral do Município   \n",
       "1   206   Fundo Manut.e Desenv.da Educação Básica   \n",
       "2   204   Fundo Mun. Integ.e Protagonismo Juvenil   \n",
       "3   200      Fundo Mun. da Pessoa Com Deficiência   \n",
       "4   196  Fundo Mun. de Habitacao de Inter. Social   \n",
       "5   190     Fundo Municipal de Assistência Social   \n",
       "6   197                Fundo Municipal de Cultura   \n",
       "7   187               Fundo Municipal de Educação   \n",
       "8   188                  Fundo Municipal de Saúde   \n",
       "9   193          Fundo Municipal do Meio Ambiente   \n",
       "10  202    Fundo Municipal dos Direitos da Mulher   \n",
       "11  192   Fundo dos Dir. da Criança e Adolescente   \n",
       "12  173      Gabinete do Chefe do Poder Executivo   \n",
       "13  178           Procuradoria Geral do Município   \n",
       "14  194                   Reserva de Contingência   \n",
       "15  195  Sec. Munic.de Habitação e de Inter.Socia   \n",
       "16  203  Sec.Mun.deSeg.Instit.e Defesa do Cidadao   \n",
       "17  199  Sec.de Mineração, Energia, Ciencia e Tec   \n",
       "18  191     Secretaria Mun. de Assistência Social   \n",
       "19  175  Secretaria Mun. de Planejamento e Gestão   \n",
       "\n",
       "                                unidadesOrcamentarias  \n",
       "0   [{'id': 215, 'nome': 'Controladoria Geral do M...  \n",
       "1   [{'id': 222, 'nome': 'FUNDEB', 'descricao': 's...  \n",
       "2   [{'id': 218, 'nome': 'Fundo Mun. de Integ.e Pr...  \n",
       "3   [{'id': 214, 'nome': 'Fundo Mun. da Pessoa com...  \n",
       "4   [{'id': 210, 'nome': 'Fundo Mun. de Habitacao ...  \n",
       "5   [{'id': 204, 'nome': 'Fundo Municipal de Assis...  \n",
       "6   [{'id': 211, 'nome': 'Fundo Municipal de Cultu...  \n",
       "7   [{'id': 201, 'nome': 'Fundo Municipal de Educa...  \n",
       "8   [{'id': 202, 'nome': 'Fundo Municipal de Saúde...  \n",
       "9   [{'id': 207, 'nome': 'Fundo Municipal do Meio ...  \n",
       "10  [{'id': 216, 'nome': 'Fundo Municipal dos Dire...  \n",
       "11  [{'id': 206, 'nome': 'Fundo dos Dir. da Crianç...  \n",
       "12  [{'id': 187, 'nome': 'Gabinete do Prefeito', '...  \n",
       "13  [{'id': 192, 'nome': 'Procuradoria Geral do Mu...  \n",
       "14  [{'id': 208, 'nome': 'Reserva de Contingência'...  \n",
       "15  [{'id': 209, 'nome': 'Sec.Mun.de Habitacao e d...  \n",
       "16  [{'id': 217, 'nome': 'Sec.Mun.deSeg.Instit.e D...  \n",
       "17  [{'id': 213, 'nome': 'Sec.Mun.de Miner.Energia...  \n",
       "18  [{'id': 205, 'nome': 'Secretaria Mun. de Assis...  \n",
       "19  [{'id': 189, 'nome': 'Secretaria Mun. de Plane...  "
      ]
     },
     "execution_count": 4,
     "metadata": {},
     "output_type": "execute_result"
    }
   ],
   "source": [
    "df.head(20)"
   ]
  },
  {
   "cell_type": "code",
   "execution_count": 5,
   "metadata": {
    "execution": {
     "iopub.execute_input": "2022-06-23T14:51:45.842890Z",
     "iopub.status.busy": "2022-06-23T14:51:45.842574Z",
     "iopub.status.idle": "2022-06-23T14:51:45.853056Z",
     "shell.execute_reply": "2022-06-23T14:51:45.851279Z"
    }
   },
   "outputs": [],
   "source": [
    "df['id_unidades_orcamentarias'] = df['unidadesOrcamentarias'].apply(lambda x:x[0]['id'])\n",
    "df['nome_unidades_orcamentarias'] = df['unidadesOrcamentarias'].apply(lambda x:x[0]['nome'])\n"
   ]
  },
  {
   "cell_type": "code",
   "execution_count": 6,
   "metadata": {
    "execution": {
     "iopub.execute_input": "2022-06-23T14:51:45.902862Z",
     "iopub.status.busy": "2022-06-23T14:51:45.902147Z",
     "iopub.status.idle": "2022-06-23T14:51:45.940499Z",
     "shell.execute_reply": "2022-06-23T14:51:45.938773Z"
    }
   },
   "outputs": [
    {
     "data": {
      "text/html": [
       "<div>\n",
       "<style scoped>\n",
       "    .dataframe tbody tr th:only-of-type {\n",
       "        vertical-align: middle;\n",
       "    }\n",
       "\n",
       "    .dataframe tbody tr th {\n",
       "        vertical-align: top;\n",
       "    }\n",
       "\n",
       "    .dataframe thead th {\n",
       "        text-align: right;\n",
       "    }\n",
       "</style>\n",
       "<table border=\"1\" class=\"dataframe\">\n",
       "  <thead>\n",
       "    <tr style=\"text-align: right;\">\n",
       "      <th></th>\n",
       "      <th>id</th>\n",
       "      <th>nome</th>\n",
       "      <th>id_unidades_orcamentarias</th>\n",
       "      <th>nome_unidades_orcamentarias</th>\n",
       "    </tr>\n",
       "  </thead>\n",
       "  <tbody>\n",
       "    <tr>\n",
       "      <th>0</th>\n",
       "      <td>201</td>\n",
       "      <td>Controladoria Geral do Município</td>\n",
       "      <td>215</td>\n",
       "      <td>Controladoria Geral do Município</td>\n",
       "    </tr>\n",
       "    <tr>\n",
       "      <th>1</th>\n",
       "      <td>206</td>\n",
       "      <td>Fundo Manut.e Desenv.da Educação Básica</td>\n",
       "      <td>222</td>\n",
       "      <td>FUNDEB</td>\n",
       "    </tr>\n",
       "    <tr>\n",
       "      <th>2</th>\n",
       "      <td>204</td>\n",
       "      <td>Fundo Mun. Integ.e Protagonismo Juvenil</td>\n",
       "      <td>218</td>\n",
       "      <td>Fundo Mun. de Integ.e Protag. Juvenil</td>\n",
       "    </tr>\n",
       "    <tr>\n",
       "      <th>3</th>\n",
       "      <td>200</td>\n",
       "      <td>Fundo Mun. da Pessoa Com Deficiência</td>\n",
       "      <td>214</td>\n",
       "      <td>Fundo Mun. da Pessoa com Deficiência</td>\n",
       "    </tr>\n",
       "    <tr>\n",
       "      <th>4</th>\n",
       "      <td>196</td>\n",
       "      <td>Fundo Mun. de Habitacao de Inter. Social</td>\n",
       "      <td>210</td>\n",
       "      <td>Fundo Mun. de Habitacao e Inter. Social</td>\n",
       "    </tr>\n",
       "    <tr>\n",
       "      <th>5</th>\n",
       "      <td>190</td>\n",
       "      <td>Fundo Municipal de Assistência Social</td>\n",
       "      <td>204</td>\n",
       "      <td>Fundo Municipal de Assistência Social</td>\n",
       "    </tr>\n",
       "    <tr>\n",
       "      <th>6</th>\n",
       "      <td>197</td>\n",
       "      <td>Fundo Municipal de Cultura</td>\n",
       "      <td>211</td>\n",
       "      <td>Fundo Municipal de Cultura</td>\n",
       "    </tr>\n",
       "    <tr>\n",
       "      <th>7</th>\n",
       "      <td>187</td>\n",
       "      <td>Fundo Municipal de Educação</td>\n",
       "      <td>201</td>\n",
       "      <td>Fundo Municipal de Educação</td>\n",
       "    </tr>\n",
       "    <tr>\n",
       "      <th>8</th>\n",
       "      <td>188</td>\n",
       "      <td>Fundo Municipal de Saúde</td>\n",
       "      <td>202</td>\n",
       "      <td>Fundo Municipal de Saúde</td>\n",
       "    </tr>\n",
       "    <tr>\n",
       "      <th>9</th>\n",
       "      <td>193</td>\n",
       "      <td>Fundo Municipal do Meio Ambiente</td>\n",
       "      <td>207</td>\n",
       "      <td>Fundo Municipal do Meio Ambiente</td>\n",
       "    </tr>\n",
       "    <tr>\n",
       "      <th>10</th>\n",
       "      <td>202</td>\n",
       "      <td>Fundo Municipal dos Direitos da Mulher</td>\n",
       "      <td>216</td>\n",
       "      <td>Fundo Municipal dos Direitos da Mulher</td>\n",
       "    </tr>\n",
       "    <tr>\n",
       "      <th>11</th>\n",
       "      <td>192</td>\n",
       "      <td>Fundo dos Dir. da Criança e Adolescente</td>\n",
       "      <td>206</td>\n",
       "      <td>Fundo dos Dir. da Criança e Adolescente</td>\n",
       "    </tr>\n",
       "    <tr>\n",
       "      <th>12</th>\n",
       "      <td>173</td>\n",
       "      <td>Gabinete do Chefe do Poder Executivo</td>\n",
       "      <td>187</td>\n",
       "      <td>Gabinete do Prefeito</td>\n",
       "    </tr>\n",
       "    <tr>\n",
       "      <th>13</th>\n",
       "      <td>178</td>\n",
       "      <td>Procuradoria Geral do Município</td>\n",
       "      <td>192</td>\n",
       "      <td>Procuradoria Geral do Município</td>\n",
       "    </tr>\n",
       "    <tr>\n",
       "      <th>14</th>\n",
       "      <td>194</td>\n",
       "      <td>Reserva de Contingência</td>\n",
       "      <td>208</td>\n",
       "      <td>Reserva de Contingência</td>\n",
       "    </tr>\n",
       "  </tbody>\n",
       "</table>\n",
       "</div>"
      ],
      "text/plain": [
       "     id                                      nome  id_unidades_orcamentarias  \\\n",
       "0   201          Controladoria Geral do Município                        215   \n",
       "1   206   Fundo Manut.e Desenv.da Educação Básica                        222   \n",
       "2   204   Fundo Mun. Integ.e Protagonismo Juvenil                        218   \n",
       "3   200      Fundo Mun. da Pessoa Com Deficiência                        214   \n",
       "4   196  Fundo Mun. de Habitacao de Inter. Social                        210   \n",
       "5   190     Fundo Municipal de Assistência Social                        204   \n",
       "6   197                Fundo Municipal de Cultura                        211   \n",
       "7   187               Fundo Municipal de Educação                        201   \n",
       "8   188                  Fundo Municipal de Saúde                        202   \n",
       "9   193          Fundo Municipal do Meio Ambiente                        207   \n",
       "10  202    Fundo Municipal dos Direitos da Mulher                        216   \n",
       "11  192   Fundo dos Dir. da Criança e Adolescente                        206   \n",
       "12  173      Gabinete do Chefe do Poder Executivo                        187   \n",
       "13  178           Procuradoria Geral do Município                        192   \n",
       "14  194                   Reserva de Contingência                        208   \n",
       "\n",
       "                nome_unidades_orcamentarias  \n",
       "0          Controladoria Geral do Município  \n",
       "1                                    FUNDEB  \n",
       "2     Fundo Mun. de Integ.e Protag. Juvenil  \n",
       "3      Fundo Mun. da Pessoa com Deficiência  \n",
       "4   Fundo Mun. de Habitacao e Inter. Social  \n",
       "5     Fundo Municipal de Assistência Social  \n",
       "6                Fundo Municipal de Cultura  \n",
       "7               Fundo Municipal de Educação  \n",
       "8                  Fundo Municipal de Saúde  \n",
       "9          Fundo Municipal do Meio Ambiente  \n",
       "10   Fundo Municipal dos Direitos da Mulher  \n",
       "11  Fundo dos Dir. da Criança e Adolescente  \n",
       "12                     Gabinete do Prefeito  \n",
       "13          Procuradoria Geral do Município  \n",
       "14                  Reserva de Contingência  "
      ]
     },
     "execution_count": 6,
     "metadata": {},
     "output_type": "execute_result"
    }
   ],
   "source": [
    "df = df.drop(labels = ['unidadesOrcamentarias'], axis=1)\n",
    "df.head(15)"
   ]
  },
  {
   "cell_type": "code",
   "execution_count": 7,
   "metadata": {
    "execution": {
     "iopub.execute_input": "2022-06-23T14:51:46.019144Z",
     "iopub.status.busy": "2022-06-23T14:51:46.018686Z",
     "iopub.status.idle": "2022-06-23T14:51:46.033252Z",
     "shell.execute_reply": "2022-06-23T14:51:46.032374Z"
    }
   },
   "outputs": [
    {
     "data": {
      "text/plain": [
       "0    215\n",
       "1    222\n",
       "2    218\n",
       "3    214\n",
       "4    210\n",
       "5    204\n",
       "6    211\n",
       "7    201\n",
       "8    202\n",
       "9    207\n",
       "Name: id_unidades_orcamentarias, dtype: int64"
      ]
     },
     "execution_count": 7,
     "metadata": {},
     "output_type": "execute_result"
    }
   ],
   "source": [
    "df['id_unidades_orcamentarias'].head(10)"
   ]
  },
  {
   "cell_type": "code",
   "execution_count": 8,
   "metadata": {
    "execution": {
     "iopub.execute_input": "2022-06-23T14:51:46.081753Z",
     "iopub.status.busy": "2022-06-23T14:51:46.081357Z",
     "iopub.status.idle": "2022-06-23T14:51:46.091266Z",
     "shell.execute_reply": "2022-06-23T14:51:46.089902Z"
    }
   },
   "outputs": [
    {
     "data": {
      "text/plain": [
       "0           Controladoria Geral do Município\n",
       "1                                     FUNDEB\n",
       "2      Fundo Mun. de Integ.e Protag. Juvenil\n",
       "3       Fundo Mun. da Pessoa com Deficiência\n",
       "4    Fundo Mun. de Habitacao e Inter. Social\n",
       "5      Fundo Municipal de Assistência Social\n",
       "6                 Fundo Municipal de Cultura\n",
       "7                Fundo Municipal de Educação\n",
       "8                   Fundo Municipal de Saúde\n",
       "9           Fundo Municipal do Meio Ambiente\n",
       "Name: nome_unidades_orcamentarias, dtype: object"
      ]
     },
     "execution_count": 8,
     "metadata": {},
     "output_type": "execute_result"
    }
   ],
   "source": [
    "df['nome_unidades_orcamentarias'].head(10)"
   ]
  },
  {
   "cell_type": "code",
   "execution_count": 9,
   "metadata": {
    "execution": {
     "iopub.execute_input": "2022-06-23T14:51:46.142878Z",
     "iopub.status.busy": "2022-06-23T14:51:46.142219Z",
     "iopub.status.idle": "2022-06-23T14:51:46.151871Z",
     "shell.execute_reply": "2022-06-23T14:51:46.150520Z"
    }
   },
   "outputs": [],
   "source": [
    "orchest.output(df,\"df\")"
   ]
  }
 ],
 "metadata": {
  "interpreter": {
   "hash": "31c343df0307e317f338e13842f1848929a1168821279cd78d86c2cef5573c6f"
  },
  "kernelspec": {
   "display_name": "Python 3",
   "language": "python",
   "name": "orchest-kernel-1d416f9b-f8d3-4737-adea-6b1e9873c803"
  },
  "language_info": {
   "codemirror_mode": {
    "name": "ipython",
    "version": 3
   },
   "file_extension": ".py",
   "mimetype": "text/x-python",
   "name": "python",
   "nbconvert_exporter": "python",
   "pygments_lexer": "ipython3",
   "version": "3.9.10"
  }
 },
 "nbformat": 4,
 "nbformat_minor": 4
}
