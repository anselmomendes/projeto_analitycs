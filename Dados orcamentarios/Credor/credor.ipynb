{
 "cells": [
  {
   "cell_type": "code",
   "execution_count": 73,
   "metadata": {},
   "outputs": [],
   "source": [
    "!pip install pandas\n",
    "\n",
    "import pandas as pd"
   ]
  },
  {
   "cell_type": "code",
   "execution_count": 78,
   "metadata": {},
   "outputs": [],
   "source": [
    "url = 'https://www.governotransparente.com.br/transparencia/api/v2/json/4507490/pessoas'\n",
    "df = pd.read_json(url)\n",
    "df[['Nome da Empresa', 'CNPJ']] = df['nome'].str.split(' - ', 1, expand=True)\n",
    "df.drop(columns=['nome'], inplace=True)"
   ]
  },
  {
   "cell_type": "code",
   "execution_count": 79,
   "metadata": {},
   "outputs": [],
   "source": [
    "df['CNPJ'] = df['CNPJ'].apply(lambda x: x.replace('CNPJ: ', ''))"
   ]
  },
  {
   "cell_type": "code",
   "execution_count": 82,
   "metadata": {},
   "outputs": [
    {
     "data": {
      "text/html": [
       "<div>\n",
       "<style scoped>\n",
       "    .dataframe tbody tr th:only-of-type {\n",
       "        vertical-align: middle;\n",
       "    }\n",
       "\n",
       "    .dataframe tbody tr th {\n",
       "        vertical-align: top;\n",
       "    }\n",
       "\n",
       "    .dataframe thead th {\n",
       "        text-align: right;\n",
       "    }\n",
       "</style>\n",
       "<table border=\"1\" class=\"dataframe\">\n",
       "  <thead>\n",
       "    <tr style=\"text-align: right;\">\n",
       "      <th></th>\n",
       "      <th>id</th>\n",
       "      <th>Nome da Empresa</th>\n",
       "      <th>CNPJ</th>\n",
       "    </tr>\n",
       "  </thead>\n",
       "  <tbody>\n",
       "    <tr>\n",
       "      <th>0</th>\n",
       "      <td>39233</td>\n",
       "      <td>.</td>\n",
       "      <td>XX.X40.837/0001-80 - 39233</td>\n",
       "    </tr>\n",
       "    <tr>\n",
       "      <th>1</th>\n",
       "      <td>10663</td>\n",
       "      <td>10 DE OUTUBRO CONSTRUÇÕES E SERVIÇOS LTDA</td>\n",
       "      <td>XX.X18.865/0001-28 - 10663</td>\n",
       "    </tr>\n",
       "    <tr>\n",
       "      <th>2</th>\n",
       "      <td>52648</td>\n",
       "      <td>2 P SERVIÇOS E CONSTRUÇÕES EIRELI</td>\n",
       "      <td>XX.X71.819/0001-00 - 52648</td>\n",
       "    </tr>\n",
       "    <tr>\n",
       "      <th>3</th>\n",
       "      <td>93234</td>\n",
       "      <td>2 T CONSUTORIA ASSESSORIA E SERVIÇOS EIRELI</td>\n",
       "      <td>XX.X28.042/0001-09 - 93234</td>\n",
       "    </tr>\n",
       "    <tr>\n",
       "      <th>4</th>\n",
       "      <td>95213</td>\n",
       "      <td>3 TECH FORNECIMENTO E COMERCIO EIRELI</td>\n",
       "      <td>XX.X81.414/0001-54 - 95213</td>\n",
       "    </tr>\n",
       "    <tr>\n",
       "      <th>5</th>\n",
       "      <td>67000</td>\n",
       "      <td>3F LTDA ME</td>\n",
       "      <td>XX.X84.444/0001-45 - 67000</td>\n",
       "    </tr>\n",
       "    <tr>\n",
       "      <th>6</th>\n",
       "      <td>107536</td>\n",
       "      <td>3I COM.E SERV.DE MANUT. EM EQUIP.ELETRO-MECANI...</td>\n",
       "      <td>XX.X31.758/0001-40 - 107536</td>\n",
       "    </tr>\n",
       "    <tr>\n",
       "      <th>7</th>\n",
       "      <td>93297</td>\n",
       "      <td>3M CONSTRUTORA E SERVICOS EIRELI</td>\n",
       "      <td>XX.X48.187/0001-13 - 93297</td>\n",
       "    </tr>\n",
       "    <tr>\n",
       "      <th>8</th>\n",
       "      <td>79161</td>\n",
       "      <td>4 FIT C.B DOS S.L ACADEMIA EIRELI</td>\n",
       "      <td>XX.X15.437/0001-87 - 79161</td>\n",
       "    </tr>\n",
       "    <tr>\n",
       "      <th>9</th>\n",
       "      <td>21880</td>\n",
       "      <td>4LINUX SOFTWARE E COMERCIO DE PROGRAMAS LTDA</td>\n",
       "      <td>XX.X91.152/0001-95 - 21880</td>\n",
       "    </tr>\n",
       "  </tbody>\n",
       "</table>\n",
       "</div>"
      ],
      "text/plain": [
       "       id                                    Nome da Empresa  \\\n",
       "0   39233                                                  .   \n",
       "1   10663          10 DE OUTUBRO CONSTRUÇÕES E SERVIÇOS LTDA   \n",
       "2   52648                  2 P SERVIÇOS E CONSTRUÇÕES EIRELI   \n",
       "3   93234        2 T CONSUTORIA ASSESSORIA E SERVIÇOS EIRELI   \n",
       "4   95213              3 TECH FORNECIMENTO E COMERCIO EIRELI   \n",
       "5   67000                                         3F LTDA ME   \n",
       "6  107536  3I COM.E SERV.DE MANUT. EM EQUIP.ELETRO-MECANI...   \n",
       "7   93297                   3M CONSTRUTORA E SERVICOS EIRELI   \n",
       "8   79161                  4 FIT C.B DOS S.L ACADEMIA EIRELI   \n",
       "9   21880       4LINUX SOFTWARE E COMERCIO DE PROGRAMAS LTDA   \n",
       "\n",
       "                          CNPJ  \n",
       "0   XX.X40.837/0001-80 - 39233  \n",
       "1   XX.X18.865/0001-28 - 10663  \n",
       "2   XX.X71.819/0001-00 - 52648  \n",
       "3   XX.X28.042/0001-09 - 93234  \n",
       "4   XX.X81.414/0001-54 - 95213  \n",
       "5   XX.X84.444/0001-45 - 67000  \n",
       "6  XX.X31.758/0001-40 - 107536  \n",
       "7   XX.X48.187/0001-13 - 93297  \n",
       "8   XX.X15.437/0001-87 - 79161  \n",
       "9   XX.X91.152/0001-95 - 21880  "
      ]
     },
     "execution_count": 82,
     "metadata": {},
     "output_type": "execute_result"
    }
   ],
   "source": [
    "df.head(10)"
   ]
  }
 ],
 "metadata": {
  "interpreter": {
   "hash": "31c343df0307e317f338e13842f1848929a1168821279cd78d86c2cef5573c6f"
  },
  "kernelspec": {
   "display_name": "Python 3",
   "language": "python",
   "name": "orchest-kernel-1d416f9b-f8d3-4737-adea-6b1e9873c803"
  },
  "language_info": {
   "codemirror_mode": {
    "name": "ipython",
    "version": 3
   },
   "file_extension": ".py",
   "mimetype": "text/x-python",
   "name": "python",
   "nbconvert_exporter": "python",
   "pygments_lexer": "ipython3",
   "version": "3.9.10"
  }
 },
 "nbformat": 4,
 "nbformat_minor": 4
}
